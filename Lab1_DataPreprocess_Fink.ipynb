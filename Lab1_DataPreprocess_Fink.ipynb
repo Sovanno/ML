{
 "cells": [
  {
   "cell_type": "markdown",
   "id": "91041dc3-4396-461b-bb59-b3619c5d51fe",
   "metadata": {},
   "source": [
    "Импортруем библиотеку Pandas"
   ]
  },
  {
   "cell_type": "code",
   "execution_count": 1,
   "id": "d4f4b354-b9fa-4489-a64b-9247fae4dcd7",
   "metadata": {},
   "outputs": [],
   "source": [
    "import pandas as pd"
   ]
  },
  {
   "cell_type": "markdown",
   "id": "ed3c8563-581b-46d6-bdae-b8b3e95df75e",
   "metadata": {},
   "source": [
    "Подключаем датасет"
   ]
  },
  {
   "cell_type": "code",
   "execution_count": 2,
   "id": "90eb8008-03dd-43c2-b7d0-704c7bbc8f23",
   "metadata": {},
   "outputs": [],
   "source": [
    "df = pd.read_csv('..\\data\\Dataset1.csv')"
   ]
  },
  {
   "cell_type": "markdown",
   "id": "7f2a8365-a5d4-473a-8ba9-92eaf3db79ed",
   "metadata": {},
   "source": [
    "Просмотрим первые строки датасета"
   ]
  },
  {
   "cell_type": "code",
   "execution_count": 3,
   "id": "fd0e9b7f-fff4-4750-93bc-915bcbf9e41d",
   "metadata": {},
   "outputs": [
    {
     "data": {
      "text/html": [
       "<div>\n",
       "<style scoped>\n",
       "    .dataframe tbody tr th:only-of-type {\n",
       "        vertical-align: middle;\n",
       "    }\n",
       "\n",
       "    .dataframe tbody tr th {\n",
       "        vertical-align: top;\n",
       "    }\n",
       "\n",
       "    .dataframe thead th {\n",
       "        text-align: right;\n",
       "    }\n",
       "</style>\n",
       "<table border=\"1\" class=\"dataframe\">\n",
       "  <thead>\n",
       "    <tr style=\"text-align: right;\">\n",
       "      <th></th>\n",
       "      <th>color</th>\n",
       "      <th>Director_Name</th>\n",
       "      <th>num_Critic_for_reviews</th>\n",
       "      <th>duration</th>\n",
       "      <th>director_Facebook_likes</th>\n",
       "      <th>actor_3_Facebook_likes</th>\n",
       "      <th>actor_2_name</th>\n",
       "      <th>Actor_1_Facebook_likes</th>\n",
       "      <th>gross</th>\n",
       "      <th>genres</th>\n",
       "      <th>...</th>\n",
       "      <th>num_user_for_reviews</th>\n",
       "      <th>language</th>\n",
       "      <th>country</th>\n",
       "      <th>content_rating</th>\n",
       "      <th>budget</th>\n",
       "      <th>title_year</th>\n",
       "      <th>actor_2_facebook_likes</th>\n",
       "      <th>imdb_score</th>\n",
       "      <th>aspect_ratio</th>\n",
       "      <th>movie_facebook_likes;</th>\n",
       "    </tr>\n",
       "  </thead>\n",
       "  <tbody>\n",
       "    <tr>\n",
       "      <th>0</th>\n",
       "      <td>Color</td>\n",
       "      <td>James Cameron</td>\n",
       "      <td>723.0</td>\n",
       "      <td>178.0</td>\n",
       "      <td>0.0</td>\n",
       "      <td>855.0</td>\n",
       "      <td>Joel David Moore</td>\n",
       "      <td>1000.0</td>\n",
       "      <td>760505847.0</td>\n",
       "      <td>Action|Adventure|Fantasy|Sci-Fi</td>\n",
       "      <td>...</td>\n",
       "      <td>3054.0</td>\n",
       "      <td>English</td>\n",
       "      <td>USA</td>\n",
       "      <td>PG-13</td>\n",
       "      <td>237000000.0</td>\n",
       "      <td>2009.0</td>\n",
       "      <td>936.0</td>\n",
       "      <td>7.9</td>\n",
       "      <td>1.78</td>\n",
       "      <td>33000;</td>\n",
       "    </tr>\n",
       "    <tr>\n",
       "      <th>1</th>\n",
       "      <td>Colour</td>\n",
       "      <td>Gore Verbinski</td>\n",
       "      <td>302.0</td>\n",
       "      <td>169.0</td>\n",
       "      <td>563.0</td>\n",
       "      <td>1000.0</td>\n",
       "      <td>Orlando Bloom</td>\n",
       "      <td>40000.0</td>\n",
       "      <td>309404152.0</td>\n",
       "      <td>Action|Adventure|Fantasy</td>\n",
       "      <td>...</td>\n",
       "      <td>1238.0</td>\n",
       "      <td>English</td>\n",
       "      <td>USA</td>\n",
       "      <td>PG-13</td>\n",
       "      <td>300000000.0</td>\n",
       "      <td>2007.0</td>\n",
       "      <td>5000.0</td>\n",
       "      <td>7.1</td>\n",
       "      <td>2.35</td>\n",
       "      <td>0;</td>\n",
       "    </tr>\n",
       "    <tr>\n",
       "      <th>2</th>\n",
       "      <td>Colour</td>\n",
       "      <td>Sam Mendes</td>\n",
       "      <td>602.0</td>\n",
       "      <td>148.0</td>\n",
       "      <td>0.0</td>\n",
       "      <td>161.0</td>\n",
       "      <td>Rory Kinnear</td>\n",
       "      <td>11000.0</td>\n",
       "      <td>200074175.0</td>\n",
       "      <td>Action|Adventure|Thriller</td>\n",
       "      <td>...</td>\n",
       "      <td>994.0</td>\n",
       "      <td>English</td>\n",
       "      <td>UK</td>\n",
       "      <td>PG-13</td>\n",
       "      <td>245000000.0</td>\n",
       "      <td>2015.0</td>\n",
       "      <td>393.0</td>\n",
       "      <td>6.8</td>\n",
       "      <td>2.35</td>\n",
       "      <td>85000;</td>\n",
       "    </tr>\n",
       "    <tr>\n",
       "      <th>3</th>\n",
       "      <td>Color</td>\n",
       "      <td>Christopher Nolan</td>\n",
       "      <td>813.0</td>\n",
       "      <td>164.0</td>\n",
       "      <td>22000.0</td>\n",
       "      <td>23000.0</td>\n",
       "      <td>Christian Bale</td>\n",
       "      <td>27000.0</td>\n",
       "      <td>448130642.0</td>\n",
       "      <td>Action|Thriller</td>\n",
       "      <td>...</td>\n",
       "      <td>2701.0</td>\n",
       "      <td>English</td>\n",
       "      <td>USA</td>\n",
       "      <td>PG-13</td>\n",
       "      <td>250000000.0</td>\n",
       "      <td>2012.0</td>\n",
       "      <td>23000.0</td>\n",
       "      <td>8.5</td>\n",
       "      <td>2.35</td>\n",
       "      <td>164000;</td>\n",
       "    </tr>\n",
       "    <tr>\n",
       "      <th>4</th>\n",
       "      <td>NaN</td>\n",
       "      <td>Doug Walker</td>\n",
       "      <td>NaN</td>\n",
       "      <td>NaN</td>\n",
       "      <td>131.0</td>\n",
       "      <td>NaN</td>\n",
       "      <td>Rob Walker</td>\n",
       "      <td>131.0</td>\n",
       "      <td>NaN</td>\n",
       "      <td>Documentary</td>\n",
       "      <td>...</td>\n",
       "      <td>NaN</td>\n",
       "      <td>NaN</td>\n",
       "      <td>NaN</td>\n",
       "      <td>NaN</td>\n",
       "      <td>NaN</td>\n",
       "      <td>NaN</td>\n",
       "      <td>12.0</td>\n",
       "      <td>7.1</td>\n",
       "      <td>NaN</td>\n",
       "      <td>0;</td>\n",
       "    </tr>\n",
       "    <tr>\n",
       "      <th>5</th>\n",
       "      <td>Colour</td>\n",
       "      <td>Andrew Stanton</td>\n",
       "      <td>462.0</td>\n",
       "      <td>132.0</td>\n",
       "      <td>475.0</td>\n",
       "      <td>530.0</td>\n",
       "      <td>Samantha Morton</td>\n",
       "      <td>640.0</td>\n",
       "      <td>73058679.0</td>\n",
       "      <td>Action|Adventure|Sci-Fi</td>\n",
       "      <td>...</td>\n",
       "      <td>738.0</td>\n",
       "      <td>English</td>\n",
       "      <td>USA</td>\n",
       "      <td>PG-13</td>\n",
       "      <td>263700000.0</td>\n",
       "      <td>2012.0</td>\n",
       "      <td>632.0</td>\n",
       "      <td>6.6</td>\n",
       "      <td>2.35</td>\n",
       "      <td>24000;</td>\n",
       "    </tr>\n",
       "    <tr>\n",
       "      <th>6</th>\n",
       "      <td>Color</td>\n",
       "      <td>Sam Raimi</td>\n",
       "      <td>392.0</td>\n",
       "      <td>156.0</td>\n",
       "      <td>0.0</td>\n",
       "      <td>4000.0</td>\n",
       "      <td>James Franco</td>\n",
       "      <td>24000.0</td>\n",
       "      <td>336530303.0</td>\n",
       "      <td>Action|Adventure|Romance</td>\n",
       "      <td>...</td>\n",
       "      <td>1902.0</td>\n",
       "      <td>English</td>\n",
       "      <td>USA</td>\n",
       "      <td>PG-13</td>\n",
       "      <td>258000000.0</td>\n",
       "      <td>2007.0</td>\n",
       "      <td>11000.0</td>\n",
       "      <td>6.2</td>\n",
       "      <td>2.35</td>\n",
       "      <td>0;</td>\n",
       "    </tr>\n",
       "    <tr>\n",
       "      <th>7</th>\n",
       "      <td>Color</td>\n",
       "      <td>Nathan Greno</td>\n",
       "      <td>324.0</td>\n",
       "      <td>100.0</td>\n",
       "      <td>15.0</td>\n",
       "      <td>284.0</td>\n",
       "      <td>Donna Murphy</td>\n",
       "      <td>799.0</td>\n",
       "      <td>200807262.0</td>\n",
       "      <td>Adventure|Animation|Comedy|Family|Fantasy|Musi...</td>\n",
       "      <td>...</td>\n",
       "      <td>387.0</td>\n",
       "      <td>English</td>\n",
       "      <td>USA</td>\n",
       "      <td>PG</td>\n",
       "      <td>260000000.0</td>\n",
       "      <td>2010.0</td>\n",
       "      <td>553.0</td>\n",
       "      <td>7.8</td>\n",
       "      <td>1.85</td>\n",
       "      <td>29000;</td>\n",
       "    </tr>\n",
       "    <tr>\n",
       "      <th>8</th>\n",
       "      <td>Colour</td>\n",
       "      <td>Joss Whedon</td>\n",
       "      <td>635.0</td>\n",
       "      <td>141.0</td>\n",
       "      <td>0.0</td>\n",
       "      <td>19000.0</td>\n",
       "      <td>Robert Downey Jr.</td>\n",
       "      <td>26000.0</td>\n",
       "      <td>458991599.0</td>\n",
       "      <td>Action|Adventure|Sci-Fi</td>\n",
       "      <td>...</td>\n",
       "      <td>1117.0</td>\n",
       "      <td>English</td>\n",
       "      <td>USA</td>\n",
       "      <td>PG-13</td>\n",
       "      <td>250000000.0</td>\n",
       "      <td>2015.0</td>\n",
       "      <td>21000.0</td>\n",
       "      <td>7.5</td>\n",
       "      <td>2.35</td>\n",
       "      <td>118000;</td>\n",
       "    </tr>\n",
       "    <tr>\n",
       "      <th>9</th>\n",
       "      <td>Colour</td>\n",
       "      <td>David Yates</td>\n",
       "      <td>375.0</td>\n",
       "      <td>153.0</td>\n",
       "      <td>282.0</td>\n",
       "      <td>10000.0</td>\n",
       "      <td>Daniel Radcliffe</td>\n",
       "      <td>25000.0</td>\n",
       "      <td>301956980.0</td>\n",
       "      <td>Adventure|Family|Fantasy|Mystery</td>\n",
       "      <td>...</td>\n",
       "      <td>973.0</td>\n",
       "      <td>English</td>\n",
       "      <td>UK</td>\n",
       "      <td>PG</td>\n",
       "      <td>250000000.0</td>\n",
       "      <td>2009.0</td>\n",
       "      <td>11000.0</td>\n",
       "      <td>7.5</td>\n",
       "      <td>2.35</td>\n",
       "      <td>10000;</td>\n",
       "    </tr>\n",
       "  </tbody>\n",
       "</table>\n",
       "<p>10 rows × 28 columns</p>\n",
       "</div>"
      ],
      "text/plain": [
       "    color      Director_Name  num_Critic_for_reviews  duration  \\\n",
       "0   Color      James Cameron                   723.0     178.0   \n",
       "1  Colour     Gore Verbinski                   302.0     169.0   \n",
       "2  Colour         Sam Mendes                   602.0     148.0   \n",
       "3   Color  Christopher Nolan                   813.0     164.0   \n",
       "4     NaN        Doug Walker                     NaN       NaN   \n",
       "5  Colour     Andrew Stanton                   462.0     132.0   \n",
       "6   Color          Sam Raimi                   392.0     156.0   \n",
       "7   Color       Nathan Greno                   324.0     100.0   \n",
       "8  Colour        Joss Whedon                   635.0     141.0   \n",
       "9  Colour        David Yates                   375.0     153.0   \n",
       "\n",
       "   director_Facebook_likes  actor_3_Facebook_likes       actor_2_name  \\\n",
       "0                      0.0                   855.0   Joel David Moore   \n",
       "1                    563.0                  1000.0      Orlando Bloom   \n",
       "2                      0.0                   161.0       Rory Kinnear   \n",
       "3                  22000.0                 23000.0     Christian Bale   \n",
       "4                    131.0                     NaN         Rob Walker   \n",
       "5                    475.0                   530.0    Samantha Morton   \n",
       "6                      0.0                  4000.0       James Franco   \n",
       "7                     15.0                   284.0       Donna Murphy   \n",
       "8                      0.0                 19000.0  Robert Downey Jr.   \n",
       "9                    282.0                 10000.0   Daniel Radcliffe   \n",
       "\n",
       "   Actor_1_Facebook_likes        gross  \\\n",
       "0                  1000.0  760505847.0   \n",
       "1                 40000.0  309404152.0   \n",
       "2                 11000.0  200074175.0   \n",
       "3                 27000.0  448130642.0   \n",
       "4                   131.0          NaN   \n",
       "5                   640.0   73058679.0   \n",
       "6                 24000.0  336530303.0   \n",
       "7                   799.0  200807262.0   \n",
       "8                 26000.0  458991599.0   \n",
       "9                 25000.0  301956980.0   \n",
       "\n",
       "                                              genres  ...  \\\n",
       "0                    Action|Adventure|Fantasy|Sci-Fi  ...   \n",
       "1                           Action|Adventure|Fantasy  ...   \n",
       "2                          Action|Adventure|Thriller  ...   \n",
       "3                                    Action|Thriller  ...   \n",
       "4                                        Documentary  ...   \n",
       "5                            Action|Adventure|Sci-Fi  ...   \n",
       "6                           Action|Adventure|Romance  ...   \n",
       "7  Adventure|Animation|Comedy|Family|Fantasy|Musi...  ...   \n",
       "8                            Action|Adventure|Sci-Fi  ...   \n",
       "9                   Adventure|Family|Fantasy|Mystery  ...   \n",
       "\n",
       "  num_user_for_reviews language  country  content_rating       budget  \\\n",
       "0               3054.0  English      USA           PG-13  237000000.0   \n",
       "1               1238.0  English      USA           PG-13  300000000.0   \n",
       "2                994.0  English       UK           PG-13  245000000.0   \n",
       "3               2701.0  English      USA           PG-13  250000000.0   \n",
       "4                  NaN      NaN      NaN             NaN          NaN   \n",
       "5                738.0  English      USA           PG-13  263700000.0   \n",
       "6               1902.0  English      USA           PG-13  258000000.0   \n",
       "7                387.0  English      USA              PG  260000000.0   \n",
       "8               1117.0  English      USA           PG-13  250000000.0   \n",
       "9                973.0  English       UK              PG  250000000.0   \n",
       "\n",
       "   title_year actor_2_facebook_likes imdb_score  aspect_ratio  \\\n",
       "0      2009.0                  936.0        7.9          1.78   \n",
       "1      2007.0                 5000.0        7.1          2.35   \n",
       "2      2015.0                  393.0        6.8          2.35   \n",
       "3      2012.0                23000.0        8.5          2.35   \n",
       "4         NaN                   12.0        7.1           NaN   \n",
       "5      2012.0                  632.0        6.6          2.35   \n",
       "6      2007.0                11000.0        6.2          2.35   \n",
       "7      2010.0                  553.0        7.8          1.85   \n",
       "8      2015.0                21000.0        7.5          2.35   \n",
       "9      2009.0                11000.0        7.5          2.35   \n",
       "\n",
       "  movie_facebook_likes;  \n",
       "0                33000;  \n",
       "1                    0;  \n",
       "2                85000;  \n",
       "3               164000;  \n",
       "4                    0;  \n",
       "5                24000;  \n",
       "6                    0;  \n",
       "7                29000;  \n",
       "8               118000;  \n",
       "9                10000;  \n",
       "\n",
       "[10 rows x 28 columns]"
      ]
     },
     "execution_count": 3,
     "metadata": {},
     "output_type": "execute_result"
    }
   ],
   "source": [
    "df.head(10)"
   ]
  },
  {
   "cell_type": "markdown",
   "id": "c02627c7-290a-4d42-b9b5-ac489bf5a392",
   "metadata": {},
   "source": [
    "Просмотрим информацию о колонках в датасете"
   ]
  },
  {
   "cell_type": "code",
   "execution_count": 4,
   "id": "01b57d18-5de7-4d93-8286-90e96f09539f",
   "metadata": {},
   "outputs": [
    {
     "name": "stdout",
     "output_type": "stream",
     "text": [
      "<class 'pandas.core.frame.DataFrame'>\n",
      "RangeIndex: 5043 entries, 0 to 5042\n",
      "Data columns (total 28 columns):\n",
      " #   Column                      Non-Null Count  Dtype  \n",
      "---  ------                      --------------  -----  \n",
      " 0   color                       5025 non-null   object \n",
      " 1   Director_Name               4872 non-null   object \n",
      " 2   num_Critic_for_reviews      4927 non-null   float64\n",
      " 3   duration                    4959 non-null   float64\n",
      " 4   director_Facebook_likes     4872 non-null   float64\n",
      " 5   actor_3_Facebook_likes      4953 non-null   float64\n",
      " 6   actor_2_name                4963 non-null   object \n",
      " 7   Actor_1_Facebook_likes      4968 non-null   float64\n",
      " 8   gross                       4104 non-null   float64\n",
      " 9   genres                      4974 non-null   object \n",
      " 10  actor_1_name                4968 non-null   object \n",
      " 11  movie_Title                 4974 non-null   object \n",
      " 12  num_voted_users             4974 non-null   float64\n",
      " 13   cast_total_facebook_likes  4974 non-null   float64\n",
      " 14  actor_3_name                4953 non-null   object \n",
      " 15  facenumber_in_poster        4961 non-null   float64\n",
      " 16  plot_keywords               4827 non-null   object \n",
      " 17  movie_imdb_link             4974 non-null   object \n",
      " 18  num_user_for_reviews        4956 non-null   float64\n",
      " 19  language                    4961 non-null   object \n",
      " 20  country                     4971 non-null   object \n",
      " 21  content_rating              4677 non-null   object \n",
      " 22  budget                      4494 non-null   float64\n",
      " 23  title_year                  4869 non-null   float64\n",
      " 24  actor_2_facebook_likes      4963 non-null   float64\n",
      " 25  imdb_score                  4974 non-null   float64\n",
      " 26  aspect_ratio                4654 non-null   float64\n",
      " 27  movie_facebook_likes;       4974 non-null   object \n",
      "dtypes: float64(15), object(13)\n",
      "memory usage: 1.1+ MB\n"
     ]
    }
   ],
   "source": [
    "df.info()"
   ]
  },
  {
   "cell_type": "markdown",
   "id": "a0e11f4d-ba09-4a8e-9cdd-a2e6c4242f65",
   "metadata": {},
   "source": [
    "Выведем наименования всех столбиков"
   ]
  },
  {
   "cell_type": "code",
   "execution_count": 5,
   "id": "933a2319-ede7-43c4-8b68-1e3066ae2eb0",
   "metadata": {},
   "outputs": [
    {
     "data": {
      "text/plain": [
       "Index(['color', 'Director_Name', 'num_Critic_for_reviews', 'duration',\n",
       "       'director_Facebook_likes', 'actor_3_Facebook_likes', 'actor_2_name',\n",
       "       'Actor_1_Facebook_likes', 'gross', 'genres', 'actor_1_name',\n",
       "       'movie_Title', 'num_voted_users', ' cast_total_facebook_likes',\n",
       "       'actor_3_name', 'facenumber_in_poster', 'plot_keywords',\n",
       "       'movie_imdb_link', 'num_user_for_reviews', 'language', 'country',\n",
       "       'content_rating', 'budget', 'title_year', 'actor_2_facebook_likes',\n",
       "       'imdb_score', 'aspect_ratio', 'movie_facebook_likes;'],\n",
       "      dtype='object')"
      ]
     },
     "execution_count": 5,
     "metadata": {},
     "output_type": "execute_result"
    }
   ],
   "source": [
    "df.columns"
   ]
  },
  {
   "cell_type": "markdown",
   "id": "e5e3f6ef-682d-48a1-9911-79896db71186",
   "metadata": {},
   "source": [
    "Заменим некоторые наименования столбиков, для приведения всех наименований к одинаковой форме"
   ]
  },
  {
   "cell_type": "code",
   "execution_count": 6,
   "id": "ad912c04-d849-4137-9c23-547ab8149d81",
   "metadata": {},
   "outputs": [],
   "source": [
    "df = df.rename (\n",
    "    columns = {\n",
    "        'Director_Name' : 'director_name',\n",
    "        'num_Critic_for_reviews' : 'num_critic_for_reviews',\n",
    "        'director_Facebook_likes' : 'director_facebook_likes',\n",
    "        'actor_3_Facebook_likes' : 'actor_3_facebook_likes',\n",
    "        'Actor_1_Facebook_likes' : 'actor_1_facebook_likes',\n",
    "        'movie_Title' : 'movie_title',\n",
    "        ' cast_total_facebook_likes' : 'cast_total_facebook_likes',\n",
    "        'movie_facebook_likes;' : 'movie_facebook_likes'\n",
    "    }\n",
    ")"
   ]
  },
  {
   "cell_type": "markdown",
   "id": "5c01f0ed-21cf-43d2-9ee4-faac08265da1",
   "metadata": {},
   "source": [
    "Проверим результат замены"
   ]
  },
  {
   "cell_type": "code",
   "execution_count": 7,
   "id": "5478a520-654a-4c11-bb3f-a4112779e874",
   "metadata": {},
   "outputs": [
    {
     "data": {
      "text/plain": [
       "Index(['color', 'director_name', 'num_critic_for_reviews', 'duration',\n",
       "       'director_facebook_likes', 'actor_3_facebook_likes', 'actor_2_name',\n",
       "       'actor_1_facebook_likes', 'gross', 'genres', 'actor_1_name',\n",
       "       'movie_title', 'num_voted_users', 'cast_total_facebook_likes',\n",
       "       'actor_3_name', 'facenumber_in_poster', 'plot_keywords',\n",
       "       'movie_imdb_link', 'num_user_for_reviews', 'language', 'country',\n",
       "       'content_rating', 'budget', 'title_year', 'actor_2_facebook_likes',\n",
       "       'imdb_score', 'aspect_ratio', 'movie_facebook_likes'],\n",
       "      dtype='object')"
      ]
     },
     "execution_count": 7,
     "metadata": {},
     "output_type": "execute_result"
    }
   ],
   "source": [
    "df.columns"
   ]
  },
  {
   "cell_type": "markdown",
   "id": "b441dcbf-ea54-4445-8fc0-ac91718a2a3b",
   "metadata": {},
   "source": [
    "Посчитаем колличество дубликатов"
   ]
  },
  {
   "cell_type": "code",
   "execution_count": 8,
   "id": "b7083a96-4498-4f99-b089-6a6b21ba0d2f",
   "metadata": {},
   "outputs": [
    {
     "data": {
      "text/plain": [
       "45"
      ]
     },
     "execution_count": 8,
     "metadata": {},
     "output_type": "execute_result"
    }
   ],
   "source": [
    "df.duplicated().sum()"
   ]
  },
  {
   "cell_type": "markdown",
   "id": "393bd373-27f7-47b2-81ea-150e155ba6e7",
   "metadata": {},
   "source": [
    "Удаляем дубликаты"
   ]
  },
  {
   "cell_type": "code",
   "execution_count": 9,
   "id": "e3138101-14bb-4466-a433-a8003b6a0ab3",
   "metadata": {},
   "outputs": [],
   "source": [
    "df = df.drop_duplicates().reset_index(drop=True)"
   ]
  },
  {
   "cell_type": "markdown",
   "id": "bcad5213-1ae7-463b-8843-0f4f8889ed49",
   "metadata": {},
   "source": [
    "Проверяем остались ли дубликаты"
   ]
  },
  {
   "cell_type": "code",
   "execution_count": 10,
   "id": "1beb22ac-d0b6-4ce8-bf01-b16c4d3c96cb",
   "metadata": {},
   "outputs": [
    {
     "data": {
      "text/plain": [
       "0"
      ]
     },
     "execution_count": 10,
     "metadata": {},
     "output_type": "execute_result"
    }
   ],
   "source": [
    "df.duplicated().sum()"
   ]
  },
  {
   "cell_type": "markdown",
   "id": "efa5bb50-b729-4368-a189-9f362b06689c",
   "metadata": {},
   "source": [
    "В столбце с цветами находятся ячейки которые содержат всю информацию о фильмах"
   ]
  },
  {
   "cell_type": "code",
   "execution_count": 11,
   "id": "3182e4f6-a026-4a54-a737-3e1c009f620e",
   "metadata": {},
   "outputs": [
    {
     "data": {
      "text/plain": [
       "array(['Color', 'Colour', nan, 'color',\n",
       "       'Color,Andrew Adamson,284,150,80,82,Kiran Shah,1000,291709845,Adventure|Family|Fantasy,Jim Broadbent,\"The Chronicles of Narnia: The Lion, the Witch and the Wardrobe\\xa0\",286506,1317,Shane Rangi,5,hide and seek|lion|magic|professor|snow,http://www.imdb.com/title/tt0363771/?ref_=fn_tt_tt_1,1463,English,USA,PG,180000000,2005,190,6.9,2.35,0;',\n",
       "       ' Black and White',\n",
       "       'Color,Pete Docter,250,92,0,773,John Ratzenberger,12000,289907418,Adventure|Animation|Comedy|Family|Fantasy,Steve Buscemi,\"Monsters, Inc.\\xa0\",585659,15013,James Coburn,0,friend|little girl|monster|rival|scream,http://www.imdb.com/title/tt0198781/?ref_=fn_tt_tt_1,593,English,USA,G,115000000,2001,1000,8.1,1.85,0;',\n",
       "       'Color,Alex Proyas,225,115,295,466,Bruce Greenwood,10000,144795350,Action|Mystery|Sci-Fi|Thriller,Will Smith,\"I, Robot\\xa0\",387632,12068,Chi McBride,1,humanoid robot|man versus machine|prosthetic limb|robot as pathos|robot vs. robot,http://www.imdb.com/title/tt0343818/?ref_=fn_tt_tt_1,789,English,USA,PG-13,120000000,2004,981,7.1,2.35,0;',\n",
       "       ',Christopher Barnard,,22,0,,,5,,Comedy,Mathew Buck,\"10,000 B.C.\\xa0            \",6,5,,0,,http://www.imdb.com/title/tt1869849/?ref_=fn_tt_tt_1,,,,,,,,7.2,,0;',\n",
       "       'Color,Stuart Beattie,308,92,72,568,Kevin Grevioux,623,19059018,Action|Fantasy|Sci-Fi|Thriller,Caitlin Stasey,\"I, Frankenstein\\xa0\",65709,3165,Miranda Otto,0,army|creature|demon|frankenstein|gargoyle,http://www.imdb.com/title/tt1418377/?ref_=fn_tt_tt_1,194,English,Australia,PG-13,65000000,2014,593,5.1,2.35,15000;',\n",
       "       'Color,,20,22,,271,Soleil Moon Frye,870,,Comedy|Family|Fantasy,Nate Richert,\"Sabrina, the Teenage Witch\\xa0            \",24420,2433,Caroline Rhea,1,female protagonist|hereditary gift of witchcraft|magic|supernatural|witch,http://www.imdb.com/title/tt0115341/?ref_=fn_tt_tt_1,94,English,USA,TV-G,3000000,,558,6.6,1.33,990;',\n",
       "       'Color,Anthony Russo,136,110,94,240,Billy Gardell,277,75604320,Comedy|Romance,Todd Stashwick,\"You, Me and Dupree\\xa0\",68417,847,Amanda Detmer,1,best friend|foot fetish|houseguest|newlywed|wedding,http://www.imdb.com/title/tt0463034/?ref_=fn_tt_tt_1,195,English,USA,PG-13,54000000,2006,245,5.6,1.85,0;',\n",
       "       'Color,Bobby Farrelly,155,116,101,79,Tony Cox,889,90567722,Comedy,Robert Forster,\"Me, Myself & Irene\\xa0\",185878,1711,Rob Moran,1,dissociative identity disorder|limousine|multiple personality|police|rhode island,http://www.imdb.com/title/tt0183505/?ref_=fn_tt_tt_1,481,English,USA,R,51000000,2000,624,6.5,1.85,0;',\n",
       "       'Color,Glenn Ficarra,310,118,43,7000,Emma Stone,33000,84244877,Comedy|Drama|Romance,Ryan Gosling,\"Crazy, Stupid, Love.\\xa0\",375456,57426,Steve Carell,7,bar|divorce|friend|girl|male objectification,http://www.imdb.com/title/tt1570728/?ref_=fn_tt_tt_1,292,English,USA,PG-13,50000000,2011,15000,7.4,2.39,44000;',\n",
       "       'Color,Melville Shavelson,8,111,5,559,Tom Bosley,6000,,Comedy|Family,Lucille Ball,\"Yours, Mine and Ours\\xa0\",5888,7493,Tim Matheson,0,nurse|parent|sibling|widow|widower,http://www.imdb.com/title/tt0063829/?ref_=fn_tt_tt_1,61,English,USA,Unrated,2500000,1968,584,7.2,1.85,0;',\n",
       "       'Color,John Hamburg,215,105,29,257,Jon Favreau,24000,71347010,Comedy|Romance,J.K. Simmons,\"I Love You, Man\\xa0\",166194,28928,Jane Curtin,2,bromance|friend|gay brother|homosexual subtext|wedding,http://www.imdb.com/title/tt1155056/?ref_=fn_tt_tt_1,215,English,USA,R,40000000,2009,4000,7.1,1.85,0;',\n",
       "       'Color,Taylor Hackford,12,330,138,672,Jesse Borrego,848,4496583,Crime|Drama,Delroy Lindo,\"Blood In, Blood Out\\xa0\",23181,3227,Raymond Cruz,2,1970s|1980s|barrio|gang war|mexican,http://www.imdb.com/title/tt0106469/?ref_=fn_tt_tt_1,129,English,USA,R,35000000,1993,674,8.0,1.66,6000;',\n",
       "       'Color,John Whitesell,88,113,14,534,Tony Curran,918,37911876,Action|Comedy|Crime,Brandon T. Jackson,\"Big Mommas: Like Father, Like Son\\xa0\",19671,3500,Portia Doubleday,2,fbi agent|murder|performing arts school|scene during end credits|undercover,http://www.imdb.com/title/tt1464174/?ref_=fn_tt_tt_1,47,English,USA,PG-13,32000000,2011,845,4.4,2.35,0;',\n",
       "       'Color,Miguel Arteta,119,81,44,3000,Steve Carell,35000,66950483,Comedy|Family,Bella Thorne,\"Alexander and the Terrible, Horrible, No Good, Very Bad Day\\xa0\",29738,47677,Jennifer Garner,6,bad day|based on book|birthday|job interview|long title,http://www.imdb.com/title/tt1698641/?ref_=fn_tt_tt_1,85,English,USA,PG,28000000,2014,7000,6.2,2.39,12000;',\n",
       "       'Color,Jay Roach,74,119,116,385,Mary McCormack,738,8888143,Comedy|Drama|Sport,Scott Grimes,\"Mystery, Alaska\\xa0\",22250,2171,Ron Eldard,0,alaska|male nudity|nudity|sex|small town,http://www.imdb.com/title/tt0134618/?ref_=fn_tt_tt_1,123,English,Canada,R,28000000,1999,428,6.7,2.35,913;',\n",
       "       'Color,Malcolm D. Lee,76,114,92,436,Mike Epps,940,42168445,Comedy|Drama|Romance,Mo\\'Nique,\"Welcome Home, Roscoe Jenkins\\xa0\",10791,3565,Cedric the Entertainer,3,african american protagonist|comma in title|four word title|name in title|talk show host,http://www.imdb.com/title/tt0494652/?ref_=fn_tt_tt_1,39,English,USA,PG-13,35000000,2008,706,5.3,1.85,464;',\n",
       "       'Color,Joel Coen,197,107,0,577,Tim Blake Nelson,1000,45506619,Adventure|Comedy|Crime|Music,Holly Hunter,\"O Brother, Where Art Thou?\\xa0\",225102,3066,Daniel von Bargen,3,baby|bank|blind prophet|convict|sirens,http://www.imdb.com/title/tt0190590/?ref_=fn_tt_tt_1,862,English,UK,PG-13,26000000,2000,596,7.8,2.35,16000;',\n",
       "       'Color,Charles Herman-Wurmfeld,133,95,0,643,Bruce McGill,934,89808372,Comedy,Mary Lynn Rajskub,\"Legally Blonde 2: Red, White & Blonde\\xa0\",46417,3500,Bob Newhart,2,animal rights|congresswoman|doorman|transvestism|washington d.c.,http://www.imdb.com/title/tt0333780/?ref_=fn_tt_tt_1,297,English,USA,PG-13,45000000,2003,655,4.6,1.85,660;',\n",
       "       'Color,James Bridges,28,107,21,418,Phoebe Cates,967,16118077,Drama,Dianne Wiest,\"Bright Lights, Big City\\xa0\",5817,3067,Swoosie Kurtz,0,estranged wife|fashion show|magazine|new york city|writer,http://www.imdb.com/title/tt0094799/?ref_=fn_tt_tt_1,37,English,USA,R,25000000,1988,767,5.6,1.85,377;',\n",
       "       'Color,James Mangold,133,127,446,898,Clea DuVall,11000,28871190,Biography|Drama,Angelina Jolie Pitt,\"Girl, Interrupted\\xa0\",125421,13433,Vanessa Redgrave,0,1960s|father daughter incest|mental hospital|suicide|suicide attempt,http://www.imdb.com/title/tt0172493/?ref_=fn_tt_tt_1,385,English,USA,R,24000000,1999,1000,7.3,1.85,0;',\n",
       "       'Color,Ethan Coen,423,106,1000,1000,Channing Tatum,19000,29997095,Comedy|Mystery,Scarlett Johansson,\"Hail, Caesar!\\xa0\",60926,38494,Alden Ehrenreich,5,50s|film within a film|hollywood|illegitimate pregnancy|twins,http://www.imdb.com/title/tt0475290/?ref_=fn_tt_tt_1,302,English,UK,PG-13,22000000,2016,17000,6.4,1.85,23000;',\n",
       "       'Color,Charlie Kaufman,245,124,0,631,Jennifer Jason Leigh,22000,3081925,Comedy|Drama|Romance,Philip Seymour Hoffman,\"Synecdoche, New York\\xa0\",55842,24732,Samantha Morton,0,actress|director|play|theatre director|warehouse,http://www.imdb.com/title/tt0383028/?ref_=fn_tt_tt_1,274,English,USA,R,21000000,2008,1000,7.5,2.35,13000;',\n",
       "       'Color,,,43,,211,Jenni \\'Jwoww\\' Farley,341,,Comedy|Drama|Reality-TV|Romance,Nicole \\'Snooki\\' Polizzi,\"Gone, Baby, Gone\\xa0            \",29,1462,Paul \\'Pauly D\\' DelVecchio,1,lifestyle,http://www.imdb.com/title/tt1697237/?ref_=fn_tt_tt_1,,English,,TV-14,,,230,6.6,1.33,0;',\n",
       "       'Color,Chris Columbus,107,102,0,529,Marie Avgeropoulos,946,14793904,Comedy|Romance,Alan Ruck,\"I Love You, Beth Cooper\\xa0\",28209,4072,Shawn Roberts,1,cheerleader|party|popular girl|speech|valedictorian,http://www.imdb.com/title/tt1032815/?ref_=fn_tt_tt_1,80,English,Canada,PG-13,18000000,2009,800,5.3,1.85,0;',\n",
       "       'Color,Niki Caro,113,129,51,89,Valente Rodriguez,427,44469602,Biography|Drama|Sport,Morgan Saylor,\"McFarland, USA\\xa0\",23480,952,Diana Maria Riva,0,coach|high school|place name in title|school|student,http://www.imdb.com/title/tt2097298/?ref_=fn_tt_tt_1,83,English,USA,PG,17000000,2015,234,7.4,2.35,21000;',\n",
       "       'Color,Ang Lee,287,120,0,5,Pei-Pei Cheng,103,128067808,Action|Drama|Romance,Chen Chang,\"Crouching Tiger, Hidden Dragon\\xa0\",217740,129,Sihung Lung,3,bare midriff|china|magical realism|martial arts|sword,http://www.imdb.com/title/tt0190332/?ref_=fn_tt_tt_1,1641,Mandarin,Taiwan,PG-13,15000000,2000,21,7.9,2.35,0;',\n",
       "       'Color,Martin Scorsese,59,136,17000,213,Liza Minnelli,22000,,Drama|Music|Musical|Romance,Robert De Niro,\"New York, New York\\xa0\",13548,23378,Mary Kay Place,0,love|musician|saxophonist|singer|songwriter,http://www.imdb.com/title/tt0076451/?ref_=fn_tt_tt_1,75,English,USA,PG,14000000,1977,740,6.7,1.66,932;',\n",
       "       'Color,Barry Levinson,62,121,272,227,J.T. Walsh,49000,123922370,Biography|Comedy|Drama|War,Robin Williams,\"Good Morning, Vietnam\\xa0\",98348,50141,Bruno Kirby,1,disc jockey|friendship|radio|vietnam|vietnamese,http://www.imdb.com/title/tt0093105/?ref_=fn_tt_tt_1,131,English,USA,R,13000000,1987,263,7.3,1.85,0;',\n",
       "       'Color,Danny Leiner,106,83,8,612,Mary Lynn Rajskub,3000,46729374,Comedy|Mystery,Jennifer Garner,\"Dude, Where\\'s My Car?\\xa0\",116625,6454,Marla Sokoloff,2,bare chested male|gay kiss|homoeroticism|lesbian kiss|transsexual,http://www.imdb.com/title/tt0242423/?ref_=fn_tt_tt_1,469,English,USA,PG-13,13000000,2000,934,5.5,1.37,0;',\n",
       "       'Color,Olivier Assayas,165,120,107,280,Miranda Richardson,12000,4857376,Comedy|Drama|Romance,Steve Buscemi,\"Paris, je t\\'aime\\xa0\",63084,13208,Catalina Sandino Moreno,0,baby|divorce|oscar wilde|pigalle|tourist,http://www.imdb.com/title/tt0401711/?ref_=fn_tt_tt_1,123,French,France,R,13000000,2006,530,7.3,1.85,0;',\n",
       "       'Color,Yimou Zhang,101,95,611,3,Ni Yan,9,190666,Comedy|Drama,Honglei Sun,\"A Woman, a Gun and a Noodle Shop\\xa0\",2410,18,Dahong Ni,1,betrayal|husband wife relationship|murder|noodles|salary,http://www.imdb.com/title/tt1428556/?ref_=fn_tt_tt_1,20,Mandarin,China,R,,2009,4,5.7,2.35,784;',\n",
       "       'Color,Neal Brennan,83,89,23,503,Noureen DeWulf,839,15102127,Comedy,Rob Riggle,\"The Goods: Live Hard, Sell Hard\\xa0\",17790,3973,Charles Napier,5,fourth of july|looking at one\\'s self in a mirror|mirror|sex toy|young version of character,http://www.imdb.com/title/tt1092633/?ref_=fn_tt_tt_1,59,English,USA,R,,2009,700,5.8,1.85,0;',\n",
       "       'Color,David Schwimmer,168,100,0,231,Iddo Goldberg,427,5998971,Comedy|Romance|Sport,Dylan Moran,\"Run, Fatboy, Run\\xa0\",58509,1022,India de Beaufort,0,blister|gym|marathon|training|wedding,http://www.imdb.com/title/tt0425413/?ref_=fn_tt_tt_1,143,English,UK,PG-13,,2007,269,6.6,2.35,0;',\n",
       "       'Color,Jay Duplass,182,83,157,581,Evan Ross,2000,4244155,Comedy|Drama,Judy Greer,\"Jeff, Who Lives at Home\\xa0\",56005,3374,Rae Dawn Chong,5,basement|errand|secret admirer|slacker|wrong number,http://www.imdb.com/title/tt1588334/?ref_=fn_tt_tt_1,112,English,USA,R,10000000,2011,616,6.5,1.85,0;',\n",
       "       'Color,Joshua Seftel,79,107,0,91,Sergej Trifunovic,603,578527,Action|Comedy|Thriller,Bashar Rahal,\"War, Inc.\\xa0\",20008,988,Ned Bellamy,3,assassin|corporation|pop star|reporter|satire,http://www.imdb.com/title/tt0884224/?ref_=fn_tt_tt_1,112,English,USA,R,10000000,2008,175,5.7,1.78,883;',\n",
       "       'Color,Rafa Lara,12,125,21,36,Andrés Montiel,78,169379,Drama|History|War,Jorge Luis Moreno,\"Cinco de Mayo, La Batalla\\xa0\",683,221,William Miller,1,,http://www.imdb.com/title/tt2553908/?ref_=fn_tt_tt_1,3,Spanish,Mexico,R,10000000,2013,61,6.2,,874;',\n",
       "       'Color,Jee-woon Kim,152,135,419,7,Woo-sung Jung,398,128486,Action|Adventure|Comedy|Western,Kang-ho Song,\"The Good, the Bad, the Weird\\xa0\",26156,569,Dal-su Oh,0,bounty hunter|manchuria|map|train|treasure,http://www.imdb.com/title/tt0901487/?ref_=fn_tt_tt_1,74,Korean,South Korea,R,10000000,2008,149,7.3,2.35,0;',\n",
       "       'Color,Stanley Kramer,61,197,176,760,Sid Caesar,924,46300000,Action|Adventure|Comedy|Crime,Jonathan Winters,\"It\\'s a Mad, Mad, Mad, Mad World\\xa0\",29323,4109,Spencer Tracy,0,california|desert|dying words|money|race,http://www.imdb.com/title/tt0057193/?ref_=fn_tt_tt_1,344,English,USA,Approved,9400000,1963,898,7.6,2.76,0;',\n",
       "       'Color,Martyn Pick,19,76,4,151,Steven Waddington,722,,Action|Animation|Fantasy|Horror|Mystery|Sci-Fi|Thriller,Sean Pertwee,\"Ultramarines: A Warhammer 40,000 Movie\\xa0\",4990,1254,Donald Sumpter,0,grimdark|mutilated corpse|space marine|ultramarines|warhammer 40k,http://www.imdb.com/title/tt1679332/?ref_=fn_tt_tt_1,64,English,UK,R,,2010,212,5.7,1.85,0;',\n",
       "       'Color,Adam Brooks,160,112,20,61,Sakina Jaffrey,16000,31973840,Comedy|Drama|Romance,Ryan Reynolds,\"Definitely, Maybe\\xa0\",127760,16289,Paulina Gerzon,5,college|daughter|girl|sex|wisconsin,http://www.imdb.com/title/tt0832266/?ref_=fn_tt_tt_1,168,English,Germany,PG-13,,2008,109,7.2,2.35,0;',\n",
       "       ' Black and White,George Clooney,351,93,0,566,Tate Donovan,21000,31501218,Biography|Drama|History,Robert Downey Jr.,\"Good Night, and Good Luck.\\xa0\",84070,22745,Alex Borstein,0,cbs|expose|fear|paranoia|reporter,http://www.imdb.com/title/tt0433383/?ref_=fn_tt_tt_1,526,English,USA,PG,7500000,2005,650,7.5,1.85,0;',\n",
       "       'Color,Gabriele Muccino,36,125,125,11,Silvio Muccino,60,223878,Comedy|Drama|Romance,Laura Morante,\"Remember Me, My Love\\xa0\",3548,132,Giulia Michelini,1,box office hit|dancer|sex scene|television|underage sex,http://www.imdb.com/title/tt0323807/?ref_=fn_tt_tt_1,21,Italian,Italy,R,5000000,2003,29,6.5,2.35,282;',\n",
       "       'Color,S.R. Bindler,26,85,0,499,Scott Glenn,11000,36497,Comedy,Matthew McConaughey,\"Surfer, Dude\\xa0\",7367,14599,Sarah Wright,0,barefoot|endorsement|surfboard|virtual reality|waves,http://www.imdb.com/title/tt0976247/?ref_=fn_tt_tt_1,37,English,USA,R,6000000,2008,826,4.7,1.85,850;',\n",
       "       'Color,Richard Fleischer,69,127,130,51,Robert J. Wilke,617,,Adventure|Drama|Family|Fantasy|Sci-Fi,James Mason,\"20,000 Leagues Under the Sea\\xa0\",22123,799,Paul Lukas,0,captain|expedition|sea|submarine|whale,http://www.imdb.com/title/tt0046672/?ref_=fn_tt_tt_1,108,English,USA,Approved,5000000,1954,53,7.2,1.37,0;',\n",
       "       'Color,John Erick Dowdle,196,93,66,161,Edwin Hodge,1000,21197315,Horror|Mystery|Thriller,Ben Feldman,\"As Above, So Below\\xa0\",49948,1410,Perdita Weeks,0,archeologist|catacomb|found footage|paris france|philosopher\\'s stone,http://www.imdb.com/title/tt2870612/?ref_=fn_tt_tt_1,211,English,USA,R,5000000,2014,200,6.1,1.85,14000;',\n",
       "       'Color,Feroz Abbas Khan,16,136,0,14,Bhoomika Chawla,75,240425,Biography|Drama|History,Akshaye Khanna,\"Gandhi, My Father\\xa0\",1311,172,Darshan Jariwala,0,africa|hindu|india|muslim|south africa,http://www.imdb.com/title/tt0459293/?ref_=fn_tt_tt_1,25,Hindi,India,,,2007,45,7.4,2.35,133;',\n",
       "       'Color,Nicholas Fackler,27,90,6,940,Ellen Burstyn,3000,124720,Drama|Romance,Adam Scott,\"Lovely, Still\\xa0\",1560,4987,Martin Landau,0,christmas|fable|old man,http://www.imdb.com/title/tt1150947/?ref_=fn_tt_tt_1,15,English,USA,PG,5000000,2008,1000,7.3,1.85,777;',\n",
       "       'Color,Jorge Ramírez Suárez,26,120,45,69,Adriana Barraza,623,100412,Drama,Hector Kotsifakis,\"Buen Día, Ramón\\xa0\",2112,824,Arcelia Ramírez,0,,http://www.imdb.com/title/tt2876428/?ref_=fn_tt_tt_1,7,German,Mexico,PG-13,4000000,2013,85,7.7,2.35,0;',\n",
       "       'Color,Jay Oliva,44,148,41,739,Mark Valley,2000,,Action|Animation|Crime|Sci-Fi|Thriller,Michael Emerson,\"Batman: The Dark Knight Returns, Part 2\\xa0\",30434,5526,Grey Griffin,0,batman|joker|mutant|tattoo on breast|the joker,http://www.imdb.com/title/tt2166834/?ref_=fn_tt_tt_1,55,English,USA,PG-13,3500000,2013,774,8.4,,5000;',\n",
       "       'Color,Joe Cross,13,97,65,0,Joel Fuhrman,65,,Documentary,Joe Cross,\"Fat, Sick & Nearly Dead\\xa0\",6429,67,Amy Badberg,2,fat|food|health|juice|obese,http://www.imdb.com/title/tt1227378/?ref_=fn_tt_tt_1,25,English,Australia,,2500000,2010,2,7.6,,10000;',\n",
       "       'Color,Tim McCanlies,15,97,23,326,Michael O\\'Neill,982,565592,Comedy|Drama|Family,Ethan Embry,\"Dancer, Texas Pop. 81\\xa0\",2189,2580,Alexandra Holden,0,best friend|friendship|population|state in title|texas,http://www.imdb.com/title/tt0118925/?ref_=fn_tt_tt_1,63,English,USA,PG,,1998,599,6.8,1.85,500;',\n",
       "       'Color,Gary Rogers,7,120,0,40,Kirby Heyborne,178,1098224,Adventure,Noah Danby,\"The Book of Mormon Movie, Volume 1: The Journey\\xa0\",397,359,Bruce Newbold,1,jerusalem|journey|promised land|ship|wilderness,http://www.imdb.com/title/tt0349159/?ref_=fn_tt_tt_1,30,English,USA,PG-13,2000000,2003,69,3.3,1.85,32;',\n",
       "       'Color,Simon Napier-Bell,,81,0,8,Tim Rice,674,,Documentary,Alice Cooper,\"To Be Frank, Sinatra at 100\\xa0\",7,712,Louis Walsh,0,,http://www.imdb.com/title/tt4704314/?ref_=fn_tt_tt_1,,English,UK,,2000000,2015,27,7.4,,0;',\n",
       "       'Color,Mark Illsley,77,98,3,327,Illeana Douglas,349,1943649,Comedy|Crime|Romance,Ally Walker,\"Happy, Texas\\xa0\",8697,2095,Jeremy Northam,3,banker|beauty pageant|escaped convict|gay|pageant,http://www.imdb.com/title/tt0162360/?ref_=fn_tt_tt_1,122,English,USA,PG-13,1700000,1999,347,6.3,1.85,374;',\n",
       "       'Color,Guy Ritchie,116,120,0,452,Jason Flemyng,26000,3650677,Comedy|Crime,Jason Statham,\"Lock, Stock and Two Smoking Barrels\\xa0\",414976,28294,Dexter Fletcher,1,antique|cockney accent|hatchet|money|shotgun,http://www.imdb.com/title/tt0120735/?ref_=fn_tt_tt_1,523,English,UK,R,960000,1998,1000,8.2,1.85,21000;',\n",
       "       'Color,Steven Soderbergh,58,100,0,65,Laura San Giacomo,828,24741700,Drama,Peter Gallagher,\"Sex, Lies, and Videotape\\xa0\",37785,1431,Steven Brill,2,affair|interview|marriage|sex|videotape,http://www.imdb.com/title/tt0098724/?ref_=fn_tt_tt_1,95,English,USA,R,1200000,1989,531,7.2,1.85,2000;',\n",
       "       'Color,Sergio Leone,181,142,0,24,Luigi Pistilli,16000,6100000,Western,Clint Eastwood,\"The Good, the Bad and the Ugly\\xa0\",503509,16089,Enzo Petito,3,civil war|hitman|outlaw|shootout|spaghetti western,http://www.imdb.com/title/tt0060196/?ref_=fn_tt_tt_1,780,Italian,Italy,Approved,1200000,1966,34,8.9,2.35,20000;',\n",
       "       'Color,Léa Pool,23,97,4,,,,24784,Documentary,,\"Pink Ribbons, Inc.\\xa0\",591,0,,0,breast cancer|comma in title|period in title|punctuation in title|three word title,http://www.imdb.com/title/tt2035599/?ref_=fn_tt_tt_1,10,English,Canada,Not Rated,1200000,2011,,7.4,,5000;',\n",
       "       'Color,Robert Kenner,120,94,11,2,Eric Schlosser,37,4417124,Documentary,Michael Pollan,\"Food, Inc.\\xa0\",42389,42,Barbara Kowalcyk,0,farming|flesh eating|food|food industry|gluttony,http://www.imdb.com/title/tt1286537/?ref_=fn_tt_tt_1,183,English,USA,PG,,2008,3,7.9,1.78,37000;',\n",
       "       'Color,Cristian Mungiu,233,113,163,27,Vlad Ivanov,131,1185783,Drama,Anamaria Marinca,\"4 Months, 3 Weeks and 2 Days\\xa0\",44763,264,Alexandru Potocean,0,female rear nudity|friend|hotel|rainy night|towel,http://www.imdb.com/title/tt1032846/?ref_=fn_tt_tt_1,172,Romanian,Romania,Not Rated,590000,2007,60,7.9,1.85,14000;',\n",
       "       'Color,Jamie Travis,115,88,15,567,Ari Graynor,938,1243961,Comedy,James Wolk,\"For a Good Time, Call...\\xa0\",13421,3770,Nia Vardalos,0,friend|friendship|gay|phone sex|sex,http://www.imdb.com/title/tt1996264/?ref_=fn_tt_tt_1,34,English,USA,R,850000,2012,904,6.0,2.35,0;',\n",
       "       'Color,Jesse Peretz,16,94,37,104,Eli Marienthal,318,40542,Drama|Romance,Robert John Burke,\"First Love, Last Rites\\xa0\",294,751,Natasha Gregson Wagner,0,listening to music|misfit|panties|red panties|sex,http://www.imdb.com/title/tt0128214/?ref_=fn_tt_tt_1,16,English,USA,R,300000,1997,157,5.5,,26;',\n",
       "       ' Black and White,Eugène Lourié,67,80,7,21,Cecil Kellaway,57,5000000,Adventure|Horror|Sci-Fi,Kenneth Tobey,\"The Beast from 20,000 Fathoms\\xa0\",4812,205,Ross Elliott,0,arctic|beast|dinosaur|monster|rhedosaurus,http://www.imdb.com/title/tt0045546/?ref_=fn_tt_tt_1,88,English,USA,Approved,210000,1953,40,6.7,1.37,465;',\n",
       "       'Color,Richard Fleischer,69,127,130,51,Robert J. Wilke,618,,Adventure|Drama|Family|Fantasy|Sci-Fi,James Mason,\"20,000 Leagues Under the Sea\\xa0\",22124,800,Paul Lukas,0,captain|expedition|sea|submarine|whale,http://www.imdb.com/title/tt0046672/?ref_=fn_tt_tt_1,108,English,USA,Approved,5000000,1954,53,7.2,1.37,0;',\n",
       "       'Color,Stephen Langford,2,82,7,50,Gabriela Castillo,143,,Family,Kevin P. Farley,\"Dude, Where\\'s My Dog?!\\xa0\",73,417,Brandon Middleton,0,,http://www.imdb.com/title/tt3109200/?ref_=fn_tt_tt_1,4,English,USA,PG,20000,2014,134,3.2,1.85,178;',\n",
       "       'Color,Sut Jhally,16,80,3,0,Seth Ackerman,103,,Documentary,Noam Chomsky,\"Peace, Propaganda & the Promised Land\\xa0\",496,103,Arik Ascherman,3,arab israeli conflict|israel|media|middle east|palestine,http://www.imdb.com/title/tt0428959/?ref_=fn_tt_tt_1,13,English,USA,,70000,2004,0,8.3,,110;',\n",
       "       'Color,Julie Davis,5,86,12,117,Meredith Scott Lynn,238,33598,Comedy|Romance,Jack McGee,\"I Love You, Don\\'t Touch Me!\\xa0\",405,623,Tim DeZarn,1,female frontal nudity|female rear nudity|title directed by female|virgin|written and directed by cast member,http://www.imdb.com/title/tt0130019/?ref_=fn_tt_tt_1,15,English,USA,R,,1997,166,5.4,,97;',\n",
       "       'Color,Collin Joseph Neal,7,75,14,130,Thomas Brophy,252,,Horror|Thriller,Julianne Gabert,\"Run, Hide, Die\\xa0\",106,638,Ronee Collins,0,,http://www.imdb.com/title/tt2442662/?ref_=fn_tt_tt_1,5,English,USA,,50000,2012,132,3.7,2.35,225;'],\n",
       "      dtype=object)"
      ]
     },
     "execution_count": 11,
     "metadata": {},
     "output_type": "execute_result"
    }
   ],
   "source": [
    "df.color.unique()"
   ]
  },
  {
   "cell_type": "markdown",
   "id": "7bcbc2a0-9efd-4eb9-a477-062017db076d",
   "metadata": {},
   "source": [
    "Удалим эти строки для того чтобы они нам не мешали"
   ]
  },
  {
   "cell_type": "code",
   "execution_count": 12,
   "id": "477a5a06-d58c-4f9f-9807-3259021f7658",
   "metadata": {},
   "outputs": [],
   "source": [
    "def replace_wrong_colour (wrong_colour, correct_colour):\n",
    "    for wrong_colour in wrong_colour:\n",
    "        df['color'] = df['color'].replace(wrong_colour, correct_colour)\n",
    "\n",
    "duplicates = ['Color','Colour','color']\n",
    "name = 'color'\n",
    "replace_wrong_colour(duplicates, name)  # удаление неявных дубликатов\n",
    "\n",
    "not_drop = ['nan', 'color', ' Black and White'] #наименования которые нужно оставить\n",
    "for i in df.color:                                                 #создаём цикл с элементами из колонки с цветами\n",
    "    if i not in not_drop:                                          #прописываем условие нахождение элемента в not_drop\n",
    "        index = df[df['color'] == i].index                         #если его нет, то мы узнаём его индекс\n",
    "        df.drop(index, inplace=True)                               #удаляем его"
   ]
  },
  {
   "cell_type": "markdown",
   "id": "1b6fc0ea-95c8-4e45-a780-ba9caf51a982",
   "metadata": {},
   "source": [
    "Проверим правильность нашего кода"
   ]
  },
  {
   "cell_type": "code",
   "execution_count": 13,
   "id": "a4f46f1e-dbcb-4b24-b9aa-6c8fb8096639",
   "metadata": {},
   "outputs": [
    {
     "data": {
      "text/plain": [
       "array(['color', nan, ' Black and White'], dtype=object)"
      ]
     },
     "execution_count": 13,
     "metadata": {},
     "output_type": "execute_result"
    }
   ],
   "source": [
    "df.color.unique()"
   ]
  },
  {
   "cell_type": "markdown",
   "id": "d4de0927-f9d3-471d-9831-1b11b8213a9d",
   "metadata": {},
   "source": [
    "Также найдём колличество пропущенных значени, эта информация понадобится в будующем"
   ]
  },
  {
   "cell_type": "code",
   "execution_count": 14,
   "id": "bec03d5c-7efc-4a08-b258-2374acda045b",
   "metadata": {},
   "outputs": [
    {
     "data": {
      "text/plain": [
       "color                         18\n",
       "director_name                101\n",
       "num_critic_for_reviews        46\n",
       "duration                      15\n",
       "director_facebook_likes      101\n",
       "actor_3_facebook_likes        21\n",
       "actor_2_name                  11\n",
       "actor_1_facebook_likes         6\n",
       "gross                        860\n",
       "genres                         0\n",
       "actor_1_name                   6\n",
       "movie_title                    0\n",
       "num_voted_users                0\n",
       "cast_total_facebook_likes      0\n",
       "actor_3_name                  21\n",
       "facenumber_in_poster          13\n",
       "plot_keywords                146\n",
       "movie_imdb_link                0\n",
       "num_user_for_reviews          18\n",
       "language                      13\n",
       "country                        3\n",
       "content_rating               295\n",
       "budget                       476\n",
       "title_year                   104\n",
       "actor_2_facebook_likes        11\n",
       "imdb_score                     0\n",
       "aspect_ratio                 318\n",
       "movie_facebook_likes           0\n",
       "dtype: int64"
      ]
     },
     "execution_count": 14,
     "metadata": {},
     "output_type": "execute_result"
    }
   ],
   "source": [
    "df.isna().sum()"
   ]
  },
  {
   "cell_type": "markdown",
   "id": "a8806f7c-dd6d-4eaa-8ef3-a057eee9fb19",
   "metadata": {},
   "source": [
    "И на конец установмим реальные суммы в долларах. Для этого подключим библиотеку для извлечения данных из файлов HTML"
   ]
  },
  {
   "cell_type": "code",
   "execution_count": 15,
   "id": "23d873d9-a69e-4b1d-ba07-f8454d50402c",
   "metadata": {},
   "outputs": [],
   "source": [
    "df = df.dropna(subset=['gross'], axis = 0)\n",
    "df = df.reset_index(drop=True)"
   ]
  },
  {
   "cell_type": "code",
   "execution_count": 16,
   "id": "a79d086f-d5a2-4c03-be9c-cb50fdc007a0",
   "metadata": {},
   "outputs": [],
   "source": [
    "from bs4 import BeautifulSoup\n",
    "import requests"
   ]
  },
  {
   "cell_type": "code",
   "execution_count": 17,
   "id": "614f1b90-8fb6-44c2-8816-90e26a267085",
   "metadata": {},
   "outputs": [
    {
     "data": {
      "text/html": [
       "<div>\n",
       "<style scoped>\n",
       "    .dataframe tbody tr th:only-of-type {\n",
       "        vertical-align: middle;\n",
       "    }\n",
       "\n",
       "    .dataframe tbody tr th {\n",
       "        vertical-align: top;\n",
       "    }\n",
       "\n",
       "    .dataframe thead th {\n",
       "        text-align: right;\n",
       "    }\n",
       "</style>\n",
       "<table border=\"1\" class=\"dataframe\">\n",
       "  <thead>\n",
       "    <tr style=\"text-align: right;\">\n",
       "      <th></th>\n",
       "      <th>year</th>\n",
       "      <th>avg_annual_cpi</th>\n",
       "    </tr>\n",
       "  </thead>\n",
       "  <tbody>\n",
       "    <tr>\n",
       "      <th>0</th>\n",
       "      <td>1913</td>\n",
       "      <td>9.9</td>\n",
       "    </tr>\n",
       "    <tr>\n",
       "      <th>1</th>\n",
       "      <td>1914</td>\n",
       "      <td>10.0</td>\n",
       "    </tr>\n",
       "    <tr>\n",
       "      <th>2</th>\n",
       "      <td>1915</td>\n",
       "      <td>10.1</td>\n",
       "    </tr>\n",
       "    <tr>\n",
       "      <th>3</th>\n",
       "      <td>1916</td>\n",
       "      <td>10.9</td>\n",
       "    </tr>\n",
       "    <tr>\n",
       "      <th>4</th>\n",
       "      <td>1917</td>\n",
       "      <td>12.8</td>\n",
       "    </tr>\n",
       "  </tbody>\n",
       "</table>\n",
       "</div>"
      ],
      "text/plain": [
       "   year  avg_annual_cpi\n",
       "0  1913             9.9\n",
       "1  1914            10.0\n",
       "2  1915            10.1\n",
       "3  1916            10.9\n",
       "4  1917            12.8"
      ]
     },
     "execution_count": 17,
     "metadata": {},
     "output_type": "execute_result"
    }
   ],
   "source": [
    "url = \"https://www.usinflationcalculator.com/inflation/consumer-price-index-and-annual-percent-changes-from-1913-to-2008/\"\n",
    "\n",
    "r = requests.get(url)\n",
    "data = r.text\n",
    "soup = BeautifulSoup(data, 'html.parser')\n",
    "\n",
    "table = soup.find('table')\n",
    "rows = table.tbody.findAll('tr')\n",
    "\n",
    "years = []\n",
    "cpis = []\n",
    "\n",
    "for row in rows:\n",
    "    year = row.findAll('td')[0].get_text()\n",
    "    if year.isdigit() and int(year) < 2017:\n",
    "        years.append(int(year))\n",
    "        cpis.append(float(row.findAll('td')[13].get_text()))\n",
    "\n",
    "cpi_table = pd.DataFrame({\"year\": years, \"avg_annual_cpi\": cpis})\n",
    "\n",
    "cpi_table.head()"
   ]
  },
  {
   "cell_type": "markdown",
   "id": "11934ded-015e-4122-a092-a58edbd37e61",
   "metadata": {},
   "source": [
    "Определим функцию для перевода номинальных долларов в реальные доллары в\r\n",
    "2016 году с использованием ИПЦ. Будем использовать следующую формулу для расчета\r\n",
    "реальной стоимости:\r\n",
    "Прошлые доллары в пересчете на недавние доллары = (сумма в долларах × CPI на\r\n",
    "конец периода) ÷ CPI на начало периода"
   ]
  },
  {
   "cell_type": "code",
   "execution_count": 18,
   "id": "e01296b6-40f6-4b10-bb3b-ac28cece04f2",
   "metadata": {},
   "outputs": [],
   "source": [
    "def get_real_value(nominal_amt, old_cpi, new_cpi):\n",
    "    real_value = (nominal_amt * new_cpi) / old_cpi\n",
    "    return real_value"
   ]
  },
  {
   "cell_type": "markdown",
   "id": "33827d7b-93c0-4690-aca9-8a804da967f9",
   "metadata": {},
   "source": [
    "В 2016 г. нас интересуют реальные доллары, поэтому упростим себе задачу и\r\n",
    "установим константу."
   ]
  },
  {
   "cell_type": "code",
   "execution_count": 19,
   "id": "e338e68a-82e6-495b-8370-12631cdbb11e",
   "metadata": {},
   "outputs": [],
   "source": [
    "df = df.dropna(subset=['title_year'], axis = 0)\n",
    "df = df.reset_index(drop=True)"
   ]
  },
  {
   "cell_type": "code",
   "execution_count": 20,
   "id": "bc6c9060-4056-442a-be7d-b19e248b64ad",
   "metadata": {},
   "outputs": [
    {
     "name": "stderr",
     "output_type": "stream",
     "text": [
      "C:\\Users\\Sovano\\AppData\\Local\\Temp\\ipykernel_9876\\3193798318.py:1: FutureWarning: Calling float on a single element Series is deprecated and will raise a TypeError in the future. Use float(ser.iloc[0]) instead\n",
      "  CPI_2016 = float(cpi_table[cpi_table['year'] == 2016]['avg_annual_cpi'])\n"
     ]
    }
   ],
   "source": [
    "CPI_2016 = float(cpi_table[cpi_table['year'] == 2016]['avg_annual_cpi'])"
   ]
  },
  {
   "cell_type": "markdown",
   "id": "0a6e8b97-1738-477a-865d-b11310b1a75d",
   "metadata": {},
   "source": [
    "Теперь преобразуем значения столбцов ‘budget’ и ‘gross’ для каждого фильма в\r\n",
    "реальные долларовые эквиваленты 2016 г\r"
   ]
  },
  {
   "cell_type": "code",
   "execution_count": 21,
   "id": "e4e78709-52eb-46cd-9fb4-b9fd9c9607b0",
   "metadata": {},
   "outputs": [
    {
     "name": "stderr",
     "output_type": "stream",
     "text": [
      "C:\\Users\\Sovano\\AppData\\Local\\Temp\\ipykernel_9876\\976676663.py:10: FutureWarning: Calling float on a single element Series is deprecated and will raise a TypeError in the future. Use float(ser.iloc[0]) instead\n",
      "  cpi = float(cpi_table[cpi_table['year'] == int(year)]['avg_annual_cpi'])\n"
     ]
    }
   ],
   "source": [
    "real_domestic_gross = []\n",
    "real_budget_values = []\n",
    "\n",
    "for index, row in df.iterrows():\n",
    "\n",
    "    gross = row['gross']\n",
    "    budget = row['budget']\n",
    "    year = row['title_year']\n",
    "\n",
    "    cpi = float(cpi_table[cpi_table['year'] == int(year)]['avg_annual_cpi'])\n",
    "\n",
    "    real_gross = get_real_value(gross, cpi, CPI_2016)\n",
    "    real_budget = get_real_value(budget, cpi, CPI_2016)\n",
    "    real_domestic_gross.append(real_gross)\n",
    "    real_budget_values.append(real_budget)\n",
    "\n",
    "df['real_domestic_gross'] = real_domestic_gross\n",
    "df['real_budget'] = real_budget_values"
   ]
  },
  {
   "cell_type": "code",
   "execution_count": 22,
   "id": "46a55a17-c126-4761-9be9-5855c6ba9f06",
   "metadata": {},
   "outputs": [],
   "source": [
    "profits = []\n",
    "roi_vals = []\n",
    "\n",
    "for index, row in df.iterrows():\n",
    "    profit = row['real_domestic_gross'] - row['real_budget']\n",
    "    budget = row['real_budget']\n",
    "    num = profit - budget\n",
    "    den = budget\n",
    "    roi = (num / den) * 100\n",
    "\n",
    "    profits.append(profit)\n",
    "    roi_vals.append(roi)\n",
    "\n",
    "df['profit'] = profits\n",
    "df['roi'] = roi_vals"
   ]
  },
  {
   "cell_type": "markdown",
   "id": "63dd7872-6aa7-4520-acb7-e9a8174978ff",
   "metadata": {},
   "source": [
    "Осталось лишь отполировать таблицу. Удалим все пустые строки в интересующих нас столбикак, а также по вожможнасти добивим маркеров unknown"
   ]
  },
  {
   "cell_type": "code",
   "execution_count": 23,
   "id": "6c3968e5-b95a-4c2e-8ceb-8ed37418985d",
   "metadata": {},
   "outputs": [],
   "source": [
    "df = df.dropna(subset=['cast_total_facebook_likes'], axis = 0)\n",
    "df = df.loc[df['cast_total_facebook_likes'] != 0]\n",
    "df = df.dropna(subset=['country'], axis = 0)\n",
    "\n",
    "not_drop = ['New Line', 'Official site']\n",
    "for i in df.country:\n",
    "    if i in not_drop:\n",
    "        index = df[df['color'] == i].index\n",
    "        df.drop(index, inplace=True)\n",
    "\n",
    "df = df.dropna(subset=['real_budget'], axis = 0)\n",
    "df = df.dropna(subset=['imdb_score'], axis = 0)\n",
    "df = df.reset_index(drop=True)"
   ]
  },
  {
   "cell_type": "code",
   "execution_count": 24,
   "id": "05e2a890-1947-454b-b726-057e70440870",
   "metadata": {},
   "outputs": [],
   "source": [
    "columns_to_replace =['genres']\n",
    "\n",
    "for row in columns_to_replace:\n",
    "    df[row] = df[row].fillna('unknown')"
   ]
  },
  {
   "cell_type": "markdown",
   "id": "fd217c8c-2b9c-4975-89e3-255e741ac863",
   "metadata": {},
   "source": [
    "# Гипотеза 1: Фильмы с большим количеством актерских лайков на Facebook имеют более высокие сборы. Я думаю, что популярность актеров в Facebook может привлечь больше зрителей и повысить интерес к фильму."
   ]
  },
  {
   "cell_type": "code",
   "execution_count": 25,
   "id": "ae5b417b-3e00-40a3-82af-2ac9d00223f3",
   "metadata": {},
   "outputs": [
    {
     "data": {
      "text/html": [
       "<div>\n",
       "<style scoped>\n",
       "    .dataframe tbody tr th:only-of-type {\n",
       "        vertical-align: middle;\n",
       "    }\n",
       "\n",
       "    .dataframe tbody tr th {\n",
       "        vertical-align: top;\n",
       "    }\n",
       "\n",
       "    .dataframe thead th {\n",
       "        text-align: right;\n",
       "    }\n",
       "</style>\n",
       "<table border=\"1\" class=\"dataframe\">\n",
       "  <thead>\n",
       "    <tr style=\"text-align: right;\">\n",
       "      <th></th>\n",
       "      <th>cast_total_facebook_likes</th>\n",
       "      <th>profit</th>\n",
       "    </tr>\n",
       "  </thead>\n",
       "  <tbody>\n",
       "    <tr>\n",
       "      <th>2653</th>\n",
       "      <td>1173.00</td>\n",
       "      <td>-14540065249.06</td>\n",
       "    </tr>\n",
       "    <tr>\n",
       "      <th>3246</th>\n",
       "      <td>907.00</td>\n",
       "      <td>-5161180739.57</td>\n",
       "    </tr>\n",
       "    <tr>\n",
       "      <th>2117</th>\n",
       "      <td>2710.00</td>\n",
       "      <td>-3585453072.10</td>\n",
       "    </tr>\n",
       "    <tr>\n",
       "      <th>2668</th>\n",
       "      <td>11.00</td>\n",
       "      <td>-3072045496.72</td>\n",
       "    </tr>\n",
       "    <tr>\n",
       "      <th>2128</th>\n",
       "      <td>991.00</td>\n",
       "      <td>-2702600170.28</td>\n",
       "    </tr>\n",
       "    <tr>\n",
       "      <th>...</th>\n",
       "      <td>...</td>\n",
       "      <td>...</td>\n",
       "    </tr>\n",
       "    <tr>\n",
       "      <th>3444</th>\n",
       "      <td>16.00</td>\n",
       "      <td>1270665631.43</td>\n",
       "    </tr>\n",
       "    <tr>\n",
       "      <th>1066</th>\n",
       "      <td>1178.00</td>\n",
       "      <td>1400612278.57</td>\n",
       "    </tr>\n",
       "    <tr>\n",
       "      <th>2679</th>\n",
       "      <td>13485.00</td>\n",
       "      <td>1781975398.51</td>\n",
       "    </tr>\n",
       "    <tr>\n",
       "      <th>3542</th>\n",
       "      <td>229.00</td>\n",
       "      <td>3048847005.44</td>\n",
       "    </tr>\n",
       "    <tr>\n",
       "      <th>3308</th>\n",
       "      <td>1862.00</td>\n",
       "      <td>3361449602.01</td>\n",
       "    </tr>\n",
       "  </tbody>\n",
       "</table>\n",
       "<p>3801 rows × 2 columns</p>\n",
       "</div>"
      ],
      "text/plain": [
       "      cast_total_facebook_likes          profit\n",
       "2653                    1173.00 -14540065249.06\n",
       "3246                     907.00  -5161180739.57\n",
       "2117                    2710.00  -3585453072.10\n",
       "2668                      11.00  -3072045496.72\n",
       "2128                     991.00  -2702600170.28\n",
       "...                         ...             ...\n",
       "3444                      16.00   1270665631.43\n",
       "1066                    1178.00   1400612278.57\n",
       "2679                   13485.00   1781975398.51\n",
       "3542                     229.00   3048847005.44\n",
       "3308                    1862.00   3361449602.01\n",
       "\n",
       "[3801 rows x 2 columns]"
      ]
     },
     "execution_count": 25,
     "metadata": {},
     "output_type": "execute_result"
    }
   ],
   "source": [
    "pd.set_option(\"display.float_format\", \"{:.2f}\".format)# преобразуем экспоненциальные числа в целые числа\n",
    "df[['cast_total_facebook_likes', 'profit']].sort_values(by=['profit'])\n",
    "#берём только столбики cast_total_facebook_likes и profit. Сортируем таблицу по возрастанию лайков"
   ]
  },
  {
   "cell_type": "markdown",
   "id": "0e51b8e6-c885-493a-a0fb-a3957b16acbb",
   "metadata": {},
   "source": [
    "## Итак, гипотеза которую мы предположили оказалась не верной, так как самые кассовые фильмы не имели у себя популярных в соцсетях актёров"
   ]
  },
  {
   "cell_type": "markdown",
   "id": "f0b00ba7-37a0-4bde-972a-0e1e3b639727",
   "metadata": {},
   "source": [
    "# Гипотеза 2: Фильмы, выпущенные в определенных странах, имеют более высокий бюджет. Я думаю, что от того где снят фильм будет зависеть и бюджет фильма. К примеру в США будут самые высокие бюджеты фильмов, а в Афганистане самые низкие."
   ]
  },
  {
   "cell_type": "code",
   "execution_count": 79,
   "id": "7fb98050-5d85-42bb-b9a2-c6f6b4a5cd6f",
   "metadata": {},
   "outputs": [
    {
     "data": {
      "text/plain": [
       "Series([], Name: real_budget, dtype: float64)"
      ]
     },
     "execution_count": 79,
     "metadata": {},
     "output_type": "execute_result"
    }
   ],
   "source": [
    "pd.set_option('display.max_rows', None) # убираем ограничения по колличеству строк для того чтобы посмотреть результат\n",
    "df_country = df.groupby(['country'])['real_budget'].sum()\n",
    "df_country = df_country[df_country.index.isin]\n",
    "df_country"
   ]
  },
  {
   "cell_type": "markdown",
   "id": "c4c49935-fe9f-48d2-8db2-2a2a642e9432",
   "metadata": {
    "jp-MarkdownHeadingCollapsed": true
   },
   "source": [
    "### Итак, наша гипотеза подтвердилась на половину. Для начала не будем рассматривать США и Францию. Меньше всего бюджета на фильмы у Ирана, Афганистана и других нестабильных стран региона, а больше всего бюджета на фильмы у стран дальнего востока Японии, Южной Кореи. И вроде гипотеза работает. Теперь я хочу выделить 3 класс стран США, Францию и др., их бюджет рознится от самого мальенького до очень огромного. Эти страны ломают нашу гепотезу, видимо кинематограф очень развит в этих странах и снимать фильмы может большое колличество людей. Именно по этому наша гипотеза выполнена лишь на половину."
   ]
  },
  {
   "cell_type": "markdown",
   "id": "e01e5246-abf3-4f06-b860-fca5cad7176d",
   "metadata": {},
   "source": [
    "# Гипотеза 3: Фильмы жанра Drama в среднем имеют более высокий рейтинг IMDb. Я думаю, жанр Drama может привлечь больше внимания зрителей и получить более высокие оценки на платформе IMDb."
   ]
  },
  {
   "cell_type": "code",
   "execution_count": 78,
   "id": "b48e55b9-30d3-4e16-8a87-6b3cb9b75d8d",
   "metadata": {},
   "outputs": [
    {
     "data": {
      "text/html": [
       "<div>\n",
       "<style scoped>\n",
       "    .dataframe tbody tr th:only-of-type {\n",
       "        vertical-align: middle;\n",
       "    }\n",
       "\n",
       "    .dataframe tbody tr th {\n",
       "        vertical-align: top;\n",
       "    }\n",
       "\n",
       "    .dataframe thead th {\n",
       "        text-align: right;\n",
       "    }\n",
       "</style>\n",
       "<table border=\"1\" class=\"dataframe\">\n",
       "  <thead>\n",
       "    <tr style=\"text-align: right;\">\n",
       "      <th></th>\n",
       "      <th>genres</th>\n",
       "      <th>imdb_score</th>\n",
       "    </tr>\n",
       "  </thead>\n",
       "  <tbody>\n",
       "    <tr>\n",
       "      <th>19</th>\n",
       "      <td>Horror</td>\n",
       "      <td>5.92</td>\n",
       "    </tr>\n",
       "    <tr>\n",
       "      <th>15</th>\n",
       "      <td>Comedy</td>\n",
       "      <td>6.18</td>\n",
       "    </tr>\n",
       "    <tr>\n",
       "      <th>6</th>\n",
       "      <td>Family</td>\n",
       "      <td>6.21</td>\n",
       "    </tr>\n",
       "    <tr>\n",
       "      <th>20</th>\n",
       "      <td>Fantasy</td>\n",
       "      <td>6.29</td>\n",
       "    </tr>\n",
       "    <tr>\n",
       "      <th>12</th>\n",
       "      <td>Action</td>\n",
       "      <td>6.29</td>\n",
       "    </tr>\n",
       "    <tr>\n",
       "      <th>7</th>\n",
       "      <td>Sci-Fi</td>\n",
       "      <td>6.32</td>\n",
       "    </tr>\n",
       "    <tr>\n",
       "      <th>5</th>\n",
       "      <td>Thriller</td>\n",
       "      <td>6.38</td>\n",
       "    </tr>\n",
       "    <tr>\n",
       "      <th>11</th>\n",
       "      <td>Romance</td>\n",
       "      <td>6.42</td>\n",
       "    </tr>\n",
       "    <tr>\n",
       "      <th>18</th>\n",
       "      <td>Adventure</td>\n",
       "      <td>6.45</td>\n",
       "    </tr>\n",
       "    <tr>\n",
       "      <th>10</th>\n",
       "      <td>Music</td>\n",
       "      <td>6.46</td>\n",
       "    </tr>\n",
       "    <tr>\n",
       "      <th>22</th>\n",
       "      <td>Mystery</td>\n",
       "      <td>6.47</td>\n",
       "    </tr>\n",
       "    <tr>\n",
       "      <th>3</th>\n",
       "      <td>Crime</td>\n",
       "      <td>6.54</td>\n",
       "    </tr>\n",
       "    <tr>\n",
       "      <th>2</th>\n",
       "      <td>Musical</td>\n",
       "      <td>6.56</td>\n",
       "    </tr>\n",
       "    <tr>\n",
       "      <th>13</th>\n",
       "      <td>Sport</td>\n",
       "      <td>6.60</td>\n",
       "    </tr>\n",
       "    <tr>\n",
       "      <th>16</th>\n",
       "      <td>Animation</td>\n",
       "      <td>6.69</td>\n",
       "    </tr>\n",
       "    <tr>\n",
       "      <th>8</th>\n",
       "      <td>Western</td>\n",
       "      <td>6.71</td>\n",
       "    </tr>\n",
       "    <tr>\n",
       "      <th>21</th>\n",
       "      <td>Drama</td>\n",
       "      <td>6.78</td>\n",
       "    </tr>\n",
       "    <tr>\n",
       "      <th>14</th>\n",
       "      <td>Short</td>\n",
       "      <td>6.80</td>\n",
       "    </tr>\n",
       "    <tr>\n",
       "      <th>4</th>\n",
       "      <td>Documentary</td>\n",
       "      <td>6.99</td>\n",
       "    </tr>\n",
       "    <tr>\n",
       "      <th>1</th>\n",
       "      <td>War</td>\n",
       "      <td>7.06</td>\n",
       "    </tr>\n",
       "    <tr>\n",
       "      <th>9</th>\n",
       "      <td>History</td>\n",
       "      <td>7.13</td>\n",
       "    </tr>\n",
       "    <tr>\n",
       "      <th>17</th>\n",
       "      <td>Biography</td>\n",
       "      <td>7.14</td>\n",
       "    </tr>\n",
       "    <tr>\n",
       "      <th>0</th>\n",
       "      <td>Film-Noir</td>\n",
       "      <td>7.70</td>\n",
       "    </tr>\n",
       "  </tbody>\n",
       "</table>\n",
       "</div>"
      ],
      "text/plain": [
       "         genres  imdb_score\n",
       "19       Horror        5.92\n",
       "15       Comedy        6.18\n",
       "6        Family        6.21\n",
       "20      Fantasy        6.29\n",
       "12       Action        6.29\n",
       "7        Sci-Fi        6.32\n",
       "5      Thriller        6.38\n",
       "11      Romance        6.42\n",
       "18    Adventure        6.45\n",
       "10        Music        6.46\n",
       "22      Mystery        6.47\n",
       "3         Crime        6.54\n",
       "2       Musical        6.56\n",
       "13        Sport        6.60\n",
       "16    Animation        6.69\n",
       "8       Western        6.71\n",
       "21        Drama        6.78\n",
       "14        Short        6.80\n",
       "4   Documentary        6.99\n",
       "1           War        7.06\n",
       "9       History        7.13\n",
       "17    Biography        7.14\n",
       "0     Film-Noir        7.70"
      ]
     },
     "execution_count": 78,
     "metadata": {},
     "output_type": "execute_result"
    }
   ],
   "source": [
    "genres_set = set()\n",
    "for i in df.genres:\n",
    "    genres_of_film = i.split(\"|\")\n",
    "    for j in genres_of_film:\n",
    "        genres_set.add(j)\n",
    "\n",
    "genres = list(genres_set)\n",
    "data_imdb = pd.DataFrame(columns=['genres','imdb_score'])\n",
    "             \n",
    "for i in genres:\n",
    "    data_imdb.loc[ len(data_imdb.index )] = [i, df.loc[df['genres'].str.contains(i)]['imdb_score'].mean()]\n",
    "\n",
    "data_imdb = data_imdb.sort_values(by = 'imdb_score')\n",
    "data_imdb"
   ]
  },
  {
   "cell_type": "markdown",
   "id": "d57d6037-8362-4dd1-b320-5a957165e9cb",
   "metadata": {},
   "source": [
    "### Итак, наша гипотеза не подтвердилась. Самые низки оценки по мнению IMDb в основном у хорроров, а самый высокий у фильмов ной"
   ]
  },
  {
   "cell_type": "markdown",
   "id": "aac21edb-5de5-40af-ac55-7c56fea32b72",
   "metadata": {},
   "source": [
    "Экспортируем изменённые датасеты в папку data"
   ]
  },
  {
   "cell_type": "code",
   "execution_count": 49,
   "id": "1521207e-b8c6-43c3-acbf-d2099377c89e",
   "metadata": {},
   "outputs": [],
   "source": [
    "cpi_table.to_csv(r'..\\data\\Lab1_Fink_CPI.csv' ,index = False)\n",
    "df.to_csv(r'..\\data\\Lab1_Fink_FIT-222.csv' ,index = False)"
   ]
  },
  {
   "cell_type": "code",
   "execution_count": null,
   "id": "ad2701c5-98dd-4a07-a7fa-837a12f97b20",
   "metadata": {},
   "outputs": [],
   "source": []
  }
 ],
 "metadata": {
  "kernelspec": {
   "display_name": "Python 3 (ipykernel)",
   "language": "python",
   "name": "python3"
  },
  "language_info": {
   "codemirror_mode": {
    "name": "ipython",
    "version": 3
   },
   "file_extension": ".py",
   "mimetype": "text/x-python",
   "name": "python",
   "nbconvert_exporter": "python",
   "pygments_lexer": "ipython3",
   "version": "3.11.2"
  }
 },
 "nbformat": 4,
 "nbformat_minor": 5
}
