{
 "cells": [
  {
   "cell_type": "markdown",
   "id": "7236dc81-ba4d-4805-8213-72e6e96e5cc1",
   "metadata": {},
   "source": [
    "## Задание 1\n",
    "\n",
    "Какова вероятность отправиться на прогулку если идёт дождь, при наличии следующих наблюдений?\n",
    "\n",
    "```\n",
    "data = [\n",
    "        ('солнечно', True),\n",
    "        ('снег', False),\n",
    "        ('облачно', False),\n",
    "        ('дождь', False),\n",
    "        ('солнечно', True),\n",
    "        ('снег', False),\n",
    "        ('облачно', True),\n",
    "        ('снег', False),\n",
    "        ('солнечно', False),\n",
    "        ('облачно', True),\n",
    "        ('снег', True),\n",
    "        ('солнечно', True),\n",
    "        ('дождь', False),\n",
    "        ('дождь', True),\n",
    "        ('облачно', True),\n",
    "]\n",
    "```"
   ]
  },
  {
   "cell_type": "markdown",
   "id": "23161aee-cb1b-4125-a507-46e3b4e2fbdc",
   "metadata": {},
   "source": [
    "Импортируем нужные бибилитоеки. Рandas для работы с датасетами и LogisticRegression для поиска вероятности того, что данное исходное значение принадлежит к определенному классу."
   ]
  },
  {
   "cell_type": "code",
   "execution_count": 1,
   "id": "d19d2a31-8849-40e9-8e9a-2f199a48552b",
   "metadata": {},
   "outputs": [],
   "source": [
    "import pandas as pd\n",
    "from sklearn.linear_model import LogisticRegression"
   ]
  },
  {
   "cell_type": "markdown",
   "id": "93d34cf0-0a3b-4d14-99f0-dde1a31231b7",
   "metadata": {},
   "source": [
    "Создадим список данных из задания"
   ]
  },
  {
   "cell_type": "code",
   "execution_count": 2,
   "id": "7f4d4d2f-b0ca-47f3-b0ca-ed0668512167",
   "metadata": {},
   "outputs": [],
   "source": [
    "data = [\n",
    "        ('солнечно', True),\n",
    "        ('снег', False),\n",
    "        ('облачно', False),\n",
    "        ('дождь', False),\n",
    "        ('солнечно', True),\n",
    "        ('снег', False),\n",
    "        ('облачно', True),\n",
    "        ('снег', False),\n",
    "        ('солнечно', False),\n",
    "        ('облачно', True),\n",
    "        ('снег', True),\n",
    "        ('солнечно', True),\n",
    "        ('дождь', False),\n",
    "        ('дождь', True),\n",
    "        ('облачно', True),\n",
    "]"
   ]
  },
  {
   "cell_type": "markdown",
   "id": "8e6a5276-68ed-4f07-9476-f651d08bb435",
   "metadata": {},
   "source": [
    "Создадим датафрейм из заданных данных"
   ]
  },
  {
   "cell_type": "code",
   "execution_count": 3,
   "id": "8e986dc6-2557-4e9e-bb63-9ff60e46d181",
   "metadata": {},
   "outputs": [],
   "source": [
    "df = pd.DataFrame(data, columns=['погода', 'прогулка'])"
   ]
  },
  {
   "cell_type": "markdown",
   "id": "d30b082c-620f-4432-a288-d1a2307c44f2",
   "metadata": {},
   "source": [
    "Посмотрим на то что получилось"
   ]
  },
  {
   "cell_type": "code",
   "execution_count": 4,
   "id": "ec0f1f93-387d-4c9b-8fa1-74d8c0d3252b",
   "metadata": {},
   "outputs": [
    {
     "data": {
      "text/html": [
       "<div>\n",
       "<style scoped>\n",
       "    .dataframe tbody tr th:only-of-type {\n",
       "        vertical-align: middle;\n",
       "    }\n",
       "\n",
       "    .dataframe tbody tr th {\n",
       "        vertical-align: top;\n",
       "    }\n",
       "\n",
       "    .dataframe thead th {\n",
       "        text-align: right;\n",
       "    }\n",
       "</style>\n",
       "<table border=\"1\" class=\"dataframe\">\n",
       "  <thead>\n",
       "    <tr style=\"text-align: right;\">\n",
       "      <th></th>\n",
       "      <th>погода</th>\n",
       "      <th>прогулка</th>\n",
       "    </tr>\n",
       "  </thead>\n",
       "  <tbody>\n",
       "    <tr>\n",
       "      <th>0</th>\n",
       "      <td>солнечно</td>\n",
       "      <td>True</td>\n",
       "    </tr>\n",
       "    <tr>\n",
       "      <th>1</th>\n",
       "      <td>снег</td>\n",
       "      <td>False</td>\n",
       "    </tr>\n",
       "    <tr>\n",
       "      <th>2</th>\n",
       "      <td>облачно</td>\n",
       "      <td>False</td>\n",
       "    </tr>\n",
       "    <tr>\n",
       "      <th>3</th>\n",
       "      <td>дождь</td>\n",
       "      <td>False</td>\n",
       "    </tr>\n",
       "    <tr>\n",
       "      <th>4</th>\n",
       "      <td>солнечно</td>\n",
       "      <td>True</td>\n",
       "    </tr>\n",
       "    <tr>\n",
       "      <th>5</th>\n",
       "      <td>снег</td>\n",
       "      <td>False</td>\n",
       "    </tr>\n",
       "    <tr>\n",
       "      <th>6</th>\n",
       "      <td>облачно</td>\n",
       "      <td>True</td>\n",
       "    </tr>\n",
       "    <tr>\n",
       "      <th>7</th>\n",
       "      <td>снег</td>\n",
       "      <td>False</td>\n",
       "    </tr>\n",
       "    <tr>\n",
       "      <th>8</th>\n",
       "      <td>солнечно</td>\n",
       "      <td>False</td>\n",
       "    </tr>\n",
       "    <tr>\n",
       "      <th>9</th>\n",
       "      <td>облачно</td>\n",
       "      <td>True</td>\n",
       "    </tr>\n",
       "    <tr>\n",
       "      <th>10</th>\n",
       "      <td>снег</td>\n",
       "      <td>True</td>\n",
       "    </tr>\n",
       "    <tr>\n",
       "      <th>11</th>\n",
       "      <td>солнечно</td>\n",
       "      <td>True</td>\n",
       "    </tr>\n",
       "    <tr>\n",
       "      <th>12</th>\n",
       "      <td>дождь</td>\n",
       "      <td>False</td>\n",
       "    </tr>\n",
       "    <tr>\n",
       "      <th>13</th>\n",
       "      <td>дождь</td>\n",
       "      <td>True</td>\n",
       "    </tr>\n",
       "    <tr>\n",
       "      <th>14</th>\n",
       "      <td>облачно</td>\n",
       "      <td>True</td>\n",
       "    </tr>\n",
       "  </tbody>\n",
       "</table>\n",
       "</div>"
      ],
      "text/plain": [
       "      погода  прогулка\n",
       "0   солнечно      True\n",
       "1       снег     False\n",
       "2    облачно     False\n",
       "3      дождь     False\n",
       "4   солнечно      True\n",
       "5       снег     False\n",
       "6    облачно      True\n",
       "7       снег     False\n",
       "8   солнечно     False\n",
       "9    облачно      True\n",
       "10      снег      True\n",
       "11  солнечно      True\n",
       "12     дождь     False\n",
       "13     дождь      True\n",
       "14   облачно      True"
      ]
     },
     "execution_count": 4,
     "metadata": {},
     "output_type": "execute_result"
    }
   ],
   "source": [
    "df"
   ]
  },
  {
   "cell_type": "markdown",
   "id": "d3f63c84-b0a1-41a3-9ba9-0704e63d9410",
   "metadata": {},
   "source": [
    "Преобразуем категориальные переменные в числовые значения"
   ]
  },
  {
   "cell_type": "code",
   "execution_count": 5,
   "id": "b9577b31-c29e-446e-b01c-cca47e16c160",
   "metadata": {},
   "outputs": [],
   "source": [
    "df['погода'] = pd.Categorical(df['погода']).codes"
   ]
  },
  {
   "cell_type": "markdown",
   "id": "a48255f8-163c-4a49-88ab-74fe68e6ae2c",
   "metadata": {},
   "source": [
    "посмотрим что вышло"
   ]
  },
  {
   "cell_type": "code",
   "execution_count": 6,
   "id": "a4a0ffb4-5ce6-4c4b-845a-ee55ced6d726",
   "metadata": {},
   "outputs": [
    {
     "data": {
      "text/html": [
       "<div>\n",
       "<style scoped>\n",
       "    .dataframe tbody tr th:only-of-type {\n",
       "        vertical-align: middle;\n",
       "    }\n",
       "\n",
       "    .dataframe tbody tr th {\n",
       "        vertical-align: top;\n",
       "    }\n",
       "\n",
       "    .dataframe thead th {\n",
       "        text-align: right;\n",
       "    }\n",
       "</style>\n",
       "<table border=\"1\" class=\"dataframe\">\n",
       "  <thead>\n",
       "    <tr style=\"text-align: right;\">\n",
       "      <th></th>\n",
       "      <th>погода</th>\n",
       "      <th>прогулка</th>\n",
       "    </tr>\n",
       "  </thead>\n",
       "  <tbody>\n",
       "    <tr>\n",
       "      <th>0</th>\n",
       "      <td>3</td>\n",
       "      <td>True</td>\n",
       "    </tr>\n",
       "    <tr>\n",
       "      <th>1</th>\n",
       "      <td>2</td>\n",
       "      <td>False</td>\n",
       "    </tr>\n",
       "    <tr>\n",
       "      <th>2</th>\n",
       "      <td>1</td>\n",
       "      <td>False</td>\n",
       "    </tr>\n",
       "    <tr>\n",
       "      <th>3</th>\n",
       "      <td>0</td>\n",
       "      <td>False</td>\n",
       "    </tr>\n",
       "    <tr>\n",
       "      <th>4</th>\n",
       "      <td>3</td>\n",
       "      <td>True</td>\n",
       "    </tr>\n",
       "    <tr>\n",
       "      <th>5</th>\n",
       "      <td>2</td>\n",
       "      <td>False</td>\n",
       "    </tr>\n",
       "    <tr>\n",
       "      <th>6</th>\n",
       "      <td>1</td>\n",
       "      <td>True</td>\n",
       "    </tr>\n",
       "    <tr>\n",
       "      <th>7</th>\n",
       "      <td>2</td>\n",
       "      <td>False</td>\n",
       "    </tr>\n",
       "    <tr>\n",
       "      <th>8</th>\n",
       "      <td>3</td>\n",
       "      <td>False</td>\n",
       "    </tr>\n",
       "    <tr>\n",
       "      <th>9</th>\n",
       "      <td>1</td>\n",
       "      <td>True</td>\n",
       "    </tr>\n",
       "    <tr>\n",
       "      <th>10</th>\n",
       "      <td>2</td>\n",
       "      <td>True</td>\n",
       "    </tr>\n",
       "    <tr>\n",
       "      <th>11</th>\n",
       "      <td>3</td>\n",
       "      <td>True</td>\n",
       "    </tr>\n",
       "    <tr>\n",
       "      <th>12</th>\n",
       "      <td>0</td>\n",
       "      <td>False</td>\n",
       "    </tr>\n",
       "    <tr>\n",
       "      <th>13</th>\n",
       "      <td>0</td>\n",
       "      <td>True</td>\n",
       "    </tr>\n",
       "    <tr>\n",
       "      <th>14</th>\n",
       "      <td>1</td>\n",
       "      <td>True</td>\n",
       "    </tr>\n",
       "  </tbody>\n",
       "</table>\n",
       "</div>"
      ],
      "text/plain": [
       "    погода  прогулка\n",
       "0        3      True\n",
       "1        2     False\n",
       "2        1     False\n",
       "3        0     False\n",
       "4        3      True\n",
       "5        2     False\n",
       "6        1      True\n",
       "7        2     False\n",
       "8        3     False\n",
       "9        1      True\n",
       "10       2      True\n",
       "11       3      True\n",
       "12       0     False\n",
       "13       0      True\n",
       "14       1      True"
      ]
     },
     "execution_count": 6,
     "metadata": {},
     "output_type": "execute_result"
    }
   ],
   "source": [
    "df"
   ]
  },
  {
   "cell_type": "markdown",
   "id": "847e2f10-35ef-436a-99dd-d6e914f9caf4",
   "metadata": {},
   "source": [
    "Разделяем данные предиктор (X) и целевой признак (y)."
   ]
  },
  {
   "cell_type": "code",
   "execution_count": 7,
   "id": "9c9ad384-6f01-475f-a8ed-146abc90ebab",
   "metadata": {},
   "outputs": [],
   "source": [
    "X = df[['погода']]\n",
    "y = df['прогулка']"
   ]
  },
  {
   "cell_type": "markdown",
   "id": "a721b46a-0a67-46ee-be30-223083e4aa24",
   "metadata": {},
   "source": [
    "Обучаем модель логистической регрессии"
   ]
  },
  {
   "cell_type": "code",
   "execution_count": 8,
   "id": "618f4c31-351f-4bc9-ae16-fed31a78e24f",
   "metadata": {},
   "outputs": [
    {
     "data": {
      "text/html": [
       "<style>#sk-container-id-1 {color: black;}#sk-container-id-1 pre{padding: 0;}#sk-container-id-1 div.sk-toggleable {background-color: white;}#sk-container-id-1 label.sk-toggleable__label {cursor: pointer;display: block;width: 100%;margin-bottom: 0;padding: 0.3em;box-sizing: border-box;text-align: center;}#sk-container-id-1 label.sk-toggleable__label-arrow:before {content: \"▸\";float: left;margin-right: 0.25em;color: #696969;}#sk-container-id-1 label.sk-toggleable__label-arrow:hover:before {color: black;}#sk-container-id-1 div.sk-estimator:hover label.sk-toggleable__label-arrow:before {color: black;}#sk-container-id-1 div.sk-toggleable__content {max-height: 0;max-width: 0;overflow: hidden;text-align: left;background-color: #f0f8ff;}#sk-container-id-1 div.sk-toggleable__content pre {margin: 0.2em;color: black;border-radius: 0.25em;background-color: #f0f8ff;}#sk-container-id-1 input.sk-toggleable__control:checked~div.sk-toggleable__content {max-height: 200px;max-width: 100%;overflow: auto;}#sk-container-id-1 input.sk-toggleable__control:checked~label.sk-toggleable__label-arrow:before {content: \"▾\";}#sk-container-id-1 div.sk-estimator input.sk-toggleable__control:checked~label.sk-toggleable__label {background-color: #d4ebff;}#sk-container-id-1 div.sk-label input.sk-toggleable__control:checked~label.sk-toggleable__label {background-color: #d4ebff;}#sk-container-id-1 input.sk-hidden--visually {border: 0;clip: rect(1px 1px 1px 1px);clip: rect(1px, 1px, 1px, 1px);height: 1px;margin: -1px;overflow: hidden;padding: 0;position: absolute;width: 1px;}#sk-container-id-1 div.sk-estimator {font-family: monospace;background-color: #f0f8ff;border: 1px dotted black;border-radius: 0.25em;box-sizing: border-box;margin-bottom: 0.5em;}#sk-container-id-1 div.sk-estimator:hover {background-color: #d4ebff;}#sk-container-id-1 div.sk-parallel-item::after {content: \"\";width: 100%;border-bottom: 1px solid gray;flex-grow: 1;}#sk-container-id-1 div.sk-label:hover label.sk-toggleable__label {background-color: #d4ebff;}#sk-container-id-1 div.sk-serial::before {content: \"\";position: absolute;border-left: 1px solid gray;box-sizing: border-box;top: 0;bottom: 0;left: 50%;z-index: 0;}#sk-container-id-1 div.sk-serial {display: flex;flex-direction: column;align-items: center;background-color: white;padding-right: 0.2em;padding-left: 0.2em;position: relative;}#sk-container-id-1 div.sk-item {position: relative;z-index: 1;}#sk-container-id-1 div.sk-parallel {display: flex;align-items: stretch;justify-content: center;background-color: white;position: relative;}#sk-container-id-1 div.sk-item::before, #sk-container-id-1 div.sk-parallel-item::before {content: \"\";position: absolute;border-left: 1px solid gray;box-sizing: border-box;top: 0;bottom: 0;left: 50%;z-index: -1;}#sk-container-id-1 div.sk-parallel-item {display: flex;flex-direction: column;z-index: 1;position: relative;background-color: white;}#sk-container-id-1 div.sk-parallel-item:first-child::after {align-self: flex-end;width: 50%;}#sk-container-id-1 div.sk-parallel-item:last-child::after {align-self: flex-start;width: 50%;}#sk-container-id-1 div.sk-parallel-item:only-child::after {width: 0;}#sk-container-id-1 div.sk-dashed-wrapped {border: 1px dashed gray;margin: 0 0.4em 0.5em 0.4em;box-sizing: border-box;padding-bottom: 0.4em;background-color: white;}#sk-container-id-1 div.sk-label label {font-family: monospace;font-weight: bold;display: inline-block;line-height: 1.2em;}#sk-container-id-1 div.sk-label-container {text-align: center;}#sk-container-id-1 div.sk-container {/* jupyter's `normalize.less` sets `[hidden] { display: none; }` but bootstrap.min.css set `[hidden] { display: none !important; }` so we also need the `!important` here to be able to override the default hidden behavior on the sphinx rendered scikit-learn.org. See: https://github.com/scikit-learn/scikit-learn/issues/21755 */display: inline-block !important;position: relative;}#sk-container-id-1 div.sk-text-repr-fallback {display: none;}</style><div id=\"sk-container-id-1\" class=\"sk-top-container\"><div class=\"sk-text-repr-fallback\"><pre>LogisticRegression()</pre><b>In a Jupyter environment, please rerun this cell to show the HTML representation or trust the notebook. <br />On GitHub, the HTML representation is unable to render, please try loading this page with nbviewer.org.</b></div><div class=\"sk-container\" hidden><div class=\"sk-item\"><div class=\"sk-estimator sk-toggleable\"><input class=\"sk-toggleable__control sk-hidden--visually\" id=\"sk-estimator-id-1\" type=\"checkbox\" checked><label for=\"sk-estimator-id-1\" class=\"sk-toggleable__label sk-toggleable__label-arrow\">LogisticRegression</label><div class=\"sk-toggleable__content\"><pre>LogisticRegression()</pre></div></div></div></div></div>"
      ],
      "text/plain": [
       "LogisticRegression()"
      ]
     },
     "execution_count": 8,
     "metadata": {},
     "output_type": "execute_result"
    }
   ],
   "source": [
    "model = LogisticRegression()\n",
    "model.fit(X, y)"
   ]
  },
  {
   "cell_type": "markdown",
   "id": "56ea35d0-7efd-4a5e-b48f-cfbe764e11df",
   "metadata": {},
   "source": [
    "Предсказываем вероятность прогулки во время дождя (погодный код дождя — 0)"
   ]
  },
  {
   "cell_type": "code",
   "execution_count": 9,
   "id": "b9f46475-31ea-4958-a9ab-eb4edde09313",
   "metadata": {},
   "outputs": [
    {
     "name": "stderr",
     "output_type": "stream",
     "text": [
      "C:\\Users\\Sovano\\Desktop\\ML\\venv\\Lib\\site-packages\\sklearn\\base.py:464: UserWarning: X does not have valid feature names, but LogisticRegression was fitted with feature names\n",
      "  warnings.warn(\n"
     ]
    },
    {
     "data": {
      "text/plain": [
       "0.4443067966379402"
      ]
     },
     "execution_count": 9,
     "metadata": {},
     "output_type": "execute_result"
    }
   ],
   "source": [
    "rain_probability = model.predict_proba([[0]])[0][1]\n",
    "rain_probability"
   ]
  },
  {
   "cell_type": "markdown",
   "id": "5d3c4bef-730f-48e0-a235-bcda430f7bfd",
   "metadata": {},
   "source": [
    "# Задание 2"
   ]
  },
  {
   "cell_type": "markdown",
   "id": "1b357f40-7cb0-4d3b-9eca-5aca5443f4c2",
   "metadata": {},
   "source": [
    "## Загрузите датасет для классификации (см. файл Excel для Лаб.работы №3), проведите предобработку, выделите целевой признак и предикторы, разбейте данные на обучающую и тестовую выборку."
   ]
  },
  {
   "cell_type": "markdown",
   "id": "38ff7bea-cab9-45d7-836c-3f3f7c971c0a",
   "metadata": {},
   "source": [
    "Импортируем датасет"
   ]
  },
  {
   "cell_type": "code",
   "execution_count": 10,
   "id": "41e7b85a-97be-48f7-ae55-ba74058609a4",
   "metadata": {},
   "outputs": [],
   "source": [
    "df = pd.read_csv('..\\data\\weatherAUS.csv')"
   ]
  },
  {
   "cell_type": "markdown",
   "id": "6e6f098d-6eec-4b35-a6e0-fe93fb1207c9",
   "metadata": {},
   "source": [
    "Теперь посмотрим на то как выглядит наш датасет"
   ]
  },
  {
   "cell_type": "code",
   "execution_count": 11,
   "id": "cb2219f9-f01d-483f-b1be-f8a69f16c9e1",
   "metadata": {},
   "outputs": [
    {
     "data": {
      "text/html": [
       "<div>\n",
       "<style scoped>\n",
       "    .dataframe tbody tr th:only-of-type {\n",
       "        vertical-align: middle;\n",
       "    }\n",
       "\n",
       "    .dataframe tbody tr th {\n",
       "        vertical-align: top;\n",
       "    }\n",
       "\n",
       "    .dataframe thead th {\n",
       "        text-align: right;\n",
       "    }\n",
       "</style>\n",
       "<table border=\"1\" class=\"dataframe\">\n",
       "  <thead>\n",
       "    <tr style=\"text-align: right;\">\n",
       "      <th></th>\n",
       "      <th>Date</th>\n",
       "      <th>Location</th>\n",
       "      <th>MinTemp</th>\n",
       "      <th>MaxTemp</th>\n",
       "      <th>Rainfall</th>\n",
       "      <th>Evaporation</th>\n",
       "      <th>Sunshine</th>\n",
       "      <th>WindGustDir</th>\n",
       "      <th>WindGustSpeed</th>\n",
       "      <th>WindDir9am</th>\n",
       "      <th>...</th>\n",
       "      <th>Humidity9am</th>\n",
       "      <th>Humidity3pm</th>\n",
       "      <th>Pressure9am</th>\n",
       "      <th>Pressure3pm</th>\n",
       "      <th>Cloud9am</th>\n",
       "      <th>Cloud3pm</th>\n",
       "      <th>Temp9am</th>\n",
       "      <th>Temp3pm</th>\n",
       "      <th>RainToday</th>\n",
       "      <th>RainTomorrow</th>\n",
       "    </tr>\n",
       "  </thead>\n",
       "  <tbody>\n",
       "    <tr>\n",
       "      <th>0</th>\n",
       "      <td>2008-12-01</td>\n",
       "      <td>Albury</td>\n",
       "      <td>13.4</td>\n",
       "      <td>22.9</td>\n",
       "      <td>0.6</td>\n",
       "      <td>NaN</td>\n",
       "      <td>NaN</td>\n",
       "      <td>W</td>\n",
       "      <td>44.0</td>\n",
       "      <td>W</td>\n",
       "      <td>...</td>\n",
       "      <td>71.0</td>\n",
       "      <td>22.0</td>\n",
       "      <td>1007.7</td>\n",
       "      <td>1007.1</td>\n",
       "      <td>8.0</td>\n",
       "      <td>NaN</td>\n",
       "      <td>16.9</td>\n",
       "      <td>21.8</td>\n",
       "      <td>No</td>\n",
       "      <td>No</td>\n",
       "    </tr>\n",
       "    <tr>\n",
       "      <th>1</th>\n",
       "      <td>2008-12-02</td>\n",
       "      <td>Albury</td>\n",
       "      <td>7.4</td>\n",
       "      <td>25.1</td>\n",
       "      <td>0.0</td>\n",
       "      <td>NaN</td>\n",
       "      <td>NaN</td>\n",
       "      <td>WNW</td>\n",
       "      <td>44.0</td>\n",
       "      <td>NNW</td>\n",
       "      <td>...</td>\n",
       "      <td>44.0</td>\n",
       "      <td>25.0</td>\n",
       "      <td>1010.6</td>\n",
       "      <td>1007.8</td>\n",
       "      <td>NaN</td>\n",
       "      <td>NaN</td>\n",
       "      <td>17.2</td>\n",
       "      <td>24.3</td>\n",
       "      <td>No</td>\n",
       "      <td>No</td>\n",
       "    </tr>\n",
       "    <tr>\n",
       "      <th>2</th>\n",
       "      <td>2008-12-03</td>\n",
       "      <td>Albury</td>\n",
       "      <td>12.9</td>\n",
       "      <td>25.7</td>\n",
       "      <td>0.0</td>\n",
       "      <td>NaN</td>\n",
       "      <td>NaN</td>\n",
       "      <td>WSW</td>\n",
       "      <td>46.0</td>\n",
       "      <td>W</td>\n",
       "      <td>...</td>\n",
       "      <td>38.0</td>\n",
       "      <td>30.0</td>\n",
       "      <td>1007.6</td>\n",
       "      <td>1008.7</td>\n",
       "      <td>NaN</td>\n",
       "      <td>2.0</td>\n",
       "      <td>21.0</td>\n",
       "      <td>23.2</td>\n",
       "      <td>No</td>\n",
       "      <td>No</td>\n",
       "    </tr>\n",
       "    <tr>\n",
       "      <th>3</th>\n",
       "      <td>2008-12-04</td>\n",
       "      <td>Albury</td>\n",
       "      <td>9.2</td>\n",
       "      <td>28.0</td>\n",
       "      <td>0.0</td>\n",
       "      <td>NaN</td>\n",
       "      <td>NaN</td>\n",
       "      <td>NE</td>\n",
       "      <td>24.0</td>\n",
       "      <td>SE</td>\n",
       "      <td>...</td>\n",
       "      <td>45.0</td>\n",
       "      <td>16.0</td>\n",
       "      <td>1017.6</td>\n",
       "      <td>1012.8</td>\n",
       "      <td>NaN</td>\n",
       "      <td>NaN</td>\n",
       "      <td>18.1</td>\n",
       "      <td>26.5</td>\n",
       "      <td>No</td>\n",
       "      <td>No</td>\n",
       "    </tr>\n",
       "    <tr>\n",
       "      <th>4</th>\n",
       "      <td>2008-12-05</td>\n",
       "      <td>Albury</td>\n",
       "      <td>17.5</td>\n",
       "      <td>32.3</td>\n",
       "      <td>1.0</td>\n",
       "      <td>NaN</td>\n",
       "      <td>NaN</td>\n",
       "      <td>W</td>\n",
       "      <td>41.0</td>\n",
       "      <td>ENE</td>\n",
       "      <td>...</td>\n",
       "      <td>82.0</td>\n",
       "      <td>33.0</td>\n",
       "      <td>1010.8</td>\n",
       "      <td>1006.0</td>\n",
       "      <td>7.0</td>\n",
       "      <td>8.0</td>\n",
       "      <td>17.8</td>\n",
       "      <td>29.7</td>\n",
       "      <td>No</td>\n",
       "      <td>No</td>\n",
       "    </tr>\n",
       "    <tr>\n",
       "      <th>5</th>\n",
       "      <td>2008-12-06</td>\n",
       "      <td>Albury</td>\n",
       "      <td>14.6</td>\n",
       "      <td>29.7</td>\n",
       "      <td>0.2</td>\n",
       "      <td>NaN</td>\n",
       "      <td>NaN</td>\n",
       "      <td>WNW</td>\n",
       "      <td>56.0</td>\n",
       "      <td>W</td>\n",
       "      <td>...</td>\n",
       "      <td>55.0</td>\n",
       "      <td>23.0</td>\n",
       "      <td>1009.2</td>\n",
       "      <td>1005.4</td>\n",
       "      <td>NaN</td>\n",
       "      <td>NaN</td>\n",
       "      <td>20.6</td>\n",
       "      <td>28.9</td>\n",
       "      <td>No</td>\n",
       "      <td>No</td>\n",
       "    </tr>\n",
       "    <tr>\n",
       "      <th>6</th>\n",
       "      <td>2008-12-07</td>\n",
       "      <td>Albury</td>\n",
       "      <td>14.3</td>\n",
       "      <td>25.0</td>\n",
       "      <td>0.0</td>\n",
       "      <td>NaN</td>\n",
       "      <td>NaN</td>\n",
       "      <td>W</td>\n",
       "      <td>50.0</td>\n",
       "      <td>SW</td>\n",
       "      <td>...</td>\n",
       "      <td>49.0</td>\n",
       "      <td>19.0</td>\n",
       "      <td>1009.6</td>\n",
       "      <td>1008.2</td>\n",
       "      <td>1.0</td>\n",
       "      <td>NaN</td>\n",
       "      <td>18.1</td>\n",
       "      <td>24.6</td>\n",
       "      <td>No</td>\n",
       "      <td>No</td>\n",
       "    </tr>\n",
       "    <tr>\n",
       "      <th>7</th>\n",
       "      <td>2008-12-08</td>\n",
       "      <td>Albury</td>\n",
       "      <td>7.7</td>\n",
       "      <td>26.7</td>\n",
       "      <td>0.0</td>\n",
       "      <td>NaN</td>\n",
       "      <td>NaN</td>\n",
       "      <td>W</td>\n",
       "      <td>35.0</td>\n",
       "      <td>SSE</td>\n",
       "      <td>...</td>\n",
       "      <td>48.0</td>\n",
       "      <td>19.0</td>\n",
       "      <td>1013.4</td>\n",
       "      <td>1010.1</td>\n",
       "      <td>NaN</td>\n",
       "      <td>NaN</td>\n",
       "      <td>16.3</td>\n",
       "      <td>25.5</td>\n",
       "      <td>No</td>\n",
       "      <td>No</td>\n",
       "    </tr>\n",
       "    <tr>\n",
       "      <th>8</th>\n",
       "      <td>2008-12-09</td>\n",
       "      <td>Albury</td>\n",
       "      <td>9.7</td>\n",
       "      <td>31.9</td>\n",
       "      <td>0.0</td>\n",
       "      <td>NaN</td>\n",
       "      <td>NaN</td>\n",
       "      <td>NNW</td>\n",
       "      <td>80.0</td>\n",
       "      <td>SE</td>\n",
       "      <td>...</td>\n",
       "      <td>42.0</td>\n",
       "      <td>9.0</td>\n",
       "      <td>1008.9</td>\n",
       "      <td>1003.6</td>\n",
       "      <td>NaN</td>\n",
       "      <td>NaN</td>\n",
       "      <td>18.3</td>\n",
       "      <td>30.2</td>\n",
       "      <td>No</td>\n",
       "      <td>Yes</td>\n",
       "    </tr>\n",
       "    <tr>\n",
       "      <th>9</th>\n",
       "      <td>2008-12-10</td>\n",
       "      <td>Albury</td>\n",
       "      <td>13.1</td>\n",
       "      <td>30.1</td>\n",
       "      <td>1.4</td>\n",
       "      <td>NaN</td>\n",
       "      <td>NaN</td>\n",
       "      <td>W</td>\n",
       "      <td>28.0</td>\n",
       "      <td>S</td>\n",
       "      <td>...</td>\n",
       "      <td>58.0</td>\n",
       "      <td>27.0</td>\n",
       "      <td>1007.0</td>\n",
       "      <td>1005.7</td>\n",
       "      <td>NaN</td>\n",
       "      <td>NaN</td>\n",
       "      <td>20.1</td>\n",
       "      <td>28.2</td>\n",
       "      <td>Yes</td>\n",
       "      <td>No</td>\n",
       "    </tr>\n",
       "    <tr>\n",
       "      <th>10</th>\n",
       "      <td>2008-12-11</td>\n",
       "      <td>Albury</td>\n",
       "      <td>13.4</td>\n",
       "      <td>30.4</td>\n",
       "      <td>0.0</td>\n",
       "      <td>NaN</td>\n",
       "      <td>NaN</td>\n",
       "      <td>N</td>\n",
       "      <td>30.0</td>\n",
       "      <td>SSE</td>\n",
       "      <td>...</td>\n",
       "      <td>48.0</td>\n",
       "      <td>22.0</td>\n",
       "      <td>1011.8</td>\n",
       "      <td>1008.7</td>\n",
       "      <td>NaN</td>\n",
       "      <td>NaN</td>\n",
       "      <td>20.4</td>\n",
       "      <td>28.8</td>\n",
       "      <td>No</td>\n",
       "      <td>Yes</td>\n",
       "    </tr>\n",
       "    <tr>\n",
       "      <th>11</th>\n",
       "      <td>2008-12-12</td>\n",
       "      <td>Albury</td>\n",
       "      <td>15.9</td>\n",
       "      <td>21.7</td>\n",
       "      <td>2.2</td>\n",
       "      <td>NaN</td>\n",
       "      <td>NaN</td>\n",
       "      <td>NNE</td>\n",
       "      <td>31.0</td>\n",
       "      <td>NE</td>\n",
       "      <td>...</td>\n",
       "      <td>89.0</td>\n",
       "      <td>91.0</td>\n",
       "      <td>1010.5</td>\n",
       "      <td>1004.2</td>\n",
       "      <td>8.0</td>\n",
       "      <td>8.0</td>\n",
       "      <td>15.9</td>\n",
       "      <td>17.0</td>\n",
       "      <td>Yes</td>\n",
       "      <td>Yes</td>\n",
       "    </tr>\n",
       "    <tr>\n",
       "      <th>12</th>\n",
       "      <td>2008-12-13</td>\n",
       "      <td>Albury</td>\n",
       "      <td>15.9</td>\n",
       "      <td>18.6</td>\n",
       "      <td>15.6</td>\n",
       "      <td>NaN</td>\n",
       "      <td>NaN</td>\n",
       "      <td>W</td>\n",
       "      <td>61.0</td>\n",
       "      <td>NNW</td>\n",
       "      <td>...</td>\n",
       "      <td>76.0</td>\n",
       "      <td>93.0</td>\n",
       "      <td>994.3</td>\n",
       "      <td>993.0</td>\n",
       "      <td>8.0</td>\n",
       "      <td>8.0</td>\n",
       "      <td>17.4</td>\n",
       "      <td>15.8</td>\n",
       "      <td>Yes</td>\n",
       "      <td>Yes</td>\n",
       "    </tr>\n",
       "    <tr>\n",
       "      <th>13</th>\n",
       "      <td>2008-12-14</td>\n",
       "      <td>Albury</td>\n",
       "      <td>12.6</td>\n",
       "      <td>21.0</td>\n",
       "      <td>3.6</td>\n",
       "      <td>NaN</td>\n",
       "      <td>NaN</td>\n",
       "      <td>SW</td>\n",
       "      <td>44.0</td>\n",
       "      <td>W</td>\n",
       "      <td>...</td>\n",
       "      <td>65.0</td>\n",
       "      <td>43.0</td>\n",
       "      <td>1001.2</td>\n",
       "      <td>1001.8</td>\n",
       "      <td>NaN</td>\n",
       "      <td>7.0</td>\n",
       "      <td>15.8</td>\n",
       "      <td>19.8</td>\n",
       "      <td>Yes</td>\n",
       "      <td>No</td>\n",
       "    </tr>\n",
       "    <tr>\n",
       "      <th>14</th>\n",
       "      <td>2008-12-15</td>\n",
       "      <td>Albury</td>\n",
       "      <td>8.4</td>\n",
       "      <td>24.6</td>\n",
       "      <td>0.0</td>\n",
       "      <td>NaN</td>\n",
       "      <td>NaN</td>\n",
       "      <td>NaN</td>\n",
       "      <td>NaN</td>\n",
       "      <td>S</td>\n",
       "      <td>...</td>\n",
       "      <td>57.0</td>\n",
       "      <td>32.0</td>\n",
       "      <td>1009.7</td>\n",
       "      <td>1008.7</td>\n",
       "      <td>NaN</td>\n",
       "      <td>NaN</td>\n",
       "      <td>15.9</td>\n",
       "      <td>23.5</td>\n",
       "      <td>No</td>\n",
       "      <td>NaN</td>\n",
       "    </tr>\n",
       "    <tr>\n",
       "      <th>15</th>\n",
       "      <td>2008-12-16</td>\n",
       "      <td>Albury</td>\n",
       "      <td>9.8</td>\n",
       "      <td>27.7</td>\n",
       "      <td>NaN</td>\n",
       "      <td>NaN</td>\n",
       "      <td>NaN</td>\n",
       "      <td>WNW</td>\n",
       "      <td>50.0</td>\n",
       "      <td>NaN</td>\n",
       "      <td>...</td>\n",
       "      <td>50.0</td>\n",
       "      <td>28.0</td>\n",
       "      <td>1013.4</td>\n",
       "      <td>1010.3</td>\n",
       "      <td>0.0</td>\n",
       "      <td>NaN</td>\n",
       "      <td>17.3</td>\n",
       "      <td>26.2</td>\n",
       "      <td>NaN</td>\n",
       "      <td>No</td>\n",
       "    </tr>\n",
       "    <tr>\n",
       "      <th>16</th>\n",
       "      <td>2008-12-17</td>\n",
       "      <td>Albury</td>\n",
       "      <td>14.1</td>\n",
       "      <td>20.9</td>\n",
       "      <td>0.0</td>\n",
       "      <td>NaN</td>\n",
       "      <td>NaN</td>\n",
       "      <td>ENE</td>\n",
       "      <td>22.0</td>\n",
       "      <td>SSW</td>\n",
       "      <td>...</td>\n",
       "      <td>69.0</td>\n",
       "      <td>82.0</td>\n",
       "      <td>1012.2</td>\n",
       "      <td>1010.4</td>\n",
       "      <td>8.0</td>\n",
       "      <td>1.0</td>\n",
       "      <td>17.2</td>\n",
       "      <td>18.1</td>\n",
       "      <td>No</td>\n",
       "      <td>Yes</td>\n",
       "    </tr>\n",
       "    <tr>\n",
       "      <th>17</th>\n",
       "      <td>2008-12-18</td>\n",
       "      <td>Albury</td>\n",
       "      <td>13.5</td>\n",
       "      <td>22.9</td>\n",
       "      <td>16.8</td>\n",
       "      <td>NaN</td>\n",
       "      <td>NaN</td>\n",
       "      <td>W</td>\n",
       "      <td>63.0</td>\n",
       "      <td>N</td>\n",
       "      <td>...</td>\n",
       "      <td>80.0</td>\n",
       "      <td>65.0</td>\n",
       "      <td>1005.8</td>\n",
       "      <td>1002.2</td>\n",
       "      <td>8.0</td>\n",
       "      <td>1.0</td>\n",
       "      <td>18.0</td>\n",
       "      <td>21.5</td>\n",
       "      <td>Yes</td>\n",
       "      <td>Yes</td>\n",
       "    </tr>\n",
       "    <tr>\n",
       "      <th>18</th>\n",
       "      <td>2008-12-19</td>\n",
       "      <td>Albury</td>\n",
       "      <td>11.2</td>\n",
       "      <td>22.5</td>\n",
       "      <td>10.6</td>\n",
       "      <td>NaN</td>\n",
       "      <td>NaN</td>\n",
       "      <td>SSE</td>\n",
       "      <td>43.0</td>\n",
       "      <td>WSW</td>\n",
       "      <td>...</td>\n",
       "      <td>47.0</td>\n",
       "      <td>32.0</td>\n",
       "      <td>1009.4</td>\n",
       "      <td>1009.7</td>\n",
       "      <td>NaN</td>\n",
       "      <td>2.0</td>\n",
       "      <td>15.5</td>\n",
       "      <td>21.0</td>\n",
       "      <td>Yes</td>\n",
       "      <td>No</td>\n",
       "    </tr>\n",
       "    <tr>\n",
       "      <th>19</th>\n",
       "      <td>2008-12-20</td>\n",
       "      <td>Albury</td>\n",
       "      <td>9.8</td>\n",
       "      <td>25.6</td>\n",
       "      <td>0.0</td>\n",
       "      <td>NaN</td>\n",
       "      <td>NaN</td>\n",
       "      <td>SSE</td>\n",
       "      <td>26.0</td>\n",
       "      <td>SE</td>\n",
       "      <td>...</td>\n",
       "      <td>45.0</td>\n",
       "      <td>26.0</td>\n",
       "      <td>1019.2</td>\n",
       "      <td>1017.1</td>\n",
       "      <td>NaN</td>\n",
       "      <td>NaN</td>\n",
       "      <td>15.8</td>\n",
       "      <td>23.2</td>\n",
       "      <td>No</td>\n",
       "      <td>No</td>\n",
       "    </tr>\n",
       "  </tbody>\n",
       "</table>\n",
       "<p>20 rows × 23 columns</p>\n",
       "</div>"
      ],
      "text/plain": [
       "          Date Location  MinTemp  MaxTemp  Rainfall  Evaporation  Sunshine  \\\n",
       "0   2008-12-01   Albury     13.4     22.9       0.6          NaN       NaN   \n",
       "1   2008-12-02   Albury      7.4     25.1       0.0          NaN       NaN   \n",
       "2   2008-12-03   Albury     12.9     25.7       0.0          NaN       NaN   \n",
       "3   2008-12-04   Albury      9.2     28.0       0.0          NaN       NaN   \n",
       "4   2008-12-05   Albury     17.5     32.3       1.0          NaN       NaN   \n",
       "5   2008-12-06   Albury     14.6     29.7       0.2          NaN       NaN   \n",
       "6   2008-12-07   Albury     14.3     25.0       0.0          NaN       NaN   \n",
       "7   2008-12-08   Albury      7.7     26.7       0.0          NaN       NaN   \n",
       "8   2008-12-09   Albury      9.7     31.9       0.0          NaN       NaN   \n",
       "9   2008-12-10   Albury     13.1     30.1       1.4          NaN       NaN   \n",
       "10  2008-12-11   Albury     13.4     30.4       0.0          NaN       NaN   \n",
       "11  2008-12-12   Albury     15.9     21.7       2.2          NaN       NaN   \n",
       "12  2008-12-13   Albury     15.9     18.6      15.6          NaN       NaN   \n",
       "13  2008-12-14   Albury     12.6     21.0       3.6          NaN       NaN   \n",
       "14  2008-12-15   Albury      8.4     24.6       0.0          NaN       NaN   \n",
       "15  2008-12-16   Albury      9.8     27.7       NaN          NaN       NaN   \n",
       "16  2008-12-17   Albury     14.1     20.9       0.0          NaN       NaN   \n",
       "17  2008-12-18   Albury     13.5     22.9      16.8          NaN       NaN   \n",
       "18  2008-12-19   Albury     11.2     22.5      10.6          NaN       NaN   \n",
       "19  2008-12-20   Albury      9.8     25.6       0.0          NaN       NaN   \n",
       "\n",
       "   WindGustDir  WindGustSpeed WindDir9am  ... Humidity9am  Humidity3pm  \\\n",
       "0            W           44.0          W  ...        71.0         22.0   \n",
       "1          WNW           44.0        NNW  ...        44.0         25.0   \n",
       "2          WSW           46.0          W  ...        38.0         30.0   \n",
       "3           NE           24.0         SE  ...        45.0         16.0   \n",
       "4            W           41.0        ENE  ...        82.0         33.0   \n",
       "5          WNW           56.0          W  ...        55.0         23.0   \n",
       "6            W           50.0         SW  ...        49.0         19.0   \n",
       "7            W           35.0        SSE  ...        48.0         19.0   \n",
       "8          NNW           80.0         SE  ...        42.0          9.0   \n",
       "9            W           28.0          S  ...        58.0         27.0   \n",
       "10           N           30.0        SSE  ...        48.0         22.0   \n",
       "11         NNE           31.0         NE  ...        89.0         91.0   \n",
       "12           W           61.0        NNW  ...        76.0         93.0   \n",
       "13          SW           44.0          W  ...        65.0         43.0   \n",
       "14         NaN            NaN          S  ...        57.0         32.0   \n",
       "15         WNW           50.0        NaN  ...        50.0         28.0   \n",
       "16         ENE           22.0        SSW  ...        69.0         82.0   \n",
       "17           W           63.0          N  ...        80.0         65.0   \n",
       "18         SSE           43.0        WSW  ...        47.0         32.0   \n",
       "19         SSE           26.0         SE  ...        45.0         26.0   \n",
       "\n",
       "    Pressure9am  Pressure3pm  Cloud9am  Cloud3pm  Temp9am  Temp3pm  RainToday  \\\n",
       "0        1007.7       1007.1       8.0       NaN     16.9     21.8         No   \n",
       "1        1010.6       1007.8       NaN       NaN     17.2     24.3         No   \n",
       "2        1007.6       1008.7       NaN       2.0     21.0     23.2         No   \n",
       "3        1017.6       1012.8       NaN       NaN     18.1     26.5         No   \n",
       "4        1010.8       1006.0       7.0       8.0     17.8     29.7         No   \n",
       "5        1009.2       1005.4       NaN       NaN     20.6     28.9         No   \n",
       "6        1009.6       1008.2       1.0       NaN     18.1     24.6         No   \n",
       "7        1013.4       1010.1       NaN       NaN     16.3     25.5         No   \n",
       "8        1008.9       1003.6       NaN       NaN     18.3     30.2         No   \n",
       "9        1007.0       1005.7       NaN       NaN     20.1     28.2        Yes   \n",
       "10       1011.8       1008.7       NaN       NaN     20.4     28.8         No   \n",
       "11       1010.5       1004.2       8.0       8.0     15.9     17.0        Yes   \n",
       "12        994.3        993.0       8.0       8.0     17.4     15.8        Yes   \n",
       "13       1001.2       1001.8       NaN       7.0     15.8     19.8        Yes   \n",
       "14       1009.7       1008.7       NaN       NaN     15.9     23.5         No   \n",
       "15       1013.4       1010.3       0.0       NaN     17.3     26.2        NaN   \n",
       "16       1012.2       1010.4       8.0       1.0     17.2     18.1         No   \n",
       "17       1005.8       1002.2       8.0       1.0     18.0     21.5        Yes   \n",
       "18       1009.4       1009.7       NaN       2.0     15.5     21.0        Yes   \n",
       "19       1019.2       1017.1       NaN       NaN     15.8     23.2         No   \n",
       "\n",
       "    RainTomorrow  \n",
       "0             No  \n",
       "1             No  \n",
       "2             No  \n",
       "3             No  \n",
       "4             No  \n",
       "5             No  \n",
       "6             No  \n",
       "7             No  \n",
       "8            Yes  \n",
       "9             No  \n",
       "10           Yes  \n",
       "11           Yes  \n",
       "12           Yes  \n",
       "13            No  \n",
       "14           NaN  \n",
       "15            No  \n",
       "16           Yes  \n",
       "17           Yes  \n",
       "18            No  \n",
       "19            No  \n",
       "\n",
       "[20 rows x 23 columns]"
      ]
     },
     "execution_count": 11,
     "metadata": {},
     "output_type": "execute_result"
    }
   ],
   "source": [
    "df.head (20)"
   ]
  },
  {
   "cell_type": "markdown",
   "id": "5947e760-97d8-4122-b50f-ad23d10e942d",
   "metadata": {},
   "source": [
    "Просмотрим общую информацию о датасете"
   ]
  },
  {
   "cell_type": "code",
   "execution_count": 12,
   "id": "f55456bf-2900-436b-9d45-49543549f06d",
   "metadata": {},
   "outputs": [
    {
     "name": "stdout",
     "output_type": "stream",
     "text": [
      "<class 'pandas.core.frame.DataFrame'>\n",
      "RangeIndex: 145460 entries, 0 to 145459\n",
      "Data columns (total 23 columns):\n",
      " #   Column         Non-Null Count   Dtype  \n",
      "---  ------         --------------   -----  \n",
      " 0   Date           145460 non-null  object \n",
      " 1   Location       145460 non-null  object \n",
      " 2   MinTemp        143975 non-null  float64\n",
      " 3   MaxTemp        144199 non-null  float64\n",
      " 4   Rainfall       142199 non-null  float64\n",
      " 5   Evaporation    82670 non-null   float64\n",
      " 6   Sunshine       75625 non-null   float64\n",
      " 7   WindGustDir    135134 non-null  object \n",
      " 8   WindGustSpeed  135197 non-null  float64\n",
      " 9   WindDir9am     134894 non-null  object \n",
      " 10  WindDir3pm     141232 non-null  object \n",
      " 11  WindSpeed9am   143693 non-null  float64\n",
      " 12  WindSpeed3pm   142398 non-null  float64\n",
      " 13  Humidity9am    142806 non-null  float64\n",
      " 14  Humidity3pm    140953 non-null  float64\n",
      " 15  Pressure9am    130395 non-null  float64\n",
      " 16  Pressure3pm    130432 non-null  float64\n",
      " 17  Cloud9am       89572 non-null   float64\n",
      " 18  Cloud3pm       86102 non-null   float64\n",
      " 19  Temp9am        143693 non-null  float64\n",
      " 20  Temp3pm        141851 non-null  float64\n",
      " 21  RainToday      142199 non-null  object \n",
      " 22  RainTomorrow   142193 non-null  object \n",
      "dtypes: float64(16), object(7)\n",
      "memory usage: 25.5+ MB\n"
     ]
    }
   ],
   "source": [
    "df.info()"
   ]
  },
  {
   "cell_type": "markdown",
   "id": "677bb155-fa92-475f-850c-96bdb6d2e4d0",
   "metadata": {},
   "source": [
    "Обработаем пропущенные значения"
   ]
  },
  {
   "cell_type": "code",
   "execution_count": 13,
   "id": "9b2e65da-24ec-4db2-89be-adc029497617",
   "metadata": {},
   "outputs": [
    {
     "data": {
      "text/plain": [
       "Date                 0\n",
       "Location             0\n",
       "MinTemp           1485\n",
       "MaxTemp           1261\n",
       "Rainfall          3261\n",
       "Evaporation      62790\n",
       "Sunshine         69835\n",
       "WindGustDir      10326\n",
       "WindGustSpeed    10263\n",
       "WindDir9am       10566\n",
       "WindDir3pm        4228\n",
       "WindSpeed9am      1767\n",
       "WindSpeed3pm      3062\n",
       "Humidity9am       2654\n",
       "Humidity3pm       4507\n",
       "Pressure9am      15065\n",
       "Pressure3pm      15028\n",
       "Cloud9am         55888\n",
       "Cloud3pm         59358\n",
       "Temp9am           1767\n",
       "Temp3pm           3609\n",
       "RainToday         3261\n",
       "RainTomorrow      3267\n",
       "dtype: int64"
      ]
     },
     "execution_count": 13,
     "metadata": {},
     "output_type": "execute_result"
    }
   ],
   "source": [
    "missing_values = df.isnull().sum()\n",
    "missing_values"
   ]
  },
  {
   "cell_type": "code",
   "execution_count": 14,
   "id": "65ac7f96-4abd-4e74-8fa9-fd91646b739f",
   "metadata": {},
   "outputs": [],
   "source": [
    "for column in df.columns:\n",
    "    if df[column].dtype == 'int64':\n",
    "        df[column].fillna(df[column].median(), inplace=True)\n",
    "    elif df[column].dtype == 'float64':\n",
    "        df[column].fillna(df[column].mean(), inplace=True)\n",
    "    else:\n",
    "        df[column].fillna(df[column].mode()[0], inplace=True)"
   ]
  },
  {
   "cell_type": "code",
   "execution_count": 15,
   "id": "e6ed533b-d1bb-4d2b-9e30-9c75f95ecf06",
   "metadata": {},
   "outputs": [
    {
     "data": {
      "text/plain": [
       "Date             0\n",
       "Location         0\n",
       "MinTemp          0\n",
       "MaxTemp          0\n",
       "Rainfall         0\n",
       "Evaporation      0\n",
       "Sunshine         0\n",
       "WindGustDir      0\n",
       "WindGustSpeed    0\n",
       "WindDir9am       0\n",
       "WindDir3pm       0\n",
       "WindSpeed9am     0\n",
       "WindSpeed3pm     0\n",
       "Humidity9am      0\n",
       "Humidity3pm      0\n",
       "Pressure9am      0\n",
       "Pressure3pm      0\n",
       "Cloud9am         0\n",
       "Cloud3pm         0\n",
       "Temp9am          0\n",
       "Temp3pm          0\n",
       "RainToday        0\n",
       "RainTomorrow     0\n",
       "dtype: int64"
      ]
     },
     "execution_count": 15,
     "metadata": {},
     "output_type": "execute_result"
    }
   ],
   "source": [
    "missing_values = df.isnull().sum()\n",
    "missing_values"
   ]
  },
  {
   "cell_type": "markdown",
   "id": "54f09e40-0479-4bc0-9e41-80b320ee09e0",
   "metadata": {},
   "source": [
    "Поменяем наименования столбиков "
   ]
  },
  {
   "cell_type": "code",
   "execution_count": 16,
   "id": "991d1f84-88f7-4e87-9c5d-56429b05b9fa",
   "metadata": {},
   "outputs": [
    {
     "data": {
      "text/plain": [
       "Index(['Date', 'Location', 'MinTemp', 'MaxTemp', 'Rainfall', 'Evaporation',\n",
       "       'Sunshine', 'WindGustDir', 'WindGustSpeed', 'WindDir9am', 'WindDir3pm',\n",
       "       'WindSpeed9am', 'WindSpeed3pm', 'Humidity9am', 'Humidity3pm',\n",
       "       'Pressure9am', 'Pressure3pm', 'Cloud9am', 'Cloud3pm', 'Temp9am',\n",
       "       'Temp3pm', 'RainToday', 'RainTomorrow'],\n",
       "      dtype='object')"
      ]
     },
     "execution_count": 16,
     "metadata": {},
     "output_type": "execute_result"
    }
   ],
   "source": [
    "df.columns"
   ]
  },
  {
   "cell_type": "code",
   "execution_count": 17,
   "id": "c0ce3bc7-f55e-46f5-b4e7-ca3457dd84a6",
   "metadata": {},
   "outputs": [],
   "source": [
    "df = df.rename (\n",
    "    columns = {\n",
    "        'Date' : 'date',\n",
    "        'Location' : 'location',\n",
    "        'MinTemp' : 'min_temp',\n",
    "        'MaxTemp' : 'max_temp',\n",
    "        'Rainfall' : 'rainfall',\n",
    "        'Evaporation' : 'evaporation',\n",
    "        'Sunshine' : 'sunshine',\n",
    "        'WindGustDir' : 'wind_gust_dir',\n",
    "        'WindGustSpeed' : 'wind_gust_speed',\n",
    "        'WindDir9am' : 'wind_dir_9am',\n",
    "        'WindDir3pm' : 'wind_dir_3pm',\n",
    "        'WindSpeed9am' : 'wind_speed_9am',\n",
    "        'WindSpeed3pm' : 'wind_speed_3pm',\n",
    "        'Humidity9am' : 'humidity_9am',\n",
    "        'Humidity3pm' : 'humidity_3pm',\n",
    "        'Pressure9am' : 'pressure_9am',\n",
    "        'Pressure3pm' : 'pressure_3pm',\n",
    "        'Cloud9am' : 'cloud_9am',\n",
    "        'Cloud3pm' : 'cloud_3pm',\n",
    "        'Temp9am' : 'temp_9am',\n",
    "        'Temp3pm' : 'temp_3pm',\n",
    "        'RainToday' : 'rain_today',\n",
    "        'RainTomorrow' : 'rain_tomorrow'\n",
    "    }\n",
    ")"
   ]
  },
  {
   "cell_type": "code",
   "execution_count": 18,
   "id": "fca5d40d-690f-42db-aa7f-801bdaed9edf",
   "metadata": {},
   "outputs": [
    {
     "data": {
      "text/plain": [
       "Index(['date', 'location', 'min_temp', 'max_temp', 'rainfall', 'evaporation',\n",
       "       'sunshine', 'wind_gust_dir', 'wind_gust_speed', 'wind_dir_9am',\n",
       "       'wind_dir_3pm', 'wind_speed_9am', 'wind_speed_3pm', 'humidity_9am',\n",
       "       'humidity_3pm', 'pressure_9am', 'pressure_3pm', 'cloud_9am',\n",
       "       'cloud_3pm', 'temp_9am', 'temp_3pm', 'rain_today', 'rain_tomorrow'],\n",
       "      dtype='object')"
      ]
     },
     "execution_count": 18,
     "metadata": {},
     "output_type": "execute_result"
    }
   ],
   "source": [
    "df.columns"
   ]
  },
  {
   "cell_type": "markdown",
   "id": "327059d8-3386-48d0-a72b-59130dfa9546",
   "metadata": {},
   "source": [
    "Удалим дубликаты"
   ]
  },
  {
   "cell_type": "code",
   "execution_count": 19,
   "id": "f14d675b-9d5c-4164-a802-3209ba5cc669",
   "metadata": {},
   "outputs": [
    {
     "data": {
      "text/plain": [
       "0"
      ]
     },
     "execution_count": 19,
     "metadata": {},
     "output_type": "execute_result"
    }
   ],
   "source": [
    "df.duplicated().sum()"
   ]
  },
  {
   "cell_type": "code",
   "execution_count": 20,
   "id": "11272733-2e70-49cc-a81b-2c787982dc3c",
   "metadata": {},
   "outputs": [
    {
     "data": {
      "text/html": [
       "<div>\n",
       "<style scoped>\n",
       "    .dataframe tbody tr th:only-of-type {\n",
       "        vertical-align: middle;\n",
       "    }\n",
       "\n",
       "    .dataframe tbody tr th {\n",
       "        vertical-align: top;\n",
       "    }\n",
       "\n",
       "    .dataframe thead th {\n",
       "        text-align: right;\n",
       "    }\n",
       "</style>\n",
       "<table border=\"1\" class=\"dataframe\">\n",
       "  <thead>\n",
       "    <tr style=\"text-align: right;\">\n",
       "      <th></th>\n",
       "      <th>date</th>\n",
       "      <th>location</th>\n",
       "      <th>min_temp</th>\n",
       "      <th>max_temp</th>\n",
       "      <th>rainfall</th>\n",
       "      <th>evaporation</th>\n",
       "      <th>sunshine</th>\n",
       "      <th>wind_gust_dir</th>\n",
       "      <th>wind_gust_speed</th>\n",
       "      <th>wind_dir_9am</th>\n",
       "      <th>...</th>\n",
       "      <th>humidity_9am</th>\n",
       "      <th>humidity_3pm</th>\n",
       "      <th>pressure_9am</th>\n",
       "      <th>pressure_3pm</th>\n",
       "      <th>cloud_9am</th>\n",
       "      <th>cloud_3pm</th>\n",
       "      <th>temp_9am</th>\n",
       "      <th>temp_3pm</th>\n",
       "      <th>rain_today</th>\n",
       "      <th>rain_tomorrow</th>\n",
       "    </tr>\n",
       "  </thead>\n",
       "  <tbody>\n",
       "    <tr>\n",
       "      <th>0</th>\n",
       "      <td>2008-12-01</td>\n",
       "      <td>2</td>\n",
       "      <td>13.4</td>\n",
       "      <td>22.900000</td>\n",
       "      <td>0.6</td>\n",
       "      <td>5.468232</td>\n",
       "      <td>7.611178</td>\n",
       "      <td>13</td>\n",
       "      <td>44.00000</td>\n",
       "      <td>13</td>\n",
       "      <td>...</td>\n",
       "      <td>71.0</td>\n",
       "      <td>22.0</td>\n",
       "      <td>1007.7</td>\n",
       "      <td>1007.1</td>\n",
       "      <td>8.000000</td>\n",
       "      <td>4.50993</td>\n",
       "      <td>16.9</td>\n",
       "      <td>21.8</td>\n",
       "      <td>0</td>\n",
       "      <td>0</td>\n",
       "    </tr>\n",
       "    <tr>\n",
       "      <th>1</th>\n",
       "      <td>2008-12-02</td>\n",
       "      <td>2</td>\n",
       "      <td>7.4</td>\n",
       "      <td>25.100000</td>\n",
       "      <td>0.0</td>\n",
       "      <td>5.468232</td>\n",
       "      <td>7.611178</td>\n",
       "      <td>14</td>\n",
       "      <td>44.00000</td>\n",
       "      <td>6</td>\n",
       "      <td>...</td>\n",
       "      <td>44.0</td>\n",
       "      <td>25.0</td>\n",
       "      <td>1010.6</td>\n",
       "      <td>1007.8</td>\n",
       "      <td>4.447461</td>\n",
       "      <td>4.50993</td>\n",
       "      <td>17.2</td>\n",
       "      <td>24.3</td>\n",
       "      <td>0</td>\n",
       "      <td>0</td>\n",
       "    </tr>\n",
       "    <tr>\n",
       "      <th>2</th>\n",
       "      <td>2008-12-03</td>\n",
       "      <td>2</td>\n",
       "      <td>12.9</td>\n",
       "      <td>25.700000</td>\n",
       "      <td>0.0</td>\n",
       "      <td>5.468232</td>\n",
       "      <td>7.611178</td>\n",
       "      <td>15</td>\n",
       "      <td>46.00000</td>\n",
       "      <td>13</td>\n",
       "      <td>...</td>\n",
       "      <td>38.0</td>\n",
       "      <td>30.0</td>\n",
       "      <td>1007.6</td>\n",
       "      <td>1008.7</td>\n",
       "      <td>4.447461</td>\n",
       "      <td>2.00000</td>\n",
       "      <td>21.0</td>\n",
       "      <td>23.2</td>\n",
       "      <td>0</td>\n",
       "      <td>0</td>\n",
       "    </tr>\n",
       "    <tr>\n",
       "      <th>3</th>\n",
       "      <td>2008-12-04</td>\n",
       "      <td>2</td>\n",
       "      <td>9.2</td>\n",
       "      <td>28.000000</td>\n",
       "      <td>0.0</td>\n",
       "      <td>5.468232</td>\n",
       "      <td>7.611178</td>\n",
       "      <td>4</td>\n",
       "      <td>24.00000</td>\n",
       "      <td>9</td>\n",
       "      <td>...</td>\n",
       "      <td>45.0</td>\n",
       "      <td>16.0</td>\n",
       "      <td>1017.6</td>\n",
       "      <td>1012.8</td>\n",
       "      <td>4.447461</td>\n",
       "      <td>4.50993</td>\n",
       "      <td>18.1</td>\n",
       "      <td>26.5</td>\n",
       "      <td>0</td>\n",
       "      <td>0</td>\n",
       "    </tr>\n",
       "    <tr>\n",
       "      <th>4</th>\n",
       "      <td>2008-12-05</td>\n",
       "      <td>2</td>\n",
       "      <td>17.5</td>\n",
       "      <td>32.300000</td>\n",
       "      <td>1.0</td>\n",
       "      <td>5.468232</td>\n",
       "      <td>7.611178</td>\n",
       "      <td>13</td>\n",
       "      <td>41.00000</td>\n",
       "      <td>1</td>\n",
       "      <td>...</td>\n",
       "      <td>82.0</td>\n",
       "      <td>33.0</td>\n",
       "      <td>1010.8</td>\n",
       "      <td>1006.0</td>\n",
       "      <td>7.000000</td>\n",
       "      <td>8.00000</td>\n",
       "      <td>17.8</td>\n",
       "      <td>29.7</td>\n",
       "      <td>0</td>\n",
       "      <td>0</td>\n",
       "    </tr>\n",
       "    <tr>\n",
       "      <th>...</th>\n",
       "      <td>...</td>\n",
       "      <td>...</td>\n",
       "      <td>...</td>\n",
       "      <td>...</td>\n",
       "      <td>...</td>\n",
       "      <td>...</td>\n",
       "      <td>...</td>\n",
       "      <td>...</td>\n",
       "      <td>...</td>\n",
       "      <td>...</td>\n",
       "      <td>...</td>\n",
       "      <td>...</td>\n",
       "      <td>...</td>\n",
       "      <td>...</td>\n",
       "      <td>...</td>\n",
       "      <td>...</td>\n",
       "      <td>...</td>\n",
       "      <td>...</td>\n",
       "      <td>...</td>\n",
       "      <td>...</td>\n",
       "      <td>...</td>\n",
       "    </tr>\n",
       "    <tr>\n",
       "      <th>145455</th>\n",
       "      <td>2017-06-21</td>\n",
       "      <td>41</td>\n",
       "      <td>2.8</td>\n",
       "      <td>23.400000</td>\n",
       "      <td>0.0</td>\n",
       "      <td>5.468232</td>\n",
       "      <td>7.611178</td>\n",
       "      <td>0</td>\n",
       "      <td>31.00000</td>\n",
       "      <td>9</td>\n",
       "      <td>...</td>\n",
       "      <td>51.0</td>\n",
       "      <td>24.0</td>\n",
       "      <td>1024.6</td>\n",
       "      <td>1020.3</td>\n",
       "      <td>4.447461</td>\n",
       "      <td>4.50993</td>\n",
       "      <td>10.1</td>\n",
       "      <td>22.4</td>\n",
       "      <td>0</td>\n",
       "      <td>0</td>\n",
       "    </tr>\n",
       "    <tr>\n",
       "      <th>145456</th>\n",
       "      <td>2017-06-22</td>\n",
       "      <td>41</td>\n",
       "      <td>3.6</td>\n",
       "      <td>25.300000</td>\n",
       "      <td>0.0</td>\n",
       "      <td>5.468232</td>\n",
       "      <td>7.611178</td>\n",
       "      <td>6</td>\n",
       "      <td>22.00000</td>\n",
       "      <td>9</td>\n",
       "      <td>...</td>\n",
       "      <td>56.0</td>\n",
       "      <td>21.0</td>\n",
       "      <td>1023.5</td>\n",
       "      <td>1019.1</td>\n",
       "      <td>4.447461</td>\n",
       "      <td>4.50993</td>\n",
       "      <td>10.9</td>\n",
       "      <td>24.5</td>\n",
       "      <td>0</td>\n",
       "      <td>0</td>\n",
       "    </tr>\n",
       "    <tr>\n",
       "      <th>145457</th>\n",
       "      <td>2017-06-23</td>\n",
       "      <td>41</td>\n",
       "      <td>5.4</td>\n",
       "      <td>26.900000</td>\n",
       "      <td>0.0</td>\n",
       "      <td>5.468232</td>\n",
       "      <td>7.611178</td>\n",
       "      <td>3</td>\n",
       "      <td>37.00000</td>\n",
       "      <td>9</td>\n",
       "      <td>...</td>\n",
       "      <td>53.0</td>\n",
       "      <td>24.0</td>\n",
       "      <td>1021.0</td>\n",
       "      <td>1016.8</td>\n",
       "      <td>4.447461</td>\n",
       "      <td>4.50993</td>\n",
       "      <td>12.5</td>\n",
       "      <td>26.1</td>\n",
       "      <td>0</td>\n",
       "      <td>0</td>\n",
       "    </tr>\n",
       "    <tr>\n",
       "      <th>145458</th>\n",
       "      <td>2017-06-24</td>\n",
       "      <td>41</td>\n",
       "      <td>7.8</td>\n",
       "      <td>27.000000</td>\n",
       "      <td>0.0</td>\n",
       "      <td>5.468232</td>\n",
       "      <td>7.611178</td>\n",
       "      <td>9</td>\n",
       "      <td>28.00000</td>\n",
       "      <td>10</td>\n",
       "      <td>...</td>\n",
       "      <td>51.0</td>\n",
       "      <td>24.0</td>\n",
       "      <td>1019.4</td>\n",
       "      <td>1016.5</td>\n",
       "      <td>3.000000</td>\n",
       "      <td>2.00000</td>\n",
       "      <td>15.1</td>\n",
       "      <td>26.0</td>\n",
       "      <td>0</td>\n",
       "      <td>0</td>\n",
       "    </tr>\n",
       "    <tr>\n",
       "      <th>145459</th>\n",
       "      <td>2017-06-25</td>\n",
       "      <td>41</td>\n",
       "      <td>14.9</td>\n",
       "      <td>23.221348</td>\n",
       "      <td>0.0</td>\n",
       "      <td>5.468232</td>\n",
       "      <td>7.611178</td>\n",
       "      <td>13</td>\n",
       "      <td>40.03523</td>\n",
       "      <td>2</td>\n",
       "      <td>...</td>\n",
       "      <td>62.0</td>\n",
       "      <td>36.0</td>\n",
       "      <td>1020.2</td>\n",
       "      <td>1017.9</td>\n",
       "      <td>8.000000</td>\n",
       "      <td>8.00000</td>\n",
       "      <td>15.0</td>\n",
       "      <td>20.9</td>\n",
       "      <td>0</td>\n",
       "      <td>0</td>\n",
       "    </tr>\n",
       "  </tbody>\n",
       "</table>\n",
       "<p>145460 rows × 23 columns</p>\n",
       "</div>"
      ],
      "text/plain": [
       "              date  location  min_temp   max_temp  rainfall  evaporation  \\\n",
       "0       2008-12-01         2      13.4  22.900000       0.6     5.468232   \n",
       "1       2008-12-02         2       7.4  25.100000       0.0     5.468232   \n",
       "2       2008-12-03         2      12.9  25.700000       0.0     5.468232   \n",
       "3       2008-12-04         2       9.2  28.000000       0.0     5.468232   \n",
       "4       2008-12-05         2      17.5  32.300000       1.0     5.468232   \n",
       "...            ...       ...       ...        ...       ...          ...   \n",
       "145455  2017-06-21        41       2.8  23.400000       0.0     5.468232   \n",
       "145456  2017-06-22        41       3.6  25.300000       0.0     5.468232   \n",
       "145457  2017-06-23        41       5.4  26.900000       0.0     5.468232   \n",
       "145458  2017-06-24        41       7.8  27.000000       0.0     5.468232   \n",
       "145459  2017-06-25        41      14.9  23.221348       0.0     5.468232   \n",
       "\n",
       "        sunshine  wind_gust_dir  wind_gust_speed  wind_dir_9am  ...  \\\n",
       "0       7.611178             13         44.00000            13  ...   \n",
       "1       7.611178             14         44.00000             6  ...   \n",
       "2       7.611178             15         46.00000            13  ...   \n",
       "3       7.611178              4         24.00000             9  ...   \n",
       "4       7.611178             13         41.00000             1  ...   \n",
       "...          ...            ...              ...           ...  ...   \n",
       "145455  7.611178              0         31.00000             9  ...   \n",
       "145456  7.611178              6         22.00000             9  ...   \n",
       "145457  7.611178              3         37.00000             9  ...   \n",
       "145458  7.611178              9         28.00000            10  ...   \n",
       "145459  7.611178             13         40.03523             2  ...   \n",
       "\n",
       "        humidity_9am  humidity_3pm  pressure_9am  pressure_3pm  cloud_9am  \\\n",
       "0               71.0          22.0        1007.7        1007.1   8.000000   \n",
       "1               44.0          25.0        1010.6        1007.8   4.447461   \n",
       "2               38.0          30.0        1007.6        1008.7   4.447461   \n",
       "3               45.0          16.0        1017.6        1012.8   4.447461   \n",
       "4               82.0          33.0        1010.8        1006.0   7.000000   \n",
       "...              ...           ...           ...           ...        ...   \n",
       "145455          51.0          24.0        1024.6        1020.3   4.447461   \n",
       "145456          56.0          21.0        1023.5        1019.1   4.447461   \n",
       "145457          53.0          24.0        1021.0        1016.8   4.447461   \n",
       "145458          51.0          24.0        1019.4        1016.5   3.000000   \n",
       "145459          62.0          36.0        1020.2        1017.9   8.000000   \n",
       "\n",
       "        cloud_3pm  temp_9am  temp_3pm  rain_today  rain_tomorrow  \n",
       "0         4.50993      16.9      21.8           0              0  \n",
       "1         4.50993      17.2      24.3           0              0  \n",
       "2         2.00000      21.0      23.2           0              0  \n",
       "3         4.50993      18.1      26.5           0              0  \n",
       "4         8.00000      17.8      29.7           0              0  \n",
       "...           ...       ...       ...         ...            ...  \n",
       "145455    4.50993      10.1      22.4           0              0  \n",
       "145456    4.50993      10.9      24.5           0              0  \n",
       "145457    4.50993      12.5      26.1           0              0  \n",
       "145458    2.00000      15.1      26.0           0              0  \n",
       "145459    8.00000      15.0      20.9           0              0  \n",
       "\n",
       "[145460 rows x 23 columns]"
      ]
     },
     "execution_count": 20,
     "metadata": {},
     "output_type": "execute_result"
    }
   ],
   "source": [
    "df['location'] = pd.Categorical(df['location']).codes\n",
    "df['wind_gust_dir'] = pd.Categorical(df['wind_gust_dir']).codes\n",
    "df['wind_dir_9am'] = pd.Categorical(df['wind_dir_9am']).codes\n",
    "df['wind_dir_3pm'] = pd.Categorical(df['wind_dir_3pm']).codes\n",
    "df['rain_today'] = pd.Categorical(df['rain_today']).codes\n",
    "df['rain_tomorrow'] = pd.Categorical(df['rain_tomorrow']).codes\n",
    "df"
   ]
  },
  {
   "cell_type": "code",
   "execution_count": 21,
   "id": "62b33c4c-2bf2-4790-a568-ac22c1469bdc",
   "metadata": {},
   "outputs": [
    {
     "data": {
      "text/html": [
       "<div>\n",
       "<style scoped>\n",
       "    .dataframe tbody tr th:only-of-type {\n",
       "        vertical-align: middle;\n",
       "    }\n",
       "\n",
       "    .dataframe tbody tr th {\n",
       "        vertical-align: top;\n",
       "    }\n",
       "\n",
       "    .dataframe thead th {\n",
       "        text-align: right;\n",
       "    }\n",
       "</style>\n",
       "<table border=\"1\" class=\"dataframe\">\n",
       "  <thead>\n",
       "    <tr style=\"text-align: right;\">\n",
       "      <th></th>\n",
       "      <th>location</th>\n",
       "      <th>min_temp</th>\n",
       "      <th>max_temp</th>\n",
       "      <th>rainfall</th>\n",
       "      <th>evaporation</th>\n",
       "      <th>sunshine</th>\n",
       "      <th>wind_gust_dir</th>\n",
       "      <th>wind_gust_speed</th>\n",
       "      <th>wind_dir_9am</th>\n",
       "      <th>wind_dir_3pm</th>\n",
       "      <th>...</th>\n",
       "      <th>pressure_3pm</th>\n",
       "      <th>cloud_9am</th>\n",
       "      <th>cloud_3pm</th>\n",
       "      <th>temp_9am</th>\n",
       "      <th>temp_3pm</th>\n",
       "      <th>rain_today</th>\n",
       "      <th>rain_tomorrow</th>\n",
       "      <th>date_day</th>\n",
       "      <th>date_month</th>\n",
       "      <th>date_year</th>\n",
       "    </tr>\n",
       "  </thead>\n",
       "  <tbody>\n",
       "    <tr>\n",
       "      <th>0</th>\n",
       "      <td>2</td>\n",
       "      <td>13.4</td>\n",
       "      <td>22.900000</td>\n",
       "      <td>0.6</td>\n",
       "      <td>5.468232</td>\n",
       "      <td>7.611178</td>\n",
       "      <td>13</td>\n",
       "      <td>44.00000</td>\n",
       "      <td>13</td>\n",
       "      <td>14</td>\n",
       "      <td>...</td>\n",
       "      <td>1007.1</td>\n",
       "      <td>8.000000</td>\n",
       "      <td>4.50993</td>\n",
       "      <td>16.9</td>\n",
       "      <td>21.8</td>\n",
       "      <td>0</td>\n",
       "      <td>0</td>\n",
       "      <td>1</td>\n",
       "      <td>12</td>\n",
       "      <td>2008</td>\n",
       "    </tr>\n",
       "    <tr>\n",
       "      <th>1</th>\n",
       "      <td>2</td>\n",
       "      <td>7.4</td>\n",
       "      <td>25.100000</td>\n",
       "      <td>0.0</td>\n",
       "      <td>5.468232</td>\n",
       "      <td>7.611178</td>\n",
       "      <td>14</td>\n",
       "      <td>44.00000</td>\n",
       "      <td>6</td>\n",
       "      <td>15</td>\n",
       "      <td>...</td>\n",
       "      <td>1007.8</td>\n",
       "      <td>4.447461</td>\n",
       "      <td>4.50993</td>\n",
       "      <td>17.2</td>\n",
       "      <td>24.3</td>\n",
       "      <td>0</td>\n",
       "      <td>0</td>\n",
       "      <td>2</td>\n",
       "      <td>12</td>\n",
       "      <td>2008</td>\n",
       "    </tr>\n",
       "    <tr>\n",
       "      <th>2</th>\n",
       "      <td>2</td>\n",
       "      <td>12.9</td>\n",
       "      <td>25.700000</td>\n",
       "      <td>0.0</td>\n",
       "      <td>5.468232</td>\n",
       "      <td>7.611178</td>\n",
       "      <td>15</td>\n",
       "      <td>46.00000</td>\n",
       "      <td>13</td>\n",
       "      <td>15</td>\n",
       "      <td>...</td>\n",
       "      <td>1008.7</td>\n",
       "      <td>4.447461</td>\n",
       "      <td>2.00000</td>\n",
       "      <td>21.0</td>\n",
       "      <td>23.2</td>\n",
       "      <td>0</td>\n",
       "      <td>0</td>\n",
       "      <td>3</td>\n",
       "      <td>12</td>\n",
       "      <td>2008</td>\n",
       "    </tr>\n",
       "    <tr>\n",
       "      <th>3</th>\n",
       "      <td>2</td>\n",
       "      <td>9.2</td>\n",
       "      <td>28.000000</td>\n",
       "      <td>0.0</td>\n",
       "      <td>5.468232</td>\n",
       "      <td>7.611178</td>\n",
       "      <td>4</td>\n",
       "      <td>24.00000</td>\n",
       "      <td>9</td>\n",
       "      <td>0</td>\n",
       "      <td>...</td>\n",
       "      <td>1012.8</td>\n",
       "      <td>4.447461</td>\n",
       "      <td>4.50993</td>\n",
       "      <td>18.1</td>\n",
       "      <td>26.5</td>\n",
       "      <td>0</td>\n",
       "      <td>0</td>\n",
       "      <td>4</td>\n",
       "      <td>12</td>\n",
       "      <td>2008</td>\n",
       "    </tr>\n",
       "    <tr>\n",
       "      <th>4</th>\n",
       "      <td>2</td>\n",
       "      <td>17.5</td>\n",
       "      <td>32.300000</td>\n",
       "      <td>1.0</td>\n",
       "      <td>5.468232</td>\n",
       "      <td>7.611178</td>\n",
       "      <td>13</td>\n",
       "      <td>41.00000</td>\n",
       "      <td>1</td>\n",
       "      <td>7</td>\n",
       "      <td>...</td>\n",
       "      <td>1006.0</td>\n",
       "      <td>7.000000</td>\n",
       "      <td>8.00000</td>\n",
       "      <td>17.8</td>\n",
       "      <td>29.7</td>\n",
       "      <td>0</td>\n",
       "      <td>0</td>\n",
       "      <td>5</td>\n",
       "      <td>12</td>\n",
       "      <td>2008</td>\n",
       "    </tr>\n",
       "    <tr>\n",
       "      <th>...</th>\n",
       "      <td>...</td>\n",
       "      <td>...</td>\n",
       "      <td>...</td>\n",
       "      <td>...</td>\n",
       "      <td>...</td>\n",
       "      <td>...</td>\n",
       "      <td>...</td>\n",
       "      <td>...</td>\n",
       "      <td>...</td>\n",
       "      <td>...</td>\n",
       "      <td>...</td>\n",
       "      <td>...</td>\n",
       "      <td>...</td>\n",
       "      <td>...</td>\n",
       "      <td>...</td>\n",
       "      <td>...</td>\n",
       "      <td>...</td>\n",
       "      <td>...</td>\n",
       "      <td>...</td>\n",
       "      <td>...</td>\n",
       "      <td>...</td>\n",
       "    </tr>\n",
       "    <tr>\n",
       "      <th>145455</th>\n",
       "      <td>41</td>\n",
       "      <td>2.8</td>\n",
       "      <td>23.400000</td>\n",
       "      <td>0.0</td>\n",
       "      <td>5.468232</td>\n",
       "      <td>7.611178</td>\n",
       "      <td>0</td>\n",
       "      <td>31.00000</td>\n",
       "      <td>9</td>\n",
       "      <td>1</td>\n",
       "      <td>...</td>\n",
       "      <td>1020.3</td>\n",
       "      <td>4.447461</td>\n",
       "      <td>4.50993</td>\n",
       "      <td>10.1</td>\n",
       "      <td>22.4</td>\n",
       "      <td>0</td>\n",
       "      <td>0</td>\n",
       "      <td>21</td>\n",
       "      <td>6</td>\n",
       "      <td>2017</td>\n",
       "    </tr>\n",
       "    <tr>\n",
       "      <th>145456</th>\n",
       "      <td>41</td>\n",
       "      <td>3.6</td>\n",
       "      <td>25.300000</td>\n",
       "      <td>0.0</td>\n",
       "      <td>5.468232</td>\n",
       "      <td>7.611178</td>\n",
       "      <td>6</td>\n",
       "      <td>22.00000</td>\n",
       "      <td>9</td>\n",
       "      <td>3</td>\n",
       "      <td>...</td>\n",
       "      <td>1019.1</td>\n",
       "      <td>4.447461</td>\n",
       "      <td>4.50993</td>\n",
       "      <td>10.9</td>\n",
       "      <td>24.5</td>\n",
       "      <td>0</td>\n",
       "      <td>0</td>\n",
       "      <td>22</td>\n",
       "      <td>6</td>\n",
       "      <td>2017</td>\n",
       "    </tr>\n",
       "    <tr>\n",
       "      <th>145457</th>\n",
       "      <td>41</td>\n",
       "      <td>5.4</td>\n",
       "      <td>26.900000</td>\n",
       "      <td>0.0</td>\n",
       "      <td>5.468232</td>\n",
       "      <td>7.611178</td>\n",
       "      <td>3</td>\n",
       "      <td>37.00000</td>\n",
       "      <td>9</td>\n",
       "      <td>14</td>\n",
       "      <td>...</td>\n",
       "      <td>1016.8</td>\n",
       "      <td>4.447461</td>\n",
       "      <td>4.50993</td>\n",
       "      <td>12.5</td>\n",
       "      <td>26.1</td>\n",
       "      <td>0</td>\n",
       "      <td>0</td>\n",
       "      <td>23</td>\n",
       "      <td>6</td>\n",
       "      <td>2017</td>\n",
       "    </tr>\n",
       "    <tr>\n",
       "      <th>145458</th>\n",
       "      <td>41</td>\n",
       "      <td>7.8</td>\n",
       "      <td>27.000000</td>\n",
       "      <td>0.0</td>\n",
       "      <td>5.468232</td>\n",
       "      <td>7.611178</td>\n",
       "      <td>9</td>\n",
       "      <td>28.00000</td>\n",
       "      <td>10</td>\n",
       "      <td>3</td>\n",
       "      <td>...</td>\n",
       "      <td>1016.5</td>\n",
       "      <td>3.000000</td>\n",
       "      <td>2.00000</td>\n",
       "      <td>15.1</td>\n",
       "      <td>26.0</td>\n",
       "      <td>0</td>\n",
       "      <td>0</td>\n",
       "      <td>24</td>\n",
       "      <td>6</td>\n",
       "      <td>2017</td>\n",
       "    </tr>\n",
       "    <tr>\n",
       "      <th>145459</th>\n",
       "      <td>41</td>\n",
       "      <td>14.9</td>\n",
       "      <td>23.221348</td>\n",
       "      <td>0.0</td>\n",
       "      <td>5.468232</td>\n",
       "      <td>7.611178</td>\n",
       "      <td>13</td>\n",
       "      <td>40.03523</td>\n",
       "      <td>2</td>\n",
       "      <td>2</td>\n",
       "      <td>...</td>\n",
       "      <td>1017.9</td>\n",
       "      <td>8.000000</td>\n",
       "      <td>8.00000</td>\n",
       "      <td>15.0</td>\n",
       "      <td>20.9</td>\n",
       "      <td>0</td>\n",
       "      <td>0</td>\n",
       "      <td>25</td>\n",
       "      <td>6</td>\n",
       "      <td>2017</td>\n",
       "    </tr>\n",
       "  </tbody>\n",
       "</table>\n",
       "<p>145460 rows × 25 columns</p>\n",
       "</div>"
      ],
      "text/plain": [
       "        location  min_temp   max_temp  rainfall  evaporation  sunshine  \\\n",
       "0              2      13.4  22.900000       0.6     5.468232  7.611178   \n",
       "1              2       7.4  25.100000       0.0     5.468232  7.611178   \n",
       "2              2      12.9  25.700000       0.0     5.468232  7.611178   \n",
       "3              2       9.2  28.000000       0.0     5.468232  7.611178   \n",
       "4              2      17.5  32.300000       1.0     5.468232  7.611178   \n",
       "...          ...       ...        ...       ...          ...       ...   \n",
       "145455        41       2.8  23.400000       0.0     5.468232  7.611178   \n",
       "145456        41       3.6  25.300000       0.0     5.468232  7.611178   \n",
       "145457        41       5.4  26.900000       0.0     5.468232  7.611178   \n",
       "145458        41       7.8  27.000000       0.0     5.468232  7.611178   \n",
       "145459        41      14.9  23.221348       0.0     5.468232  7.611178   \n",
       "\n",
       "        wind_gust_dir  wind_gust_speed  wind_dir_9am  wind_dir_3pm  ...  \\\n",
       "0                  13         44.00000            13            14  ...   \n",
       "1                  14         44.00000             6            15  ...   \n",
       "2                  15         46.00000            13            15  ...   \n",
       "3                   4         24.00000             9             0  ...   \n",
       "4                  13         41.00000             1             7  ...   \n",
       "...               ...              ...           ...           ...  ...   \n",
       "145455              0         31.00000             9             1  ...   \n",
       "145456              6         22.00000             9             3  ...   \n",
       "145457              3         37.00000             9            14  ...   \n",
       "145458              9         28.00000            10             3  ...   \n",
       "145459             13         40.03523             2             2  ...   \n",
       "\n",
       "        pressure_3pm  cloud_9am  cloud_3pm  temp_9am  temp_3pm  rain_today  \\\n",
       "0             1007.1   8.000000    4.50993      16.9      21.8           0   \n",
       "1             1007.8   4.447461    4.50993      17.2      24.3           0   \n",
       "2             1008.7   4.447461    2.00000      21.0      23.2           0   \n",
       "3             1012.8   4.447461    4.50993      18.1      26.5           0   \n",
       "4             1006.0   7.000000    8.00000      17.8      29.7           0   \n",
       "...              ...        ...        ...       ...       ...         ...   \n",
       "145455        1020.3   4.447461    4.50993      10.1      22.4           0   \n",
       "145456        1019.1   4.447461    4.50993      10.9      24.5           0   \n",
       "145457        1016.8   4.447461    4.50993      12.5      26.1           0   \n",
       "145458        1016.5   3.000000    2.00000      15.1      26.0           0   \n",
       "145459        1017.9   8.000000    8.00000      15.0      20.9           0   \n",
       "\n",
       "        rain_tomorrow  date_day  date_month  date_year  \n",
       "0                   0         1          12       2008  \n",
       "1                   0         2          12       2008  \n",
       "2                   0         3          12       2008  \n",
       "3                   0         4          12       2008  \n",
       "4                   0         5          12       2008  \n",
       "...               ...       ...         ...        ...  \n",
       "145455              0        21           6       2017  \n",
       "145456              0        22           6       2017  \n",
       "145457              0        23           6       2017  \n",
       "145458              0        24           6       2017  \n",
       "145459              0        25           6       2017  \n",
       "\n",
       "[145460 rows x 25 columns]"
      ]
     },
     "execution_count": 21,
     "metadata": {},
     "output_type": "execute_result"
    }
   ],
   "source": [
    "df ['date'] = pd.to_datetime(df['date'],format = '%Y-%m-%d')\n",
    "df['date_day'] = df['date'].dt.day\n",
    "df['date_month'] = df['date'].dt.month\n",
    "df['date_year'] = df['date'].dt.year\n",
    "df = df.drop([\"date\"], axis=1)\n",
    "df"
   ]
  },
  {
   "cell_type": "markdown",
   "id": "e73a82a2-8a1e-467d-a2db-6242afddcf8d",
   "metadata": {},
   "source": [
    "Выделяем целевой признак и предикторы"
   ]
  },
  {
   "cell_type": "code",
   "execution_count": 22,
   "id": "1aeb7fbd-a50e-4e12-9899-f3bf8bf5e69c",
   "metadata": {},
   "outputs": [],
   "source": [
    "y = df[\"rain_tomorrow\"]\n",
    "X = df.drop([\"rain_tomorrow\"], axis=1)"
   ]
  },
  {
   "cell_type": "code",
   "execution_count": 23,
   "id": "c9270417-350f-47d0-8b2f-44667d142fec",
   "metadata": {},
   "outputs": [
    {
     "data": {
      "text/plain": [
       "0         0\n",
       "1         0\n",
       "2         0\n",
       "3         0\n",
       "4         0\n",
       "         ..\n",
       "145455    0\n",
       "145456    0\n",
       "145457    0\n",
       "145458    0\n",
       "145459    0\n",
       "Name: rain_tomorrow, Length: 145460, dtype: int8"
      ]
     },
     "execution_count": 23,
     "metadata": {},
     "output_type": "execute_result"
    }
   ],
   "source": [
    "y"
   ]
  },
  {
   "cell_type": "code",
   "execution_count": 24,
   "id": "afef6cf4-8878-4e66-86c9-d389cf45f226",
   "metadata": {},
   "outputs": [
    {
     "data": {
      "text/html": [
       "<div>\n",
       "<style scoped>\n",
       "    .dataframe tbody tr th:only-of-type {\n",
       "        vertical-align: middle;\n",
       "    }\n",
       "\n",
       "    .dataframe tbody tr th {\n",
       "        vertical-align: top;\n",
       "    }\n",
       "\n",
       "    .dataframe thead th {\n",
       "        text-align: right;\n",
       "    }\n",
       "</style>\n",
       "<table border=\"1\" class=\"dataframe\">\n",
       "  <thead>\n",
       "    <tr style=\"text-align: right;\">\n",
       "      <th></th>\n",
       "      <th>location</th>\n",
       "      <th>min_temp</th>\n",
       "      <th>max_temp</th>\n",
       "      <th>rainfall</th>\n",
       "      <th>evaporation</th>\n",
       "      <th>sunshine</th>\n",
       "      <th>wind_gust_dir</th>\n",
       "      <th>wind_gust_speed</th>\n",
       "      <th>wind_dir_9am</th>\n",
       "      <th>wind_dir_3pm</th>\n",
       "      <th>...</th>\n",
       "      <th>pressure_9am</th>\n",
       "      <th>pressure_3pm</th>\n",
       "      <th>cloud_9am</th>\n",
       "      <th>cloud_3pm</th>\n",
       "      <th>temp_9am</th>\n",
       "      <th>temp_3pm</th>\n",
       "      <th>rain_today</th>\n",
       "      <th>date_day</th>\n",
       "      <th>date_month</th>\n",
       "      <th>date_year</th>\n",
       "    </tr>\n",
       "  </thead>\n",
       "  <tbody>\n",
       "    <tr>\n",
       "      <th>0</th>\n",
       "      <td>2</td>\n",
       "      <td>13.4</td>\n",
       "      <td>22.900000</td>\n",
       "      <td>0.6</td>\n",
       "      <td>5.468232</td>\n",
       "      <td>7.611178</td>\n",
       "      <td>13</td>\n",
       "      <td>44.00000</td>\n",
       "      <td>13</td>\n",
       "      <td>14</td>\n",
       "      <td>...</td>\n",
       "      <td>1007.7</td>\n",
       "      <td>1007.1</td>\n",
       "      <td>8.000000</td>\n",
       "      <td>4.50993</td>\n",
       "      <td>16.9</td>\n",
       "      <td>21.8</td>\n",
       "      <td>0</td>\n",
       "      <td>1</td>\n",
       "      <td>12</td>\n",
       "      <td>2008</td>\n",
       "    </tr>\n",
       "    <tr>\n",
       "      <th>1</th>\n",
       "      <td>2</td>\n",
       "      <td>7.4</td>\n",
       "      <td>25.100000</td>\n",
       "      <td>0.0</td>\n",
       "      <td>5.468232</td>\n",
       "      <td>7.611178</td>\n",
       "      <td>14</td>\n",
       "      <td>44.00000</td>\n",
       "      <td>6</td>\n",
       "      <td>15</td>\n",
       "      <td>...</td>\n",
       "      <td>1010.6</td>\n",
       "      <td>1007.8</td>\n",
       "      <td>4.447461</td>\n",
       "      <td>4.50993</td>\n",
       "      <td>17.2</td>\n",
       "      <td>24.3</td>\n",
       "      <td>0</td>\n",
       "      <td>2</td>\n",
       "      <td>12</td>\n",
       "      <td>2008</td>\n",
       "    </tr>\n",
       "    <tr>\n",
       "      <th>2</th>\n",
       "      <td>2</td>\n",
       "      <td>12.9</td>\n",
       "      <td>25.700000</td>\n",
       "      <td>0.0</td>\n",
       "      <td>5.468232</td>\n",
       "      <td>7.611178</td>\n",
       "      <td>15</td>\n",
       "      <td>46.00000</td>\n",
       "      <td>13</td>\n",
       "      <td>15</td>\n",
       "      <td>...</td>\n",
       "      <td>1007.6</td>\n",
       "      <td>1008.7</td>\n",
       "      <td>4.447461</td>\n",
       "      <td>2.00000</td>\n",
       "      <td>21.0</td>\n",
       "      <td>23.2</td>\n",
       "      <td>0</td>\n",
       "      <td>3</td>\n",
       "      <td>12</td>\n",
       "      <td>2008</td>\n",
       "    </tr>\n",
       "    <tr>\n",
       "      <th>3</th>\n",
       "      <td>2</td>\n",
       "      <td>9.2</td>\n",
       "      <td>28.000000</td>\n",
       "      <td>0.0</td>\n",
       "      <td>5.468232</td>\n",
       "      <td>7.611178</td>\n",
       "      <td>4</td>\n",
       "      <td>24.00000</td>\n",
       "      <td>9</td>\n",
       "      <td>0</td>\n",
       "      <td>...</td>\n",
       "      <td>1017.6</td>\n",
       "      <td>1012.8</td>\n",
       "      <td>4.447461</td>\n",
       "      <td>4.50993</td>\n",
       "      <td>18.1</td>\n",
       "      <td>26.5</td>\n",
       "      <td>0</td>\n",
       "      <td>4</td>\n",
       "      <td>12</td>\n",
       "      <td>2008</td>\n",
       "    </tr>\n",
       "    <tr>\n",
       "      <th>4</th>\n",
       "      <td>2</td>\n",
       "      <td>17.5</td>\n",
       "      <td>32.300000</td>\n",
       "      <td>1.0</td>\n",
       "      <td>5.468232</td>\n",
       "      <td>7.611178</td>\n",
       "      <td>13</td>\n",
       "      <td>41.00000</td>\n",
       "      <td>1</td>\n",
       "      <td>7</td>\n",
       "      <td>...</td>\n",
       "      <td>1010.8</td>\n",
       "      <td>1006.0</td>\n",
       "      <td>7.000000</td>\n",
       "      <td>8.00000</td>\n",
       "      <td>17.8</td>\n",
       "      <td>29.7</td>\n",
       "      <td>0</td>\n",
       "      <td>5</td>\n",
       "      <td>12</td>\n",
       "      <td>2008</td>\n",
       "    </tr>\n",
       "    <tr>\n",
       "      <th>...</th>\n",
       "      <td>...</td>\n",
       "      <td>...</td>\n",
       "      <td>...</td>\n",
       "      <td>...</td>\n",
       "      <td>...</td>\n",
       "      <td>...</td>\n",
       "      <td>...</td>\n",
       "      <td>...</td>\n",
       "      <td>...</td>\n",
       "      <td>...</td>\n",
       "      <td>...</td>\n",
       "      <td>...</td>\n",
       "      <td>...</td>\n",
       "      <td>...</td>\n",
       "      <td>...</td>\n",
       "      <td>...</td>\n",
       "      <td>...</td>\n",
       "      <td>...</td>\n",
       "      <td>...</td>\n",
       "      <td>...</td>\n",
       "      <td>...</td>\n",
       "    </tr>\n",
       "    <tr>\n",
       "      <th>145455</th>\n",
       "      <td>41</td>\n",
       "      <td>2.8</td>\n",
       "      <td>23.400000</td>\n",
       "      <td>0.0</td>\n",
       "      <td>5.468232</td>\n",
       "      <td>7.611178</td>\n",
       "      <td>0</td>\n",
       "      <td>31.00000</td>\n",
       "      <td>9</td>\n",
       "      <td>1</td>\n",
       "      <td>...</td>\n",
       "      <td>1024.6</td>\n",
       "      <td>1020.3</td>\n",
       "      <td>4.447461</td>\n",
       "      <td>4.50993</td>\n",
       "      <td>10.1</td>\n",
       "      <td>22.4</td>\n",
       "      <td>0</td>\n",
       "      <td>21</td>\n",
       "      <td>6</td>\n",
       "      <td>2017</td>\n",
       "    </tr>\n",
       "    <tr>\n",
       "      <th>145456</th>\n",
       "      <td>41</td>\n",
       "      <td>3.6</td>\n",
       "      <td>25.300000</td>\n",
       "      <td>0.0</td>\n",
       "      <td>5.468232</td>\n",
       "      <td>7.611178</td>\n",
       "      <td>6</td>\n",
       "      <td>22.00000</td>\n",
       "      <td>9</td>\n",
       "      <td>3</td>\n",
       "      <td>...</td>\n",
       "      <td>1023.5</td>\n",
       "      <td>1019.1</td>\n",
       "      <td>4.447461</td>\n",
       "      <td>4.50993</td>\n",
       "      <td>10.9</td>\n",
       "      <td>24.5</td>\n",
       "      <td>0</td>\n",
       "      <td>22</td>\n",
       "      <td>6</td>\n",
       "      <td>2017</td>\n",
       "    </tr>\n",
       "    <tr>\n",
       "      <th>145457</th>\n",
       "      <td>41</td>\n",
       "      <td>5.4</td>\n",
       "      <td>26.900000</td>\n",
       "      <td>0.0</td>\n",
       "      <td>5.468232</td>\n",
       "      <td>7.611178</td>\n",
       "      <td>3</td>\n",
       "      <td>37.00000</td>\n",
       "      <td>9</td>\n",
       "      <td>14</td>\n",
       "      <td>...</td>\n",
       "      <td>1021.0</td>\n",
       "      <td>1016.8</td>\n",
       "      <td>4.447461</td>\n",
       "      <td>4.50993</td>\n",
       "      <td>12.5</td>\n",
       "      <td>26.1</td>\n",
       "      <td>0</td>\n",
       "      <td>23</td>\n",
       "      <td>6</td>\n",
       "      <td>2017</td>\n",
       "    </tr>\n",
       "    <tr>\n",
       "      <th>145458</th>\n",
       "      <td>41</td>\n",
       "      <td>7.8</td>\n",
       "      <td>27.000000</td>\n",
       "      <td>0.0</td>\n",
       "      <td>5.468232</td>\n",
       "      <td>7.611178</td>\n",
       "      <td>9</td>\n",
       "      <td>28.00000</td>\n",
       "      <td>10</td>\n",
       "      <td>3</td>\n",
       "      <td>...</td>\n",
       "      <td>1019.4</td>\n",
       "      <td>1016.5</td>\n",
       "      <td>3.000000</td>\n",
       "      <td>2.00000</td>\n",
       "      <td>15.1</td>\n",
       "      <td>26.0</td>\n",
       "      <td>0</td>\n",
       "      <td>24</td>\n",
       "      <td>6</td>\n",
       "      <td>2017</td>\n",
       "    </tr>\n",
       "    <tr>\n",
       "      <th>145459</th>\n",
       "      <td>41</td>\n",
       "      <td>14.9</td>\n",
       "      <td>23.221348</td>\n",
       "      <td>0.0</td>\n",
       "      <td>5.468232</td>\n",
       "      <td>7.611178</td>\n",
       "      <td>13</td>\n",
       "      <td>40.03523</td>\n",
       "      <td>2</td>\n",
       "      <td>2</td>\n",
       "      <td>...</td>\n",
       "      <td>1020.2</td>\n",
       "      <td>1017.9</td>\n",
       "      <td>8.000000</td>\n",
       "      <td>8.00000</td>\n",
       "      <td>15.0</td>\n",
       "      <td>20.9</td>\n",
       "      <td>0</td>\n",
       "      <td>25</td>\n",
       "      <td>6</td>\n",
       "      <td>2017</td>\n",
       "    </tr>\n",
       "  </tbody>\n",
       "</table>\n",
       "<p>145460 rows × 24 columns</p>\n",
       "</div>"
      ],
      "text/plain": [
       "        location  min_temp   max_temp  rainfall  evaporation  sunshine  \\\n",
       "0              2      13.4  22.900000       0.6     5.468232  7.611178   \n",
       "1              2       7.4  25.100000       0.0     5.468232  7.611178   \n",
       "2              2      12.9  25.700000       0.0     5.468232  7.611178   \n",
       "3              2       9.2  28.000000       0.0     5.468232  7.611178   \n",
       "4              2      17.5  32.300000       1.0     5.468232  7.611178   \n",
       "...          ...       ...        ...       ...          ...       ...   \n",
       "145455        41       2.8  23.400000       0.0     5.468232  7.611178   \n",
       "145456        41       3.6  25.300000       0.0     5.468232  7.611178   \n",
       "145457        41       5.4  26.900000       0.0     5.468232  7.611178   \n",
       "145458        41       7.8  27.000000       0.0     5.468232  7.611178   \n",
       "145459        41      14.9  23.221348       0.0     5.468232  7.611178   \n",
       "\n",
       "        wind_gust_dir  wind_gust_speed  wind_dir_9am  wind_dir_3pm  ...  \\\n",
       "0                  13         44.00000            13            14  ...   \n",
       "1                  14         44.00000             6            15  ...   \n",
       "2                  15         46.00000            13            15  ...   \n",
       "3                   4         24.00000             9             0  ...   \n",
       "4                  13         41.00000             1             7  ...   \n",
       "...               ...              ...           ...           ...  ...   \n",
       "145455              0         31.00000             9             1  ...   \n",
       "145456              6         22.00000             9             3  ...   \n",
       "145457              3         37.00000             9            14  ...   \n",
       "145458              9         28.00000            10             3  ...   \n",
       "145459             13         40.03523             2             2  ...   \n",
       "\n",
       "        pressure_9am  pressure_3pm  cloud_9am  cloud_3pm  temp_9am  temp_3pm  \\\n",
       "0             1007.7        1007.1   8.000000    4.50993      16.9      21.8   \n",
       "1             1010.6        1007.8   4.447461    4.50993      17.2      24.3   \n",
       "2             1007.6        1008.7   4.447461    2.00000      21.0      23.2   \n",
       "3             1017.6        1012.8   4.447461    4.50993      18.1      26.5   \n",
       "4             1010.8        1006.0   7.000000    8.00000      17.8      29.7   \n",
       "...              ...           ...        ...        ...       ...       ...   \n",
       "145455        1024.6        1020.3   4.447461    4.50993      10.1      22.4   \n",
       "145456        1023.5        1019.1   4.447461    4.50993      10.9      24.5   \n",
       "145457        1021.0        1016.8   4.447461    4.50993      12.5      26.1   \n",
       "145458        1019.4        1016.5   3.000000    2.00000      15.1      26.0   \n",
       "145459        1020.2        1017.9   8.000000    8.00000      15.0      20.9   \n",
       "\n",
       "        rain_today  date_day  date_month  date_year  \n",
       "0                0         1          12       2008  \n",
       "1                0         2          12       2008  \n",
       "2                0         3          12       2008  \n",
       "3                0         4          12       2008  \n",
       "4                0         5          12       2008  \n",
       "...            ...       ...         ...        ...  \n",
       "145455           0        21           6       2017  \n",
       "145456           0        22           6       2017  \n",
       "145457           0        23           6       2017  \n",
       "145458           0        24           6       2017  \n",
       "145459           0        25           6       2017  \n",
       "\n",
       "[145460 rows x 24 columns]"
      ]
     },
     "execution_count": 24,
     "metadata": {},
     "output_type": "execute_result"
    }
   ],
   "source": [
    "X"
   ]
  },
  {
   "cell_type": "markdown",
   "id": "2e02e994-a232-4c50-92b9-bb823f817288",
   "metadata": {},
   "source": [
    "Разбиваем данные на обучающую и тестовую выборки"
   ]
  },
  {
   "cell_type": "markdown",
   "id": "75bee900-125c-461f-a5e7-c6fa72420d7b",
   "metadata": {},
   "source": [
    "## Масштабируем числовые признаки."
   ]
  },
  {
   "cell_type": "code",
   "execution_count": 25,
   "id": "cbd54b45-67ab-4bc2-b2ac-53d088a86693",
   "metadata": {},
   "outputs": [],
   "source": [
    "from sklearn.preprocessing import MinMaxScaler, StandardScaler"
   ]
  },
  {
   "cell_type": "code",
   "execution_count": 26,
   "id": "13770162-27ec-4734-ab29-9f436c967f94",
   "metadata": {},
   "outputs": [],
   "source": [
    "normalizer = StandardScaler()\n",
    "X_normalized_zscore = normalizer.fit_transform(X)"
   ]
  },
  {
   "cell_type": "markdown",
   "id": "2b3bf33c-07cb-48c7-9695-81f8e6eda423",
   "metadata": {},
   "source": [
    "Этот метод преобразует данные, чтобы иметь среднее значение, равное нулю, и стандартное отклонение, равное единице."
   ]
  },
  {
   "cell_type": "markdown",
   "id": "6a3e6af2-b75a-4906-92fd-6fc1e6665896",
   "metadata": {},
   "source": [
    "## В случае дисбаланса проведите балансировку."
   ]
  },
  {
   "cell_type": "code",
   "execution_count": 27,
   "id": "0eb8ab69-639d-427a-a2df-5d213aaaca66",
   "metadata": {},
   "outputs": [
    {
     "data": {
      "text/plain": [
       "(113583, 24)"
      ]
     },
     "execution_count": 27,
     "metadata": {},
     "output_type": "execute_result"
    }
   ],
   "source": [
    "X_normalized_zscore[y==0].shape"
   ]
  },
  {
   "cell_type": "code",
   "execution_count": 28,
   "id": "b91c43ad-b2ef-4543-8214-f02d3b33a2e8",
   "metadata": {},
   "outputs": [
    {
     "data": {
      "text/plain": [
       "(31877, 24)"
      ]
     },
     "execution_count": 28,
     "metadata": {},
     "output_type": "execute_result"
    }
   ],
   "source": [
    "X_normalized_zscore[y==1].shape"
   ]
  },
  {
   "cell_type": "markdown",
   "id": "38095e59-4192-4865-a871-22c2bbfbaedc",
   "metadata": {},
   "source": [
    "Можем наблюдать дисбаланс"
   ]
  },
  {
   "cell_type": "code",
   "execution_count": 29,
   "id": "305a637a-2aad-4224-9b04-cc0bc5f40f08",
   "metadata": {},
   "outputs": [
    {
     "data": {
      "text/plain": [
       "(31877, 24)"
      ]
     },
     "execution_count": 29,
     "metadata": {},
     "output_type": "execute_result"
    }
   ],
   "source": [
    "from imblearn.under_sampling import RandomUnderSampler\n",
    "\n",
    "# Создание экземпляра RandomUnderSampler\n",
    "rus = RandomUnderSampler()\n",
    "\n",
    "# Применение уменьшения выборки к данным\n",
    "X_resampled, y_resampled = rus.fit_resample(X_normalized_zscore, y)\n",
    "\n",
    "X_resampled[y_resampled==0].shape"
   ]
  },
  {
   "cell_type": "code",
   "execution_count": 30,
   "id": "1362098d-384d-4185-aeac-00d2ec667d4c",
   "metadata": {},
   "outputs": [
    {
     "data": {
      "text/plain": [
       "(31877, 24)"
      ]
     },
     "execution_count": 30,
     "metadata": {},
     "output_type": "execute_result"
    }
   ],
   "source": [
    "X_resampled[y_resampled==1].shape"
   ]
  },
  {
   "cell_type": "markdown",
   "id": "ee7a2307-494f-4c69-82d7-7a2199645cc1",
   "metadata": {},
   "source": [
    "## Решите задачу классификации на ваших данных с использованием рас-смотренных моделей Sklearn: k-NN, Naive Bayes, Logistic Regression, SVM. Не забудьте подобрать гиперпараметры. Вычислите значения метрик Accuracy, Precision, Recall, F1, ROC AUC score."
   ]
  },
  {
   "cell_type": "code",
   "execution_count": 31,
   "id": "0581cb79-754f-42b8-a388-ac5666f786e4",
   "metadata": {},
   "outputs": [],
   "source": [
    "import numpy as np\n",
    "from sklearn.metrics import f1_score, cohen_kappa_score, confusion_matrix\n",
    "from sklearn.neighbors import KNeighborsClassifier"
   ]
  },
  {
   "cell_type": "code",
   "execution_count": 32,
   "id": "cf05002c-c9ba-4cfa-be15-8a344ce511d4",
   "metadata": {},
   "outputs": [],
   "source": [
    "from sklearn.model_selection import train_test_split\n",
    "X_train, X_test, y_train, y_test = train_test_split(X_resampled, y_resampled, test_size=0.2, random_state=0)"
   ]
  },
  {
   "cell_type": "code",
   "execution_count": 33,
   "id": "807c0a3f-f44f-4648-a888-e82be23c3250",
   "metadata": {},
   "outputs": [],
   "source": [
    "knn10 = KNeighborsClassifier(n_neighbors=10, metric='minkowski', p=2)\n",
    "knn100 = KNeighborsClassifier(n_neighbors=100, metric='minkowski', p=2)\n",
    "knn1000 = KNeighborsClassifier(n_neighbors=1000, metric='minkowski', p=2)\n",
    "knn10000 = KNeighborsClassifier(n_neighbors=10000, metric='minkowski', p=2)"
   ]
  },
  {
   "cell_type": "code",
   "execution_count": 34,
   "id": "5e6ef08a-3554-4ff5-812d-9379a7cf2955",
   "metadata": {},
   "outputs": [
    {
     "data": {
      "text/html": [
       "<style>#sk-container-id-2 {color: black;}#sk-container-id-2 pre{padding: 0;}#sk-container-id-2 div.sk-toggleable {background-color: white;}#sk-container-id-2 label.sk-toggleable__label {cursor: pointer;display: block;width: 100%;margin-bottom: 0;padding: 0.3em;box-sizing: border-box;text-align: center;}#sk-container-id-2 label.sk-toggleable__label-arrow:before {content: \"▸\";float: left;margin-right: 0.25em;color: #696969;}#sk-container-id-2 label.sk-toggleable__label-arrow:hover:before {color: black;}#sk-container-id-2 div.sk-estimator:hover label.sk-toggleable__label-arrow:before {color: black;}#sk-container-id-2 div.sk-toggleable__content {max-height: 0;max-width: 0;overflow: hidden;text-align: left;background-color: #f0f8ff;}#sk-container-id-2 div.sk-toggleable__content pre {margin: 0.2em;color: black;border-radius: 0.25em;background-color: #f0f8ff;}#sk-container-id-2 input.sk-toggleable__control:checked~div.sk-toggleable__content {max-height: 200px;max-width: 100%;overflow: auto;}#sk-container-id-2 input.sk-toggleable__control:checked~label.sk-toggleable__label-arrow:before {content: \"▾\";}#sk-container-id-2 div.sk-estimator input.sk-toggleable__control:checked~label.sk-toggleable__label {background-color: #d4ebff;}#sk-container-id-2 div.sk-label input.sk-toggleable__control:checked~label.sk-toggleable__label {background-color: #d4ebff;}#sk-container-id-2 input.sk-hidden--visually {border: 0;clip: rect(1px 1px 1px 1px);clip: rect(1px, 1px, 1px, 1px);height: 1px;margin: -1px;overflow: hidden;padding: 0;position: absolute;width: 1px;}#sk-container-id-2 div.sk-estimator {font-family: monospace;background-color: #f0f8ff;border: 1px dotted black;border-radius: 0.25em;box-sizing: border-box;margin-bottom: 0.5em;}#sk-container-id-2 div.sk-estimator:hover {background-color: #d4ebff;}#sk-container-id-2 div.sk-parallel-item::after {content: \"\";width: 100%;border-bottom: 1px solid gray;flex-grow: 1;}#sk-container-id-2 div.sk-label:hover label.sk-toggleable__label {background-color: #d4ebff;}#sk-container-id-2 div.sk-serial::before {content: \"\";position: absolute;border-left: 1px solid gray;box-sizing: border-box;top: 0;bottom: 0;left: 50%;z-index: 0;}#sk-container-id-2 div.sk-serial {display: flex;flex-direction: column;align-items: center;background-color: white;padding-right: 0.2em;padding-left: 0.2em;position: relative;}#sk-container-id-2 div.sk-item {position: relative;z-index: 1;}#sk-container-id-2 div.sk-parallel {display: flex;align-items: stretch;justify-content: center;background-color: white;position: relative;}#sk-container-id-2 div.sk-item::before, #sk-container-id-2 div.sk-parallel-item::before {content: \"\";position: absolute;border-left: 1px solid gray;box-sizing: border-box;top: 0;bottom: 0;left: 50%;z-index: -1;}#sk-container-id-2 div.sk-parallel-item {display: flex;flex-direction: column;z-index: 1;position: relative;background-color: white;}#sk-container-id-2 div.sk-parallel-item:first-child::after {align-self: flex-end;width: 50%;}#sk-container-id-2 div.sk-parallel-item:last-child::after {align-self: flex-start;width: 50%;}#sk-container-id-2 div.sk-parallel-item:only-child::after {width: 0;}#sk-container-id-2 div.sk-dashed-wrapped {border: 1px dashed gray;margin: 0 0.4em 0.5em 0.4em;box-sizing: border-box;padding-bottom: 0.4em;background-color: white;}#sk-container-id-2 div.sk-label label {font-family: monospace;font-weight: bold;display: inline-block;line-height: 1.2em;}#sk-container-id-2 div.sk-label-container {text-align: center;}#sk-container-id-2 div.sk-container {/* jupyter's `normalize.less` sets `[hidden] { display: none; }` but bootstrap.min.css set `[hidden] { display: none !important; }` so we also need the `!important` here to be able to override the default hidden behavior on the sphinx rendered scikit-learn.org. See: https://github.com/scikit-learn/scikit-learn/issues/21755 */display: inline-block !important;position: relative;}#sk-container-id-2 div.sk-text-repr-fallback {display: none;}</style><div id=\"sk-container-id-2\" class=\"sk-top-container\"><div class=\"sk-text-repr-fallback\"><pre>KNeighborsClassifier(n_neighbors=10000)</pre><b>In a Jupyter environment, please rerun this cell to show the HTML representation or trust the notebook. <br />On GitHub, the HTML representation is unable to render, please try loading this page with nbviewer.org.</b></div><div class=\"sk-container\" hidden><div class=\"sk-item\"><div class=\"sk-estimator sk-toggleable\"><input class=\"sk-toggleable__control sk-hidden--visually\" id=\"sk-estimator-id-2\" type=\"checkbox\" checked><label for=\"sk-estimator-id-2\" class=\"sk-toggleable__label sk-toggleable__label-arrow\">KNeighborsClassifier</label><div class=\"sk-toggleable__content\"><pre>KNeighborsClassifier(n_neighbors=10000)</pre></div></div></div></div></div>"
      ],
      "text/plain": [
       "KNeighborsClassifier(n_neighbors=10000)"
      ]
     },
     "execution_count": 34,
     "metadata": {},
     "output_type": "execute_result"
    }
   ],
   "source": [
    "knn10.fit(X_train,y_train)\n",
    "knn100.fit(X_train,y_train)\n",
    "knn1000.fit(X_train,y_train)\n",
    "knn10000.fit(X_train,y_train)"
   ]
  },
  {
   "cell_type": "code",
   "execution_count": 35,
   "id": "30a4f05e-fc74-4b37-b225-2e731e233064",
   "metadata": {},
   "outputs": [],
   "source": [
    "y_bin_knn_pred10 = knn10.predict(X_test)"
   ]
  },
  {
   "cell_type": "code",
   "execution_count": 36,
   "id": "aa6e5c51-2b72-4668-af39-126194ae8219",
   "metadata": {},
   "outputs": [
    {
     "data": {
      "text/plain": [
       "0.7698219747470787"
      ]
     },
     "execution_count": 36,
     "metadata": {},
     "output_type": "execute_result"
    }
   ],
   "source": [
    "from sklearn.metrics import accuracy_score\n",
    "\n",
    "accuracy_score(y_test, y_bin_knn_pred10)"
   ]
  },
  {
   "cell_type": "code",
   "execution_count": 37,
   "id": "b0ec5047-7c06-4e11-ac0e-cead40ddabdc",
   "metadata": {},
   "outputs": [
    {
     "data": {
      "text/plain": [
       "0.7773507960159988"
      ]
     },
     "execution_count": 37,
     "metadata": {},
     "output_type": "execute_result"
    }
   ],
   "source": [
    "y_bin_knn_pred100 = knn100.predict(X_test)\n",
    "accuracy_score(y_test, y_bin_knn_pred100)"
   ]
  },
  {
   "cell_type": "code",
   "execution_count": 38,
   "id": "ec9e632c-a9dd-4da2-9e5b-11900c824b55",
   "metadata": {},
   "outputs": [
    {
     "data": {
      "text/plain": [
       "0.7662144145557211"
      ]
     },
     "execution_count": 38,
     "metadata": {},
     "output_type": "execute_result"
    }
   ],
   "source": [
    "y_bin_knn_pred1000 = knn1000.predict(X_test)\n",
    "accuracy_score(y_test, y_bin_knn_pred1000)"
   ]
  },
  {
   "cell_type": "code",
   "execution_count": 39,
   "id": "f06640f5-6bfc-4f9b-9ece-e6c37fd93e05",
   "metadata": {},
   "outputs": [
    {
     "data": {
      "text/plain": [
       "0.7494314171437534"
      ]
     },
     "execution_count": 39,
     "metadata": {},
     "output_type": "execute_result"
    }
   ],
   "source": [
    "y_bin_knn_pred10000 = knn10000.predict(X_test)\n",
    "accuracy_score(y_test, y_bin_knn_pred10000)"
   ]
  },
  {
   "cell_type": "code",
   "execution_count": 40,
   "id": "fe435135-69fc-4e37-b08b-f480a315a142",
   "metadata": {},
   "outputs": [
    {
     "name": "stdout",
     "output_type": "stream",
     "text": [
      "              precision    recall  f1-score   support\n",
      "\n",
      "           0       0.74      0.82      0.78      6241\n",
      "           1       0.81      0.72      0.76      6510\n",
      "\n",
      "    accuracy                           0.77     12751\n",
      "   macro avg       0.77      0.77      0.77     12751\n",
      "weighted avg       0.77      0.77      0.77     12751\n",
      "\n"
     ]
    }
   ],
   "source": [
    "from sklearn.metrics import classification_report\n",
    "\n",
    "print(classification_report(y_test, y_bin_knn_pred10))"
   ]
  },
  {
   "cell_type": "code",
   "execution_count": 41,
   "id": "d1b71f56-8bbd-4349-9b62-660d6f58ff4a",
   "metadata": {},
   "outputs": [
    {
     "name": "stdout",
     "output_type": "stream",
     "text": [
      "              precision    recall  f1-score   support\n",
      "\n",
      "           0       0.75      0.81      0.78      6241\n",
      "           1       0.80      0.75      0.77      6510\n",
      "\n",
      "    accuracy                           0.78     12751\n",
      "   macro avg       0.78      0.78      0.78     12751\n",
      "weighted avg       0.78      0.78      0.78     12751\n",
      "\n"
     ]
    }
   ],
   "source": [
    "print(classification_report(y_test, y_bin_knn_pred100))"
   ]
  },
  {
   "cell_type": "code",
   "execution_count": 42,
   "id": "4c5fcd7d-9618-436b-afbc-a1eb9e935a22",
   "metadata": {},
   "outputs": [
    {
     "name": "stdout",
     "output_type": "stream",
     "text": [
      "0.7708069697168838\n"
     ]
    },
    {
     "data": {
      "image/png": "[encoded data removed]",
      "text/plain": [
       "<Figure size 640x480 with 1 Axes>"
      ]
     },
     "metadata": {},
     "output_type": "display_data"
    }
   ],
   "source": [
    "import matplotlib.pyplot as plt\n",
    "from sklearn.metrics import roc_auc_score\n",
    "from sklearn.metrics import roc_curve\n",
    "\n",
    "print(roc_auc_score(y_test, y_bin_knn_pred10))\n",
    "\n",
    "fpr, tpr, plot = roc_curve(y_test, y_bin_knn_pred10)\n",
    "\n",
    "plt.plot(fpr, tpr)\n",
    "plt.xlabel('Доля ложноположительных результатов')\n",
    "plt.ylabel('Истинно положительный коэффициент')\n",
    "plt.title('Кривая ROC')\n",
    "plt.show()"
   ]
  },
  {
   "cell_type": "code",
   "execution_count": 43,
   "id": "16d75cab-7ecc-4f55-8340-64b51b9a7e18",
   "metadata": {},
   "outputs": [
    {
     "name": "stdout",
     "output_type": "stream",
     "text": [
      "0.7779948563719774\n"
     ]
    },
    {
     "data": {
      "image/png": "[encoded data removed]",
      "text/plain": [
       "<Figure size 640x480 with 1 Axes>"
      ]
     },
     "metadata": {},
     "output_type": "display_data"
    }
   ],
   "source": [
    "print(roc_auc_score(y_test, y_bin_knn_pred100))\n",
    "\n",
    "fpr, tpr, plot = roc_curve(y_test, y_bin_knn_pred100)\n",
    "\n",
    "plt.plot(fpr, tpr)\n",
    "plt.xlabel('Доля ложноположительных результатов')\n",
    "plt.ylabel('Истинно положительный коэффициент')\n",
    "plt.title('Кривая ROC')\n",
    "plt.show()"
   ]
  },
  {
   "cell_type": "code",
   "execution_count": 44,
   "id": "bc05141d-91d1-4a85-8478-5604a25561b4",
   "metadata": {},
   "outputs": [],
   "source": [
    "from sklearn.naive_bayes import GaussianNB"
   ]
  },
  {
   "cell_type": "code",
   "execution_count": 45,
   "id": "a2617823-2f22-48ae-846e-60c9ea156aa4",
   "metadata": {},
   "outputs": [
    {
     "data": {
      "text/plain": [
       "0.7474707866049721"
      ]
     },
     "execution_count": 45,
     "metadata": {},
     "output_type": "execute_result"
    }
   ],
   "source": [
    "gnb = GaussianNB()\n",
    "gnb.fit(X_train, y_train)\n",
    "y_pred = gnb.predict(X_test)\n",
    "accuracy_score(y_test, y_pred)"
   ]
  },
  {
   "cell_type": "code",
   "execution_count": 46,
   "id": "79b87218-7495-4c74-8221-24f05249222f",
   "metadata": {},
   "outputs": [
    {
     "name": "stdout",
     "output_type": "stream",
     "text": [
      "              precision    recall  f1-score   support\n",
      "\n",
      "           0       0.72      0.80      0.76      6241\n",
      "           1       0.78      0.70      0.74      6510\n",
      "\n",
      "    accuracy                           0.75     12751\n",
      "   macro avg       0.75      0.75      0.75     12751\n",
      "weighted avg       0.75      0.75      0.75     12751\n",
      "\n"
     ]
    }
   ],
   "source": [
    "print(classification_report(y_test, y_pred))"
   ]
  },
  {
   "cell_type": "code",
   "execution_count": 47,
   "id": "9f93fe87-1b1c-4300-bddc-8206bc345a6f",
   "metadata": {},
   "outputs": [
    {
     "name": "stdout",
     "output_type": "stream",
     "text": [
      "0.7485732819315114\n"
     ]
    },
    {
     "data": {
      "image/png": "[encoded data removed]",
      "text/plain": [
       "<Figure size 640x480 with 1 Axes>"
      ]
     },
     "metadata": {},
     "output_type": "display_data"
    }
   ],
   "source": [
    "print(roc_auc_score(y_test, y_pred))\n",
    "\n",
    "fpr, tpr, plot = roc_curve(y_test, y_pred)\n",
    "\n",
    "plt.plot(fpr, tpr)\n",
    "plt.xlabel('Доля ложноположительных результатов')\n",
    "plt.ylabel('Истинно положительный коэффициент')\n",
    "plt.title('Кривая ROC')\n",
    "plt.show()"
   ]
  },
  {
   "cell_type": "code",
   "execution_count": 48,
   "id": "dc9f45ab-e996-4d72-90cb-75376d5c2268",
   "metadata": {},
   "outputs": [],
   "source": [
    "model = LogisticRegression(C=0.1, penalty='l1', solver='liblinear', max_iter=200, class_weight='balanced')"
   ]
  },
  {
   "cell_type": "code",
   "execution_count": 49,
   "id": "a8aa532a-2b36-477b-be7e-66c6834fdf48",
   "metadata": {},
   "outputs": [
    {
     "data": {
      "text/html": [
       "<style>#sk-container-id-3 {color: black;}#sk-container-id-3 pre{padding: 0;}#sk-container-id-3 div.sk-toggleable {background-color: white;}#sk-container-id-3 label.sk-toggleable__label {cursor: pointer;display: block;width: 100%;margin-bottom: 0;padding: 0.3em;box-sizing: border-box;text-align: center;}#sk-container-id-3 label.sk-toggleable__label-arrow:before {content: \"▸\";float: left;margin-right: 0.25em;color: #696969;}#sk-container-id-3 label.sk-toggleable__label-arrow:hover:before {color: black;}#sk-container-id-3 div.sk-estimator:hover label.sk-toggleable__label-arrow:before {color: black;}#sk-container-id-3 div.sk-toggleable__content {max-height: 0;max-width: 0;overflow: hidden;text-align: left;background-color: #f0f8ff;}#sk-container-id-3 div.sk-toggleable__content pre {margin: 0.2em;color: black;border-radius: 0.25em;background-color: #f0f8ff;}#sk-container-id-3 input.sk-toggleable__control:checked~div.sk-toggleable__content {max-height: 200px;max-width: 100%;overflow: auto;}#sk-container-id-3 input.sk-toggleable__control:checked~label.sk-toggleable__label-arrow:before {content: \"▾\";}#sk-container-id-3 div.sk-estimator input.sk-toggleable__control:checked~label.sk-toggleable__label {background-color: #d4ebff;}#sk-container-id-3 div.sk-label input.sk-toggleable__control:checked~label.sk-toggleable__label {background-color: #d4ebff;}#sk-container-id-3 input.sk-hidden--visually {border: 0;clip: rect(1px 1px 1px 1px);clip: rect(1px, 1px, 1px, 1px);height: 1px;margin: -1px;overflow: hidden;padding: 0;position: absolute;width: 1px;}#sk-container-id-3 div.sk-estimator {font-family: monospace;background-color: #f0f8ff;border: 1px dotted black;border-radius: 0.25em;box-sizing: border-box;margin-bottom: 0.5em;}#sk-container-id-3 div.sk-estimator:hover {background-color: #d4ebff;}#sk-container-id-3 div.sk-parallel-item::after {content: \"\";width: 100%;border-bottom: 1px solid gray;flex-grow: 1;}#sk-container-id-3 div.sk-label:hover label.sk-toggleable__label {background-color: #d4ebff;}#sk-container-id-3 div.sk-serial::before {content: \"\";position: absolute;border-left: 1px solid gray;box-sizing: border-box;top: 0;bottom: 0;left: 50%;z-index: 0;}#sk-container-id-3 div.sk-serial {display: flex;flex-direction: column;align-items: center;background-color: white;padding-right: 0.2em;padding-left: 0.2em;position: relative;}#sk-container-id-3 div.sk-item {position: relative;z-index: 1;}#sk-container-id-3 div.sk-parallel {display: flex;align-items: stretch;justify-content: center;background-color: white;position: relative;}#sk-container-id-3 div.sk-item::before, #sk-container-id-3 div.sk-parallel-item::before {content: \"\";position: absolute;border-left: 1px solid gray;box-sizing: border-box;top: 0;bottom: 0;left: 50%;z-index: -1;}#sk-container-id-3 div.sk-parallel-item {display: flex;flex-direction: column;z-index: 1;position: relative;background-color: white;}#sk-container-id-3 div.sk-parallel-item:first-child::after {align-self: flex-end;width: 50%;}#sk-container-id-3 div.sk-parallel-item:last-child::after {align-self: flex-start;width: 50%;}#sk-container-id-3 div.sk-parallel-item:only-child::after {width: 0;}#sk-container-id-3 div.sk-dashed-wrapped {border: 1px dashed gray;margin: 0 0.4em 0.5em 0.4em;box-sizing: border-box;padding-bottom: 0.4em;background-color: white;}#sk-container-id-3 div.sk-label label {font-family: monospace;font-weight: bold;display: inline-block;line-height: 1.2em;}#sk-container-id-3 div.sk-label-container {text-align: center;}#sk-container-id-3 div.sk-container {/* jupyter's `normalize.less` sets `[hidden] { display: none; }` but bootstrap.min.css set `[hidden] { display: none !important; }` so we also need the `!important` here to be able to override the default hidden behavior on the sphinx rendered scikit-learn.org. See: https://github.com/scikit-learn/scikit-learn/issues/21755 */display: inline-block !important;position: relative;}#sk-container-id-3 div.sk-text-repr-fallback {display: none;}</style><div id=\"sk-container-id-3\" class=\"sk-top-container\"><div class=\"sk-text-repr-fallback\"><pre>LogisticRegression(C=0.1, class_weight=&#x27;balanced&#x27;, max_iter=200, penalty=&#x27;l1&#x27;,\n",
       "                   solver=&#x27;liblinear&#x27;)</pre><b>In a Jupyter environment, please rerun this cell to show the HTML representation or trust the notebook. <br />On GitHub, the HTML representation is unable to render, please try loading this page with nbviewer.org.</b></div><div class=\"sk-container\" hidden><div class=\"sk-item\"><div class=\"sk-estimator sk-toggleable\"><input class=\"sk-toggleable__control sk-hidden--visually\" id=\"sk-estimator-id-3\" type=\"checkbox\" checked><label for=\"sk-estimator-id-3\" class=\"sk-toggleable__label sk-toggleable__label-arrow\">LogisticRegression</label><div class=\"sk-toggleable__content\"><pre>LogisticRegression(C=0.1, class_weight=&#x27;balanced&#x27;, max_iter=200, penalty=&#x27;l1&#x27;,\n",
       "                   solver=&#x27;liblinear&#x27;)</pre></div></div></div></div></div>"
      ],
      "text/plain": [
       "LogisticRegression(C=0.1, class_weight='balanced', max_iter=200, penalty='l1',\n",
       "                   solver='liblinear')"
      ]
     },
     "execution_count": 49,
     "metadata": {},
     "output_type": "execute_result"
    }
   ],
   "source": [
    "model.fit(X_train, y_train)"
   ]
  },
  {
   "cell_type": "code",
   "execution_count": 50,
   "id": "df907eb3-7e0d-43e3-bf9b-ab54e27c0ac3",
   "metadata": {},
   "outputs": [
    {
     "data": {
      "text/plain": [
       "0.7782918986746138"
      ]
     },
     "execution_count": 50,
     "metadata": {},
     "output_type": "execute_result"
    }
   ],
   "source": [
    "rain_probability = model.predict(X_test)\n",
    "accuracy_score(y_test, rain_probability)"
   ]
  },
  {
   "cell_type": "code",
   "execution_count": 51,
   "id": "7b232a76-f4da-4b4b-a199-5ee37240fb75",
   "metadata": {},
   "outputs": [
    {
     "name": "stdout",
     "output_type": "stream",
     "text": [
      "              precision    recall  f1-score   support\n",
      "\n",
      "           0       0.76      0.79      0.78      6241\n",
      "           1       0.79      0.77      0.78      6510\n",
      "\n",
      "    accuracy                           0.78     12751\n",
      "   macro avg       0.78      0.78      0.78     12751\n",
      "weighted avg       0.78      0.78      0.78     12751\n",
      "\n"
     ]
    }
   ],
   "source": [
    "print(classification_report(y_test, rain_probability))"
   ]
  },
  {
   "cell_type": "code",
   "execution_count": 52,
   "id": "1c832239-6246-4dc1-aad7-429b4da448b9",
   "metadata": {},
   "outputs": [
    {
     "name": "stdout",
     "output_type": "stream",
     "text": [
      "0.7785291926364749\n"
     ]
    },
    {
     "data": {
      "image/png": "[encoded data removed]",
      "text/plain": [
       "<Figure size 640x480 with 1 Axes>"
      ]
     },
     "metadata": {},
     "output_type": "display_data"
    }
   ],
   "source": [
    "print(roc_auc_score(y_test, rain_probability))\n",
    "\n",
    "fpr, tpr, plot = roc_curve(y_test, rain_probability)\n",
    "\n",
    "plt.plot(fpr, tpr)\n",
    "plt.xlabel('Доля ложноположительных результатов')\n",
    "plt.ylabel('Истинно положительный коэффициент')\n",
    "plt.title('Кривая ROC')\n",
    "plt.show()"
   ]
  },
  {
   "cell_type": "code",
   "execution_count": 53,
   "id": "bee5efda-e60e-4f32-8688-2cfe0a02fbfd",
   "metadata": {},
   "outputs": [],
   "source": [
    "from sklearn import svm"
   ]
  },
  {
   "cell_type": "code",
   "execution_count": 54,
   "id": "7be358ac-8fcd-4496-ae8a-719a29967839",
   "metadata": {},
   "outputs": [
    {
     "data": {
      "text/plain": [
       "0.7987608814994902"
      ]
     },
     "execution_count": 54,
     "metadata": {},
     "output_type": "execute_result"
    }
   ],
   "source": [
    "clf = svm.SVC()\n",
    "clf.fit(X_train, y_train)\n",
    "\n",
    "y_pred = clf.predict(X_test)\n",
    "accuracy_score(y_test, y_pred)"
   ]
  },
  {
   "cell_type": "code",
   "execution_count": 55,
   "id": "50788287-19a5-40a6-adbb-897a7c4adcc3",
   "metadata": {},
   "outputs": [
    {
     "name": "stdout",
     "output_type": "stream",
     "text": [
      "              precision    recall  f1-score   support\n",
      "\n",
      "           0       0.79      0.81      0.80      6241\n",
      "           1       0.81      0.79      0.80      6510\n",
      "\n",
      "    accuracy                           0.80     12751\n",
      "   macro avg       0.80      0.80      0.80     12751\n",
      "weighted avg       0.80      0.80      0.80     12751\n",
      "\n"
     ]
    }
   ],
   "source": [
    "print(classification_report(y_test, y_pred))"
   ]
  },
  {
   "cell_type": "code",
   "execution_count": 56,
   "id": "14bb6c3d-0a8c-4d16-8a9b-38a4288a074d",
   "metadata": {},
   "outputs": [
    {
     "name": "stdout",
     "output_type": "stream",
     "text": [
      "0.798992392362975\n"
     ]
    },
    {
     "data": {
      "image/png": "[encoded data removed]",
      "text/plain": [
       "<Figure size 640x480 with 1 Axes>"
      ]
     },
     "metadata": {},
     "output_type": "display_data"
    }
   ],
   "source": [
    "print(roc_auc_score(y_test, y_pred))\n",
    "\n",
    "fpr, tpr, plot = roc_curve(y_test, y_pred)\n",
    "\n",
    "plt.plot(fpr, tpr)\n",
    "plt.xlabel('Доля ложноположительных результатов')\n",
    "plt.ylabel('Истинно положительный коэффициент')\n",
    "plt.title('Кривая ROC')\n",
    "plt.show()"
   ]
  },
  {
   "cell_type": "markdown",
   "id": "d88fc4fd-dde1-40a1-b9f2-b68a262efb11",
   "metadata": {},
   "source": [
    "## Построим итоговую модель классификаторов"
   ]
  },
  {
   "cell_type": "code",
   "execution_count": 57,
   "id": "e3aa0d47-3d3f-4ab2-9379-541674a8e156",
   "metadata": {},
   "outputs": [],
   "source": [
    "classifiers = {\n",
    "    'Logistic Regression': model,\n",
    "    'KNN classifier': knn100,\n",
    "    'SVM': clf,\n",
    "    'Naive Bayes' : gnb\n",
    "}"
   ]
  },
  {
   "cell_type": "code",
   "execution_count": 58,
   "id": "33b87eb8-2e26-4353-b52e-4c4afbcc8d60",
   "metadata": {},
   "outputs": [
    {
     "name": "stdout",
     "output_type": "stream",
     "text": [
      "Accuracy (train) for Logistic Regression: 77.8% \n",
      "              precision    recall  f1-score   support\n",
      "\n",
      "           0       0.76      0.79      0.78      6241\n",
      "           1       0.79      0.77      0.78      6510\n",
      "\n",
      "    accuracy                           0.78     12751\n",
      "   macro avg       0.78      0.78      0.78     12751\n",
      "weighted avg       0.78      0.78      0.78     12751\n",
      "\n",
      "Accuracy (train) for KNN classifier: 77.7% \n",
      "              precision    recall  f1-score   support\n",
      "\n",
      "           0       0.75      0.81      0.78      6241\n",
      "           1       0.80      0.75      0.77      6510\n",
      "\n",
      "    accuracy                           0.78     12751\n",
      "   macro avg       0.78      0.78      0.78     12751\n",
      "weighted avg       0.78      0.78      0.78     12751\n",
      "\n",
      "Accuracy (train) for SVM: 79.9% \n",
      "              precision    recall  f1-score   support\n",
      "\n",
      "           0       0.79      0.81      0.80      6241\n",
      "           1       0.81      0.79      0.80      6510\n",
      "\n",
      "    accuracy                           0.80     12751\n",
      "   macro avg       0.80      0.80      0.80     12751\n",
      "weighted avg       0.80      0.80      0.80     12751\n",
      "\n",
      "Accuracy (train) for Naive Bayes: 74.7% \n",
      "              precision    recall  f1-score   support\n",
      "\n",
      "           0       0.72      0.80      0.76      6241\n",
      "           1       0.78      0.70      0.74      6510\n",
      "\n",
      "    accuracy                           0.75     12751\n",
      "   macro avg       0.75      0.75      0.75     12751\n",
      "weighted avg       0.75      0.75      0.75     12751\n",
      "\n"
     ]
    }
   ],
   "source": [
    "n_classifiers = len(classifiers)\n",
    "\n",
    "for index, (name, classifier) in enumerate(classifiers.items()):\n",
    "\n",
    "    y_pred = classifier.predict(X_test)\n",
    "    accuracy = accuracy_score(y_test, y_pred)\n",
    "    print(\"Accuracy (train) for %s: %0.1f%% \" % (name, accuracy * 100))\n",
    "    print(classification_report(y_test,y_pred))"
   ]
  },
  {
   "cell_type": "markdown",
   "id": "1aafa478-3c94-4a8a-a530-0bfd586d34d5",
   "metadata": {},
   "source": [
    "# Задание 3"
   ]
  },
  {
   "cell_type": "code",
   "execution_count": 59,
   "id": "e6351417-df34-417c-8258-2099d68e6816",
   "metadata": {},
   "outputs": [],
   "source": [
    "#Для начала реализуем метрику Accuracy:\n",
    "\n",
    "#(количество верно классифицированных объектов) / (общее количество объектов)\n",
    "def accuracy(y_true, y_pred):\n",
    "    correct = 0\n",
    "    for i in range(len(y_true)):\n",
    "        if y_true[i] == y_pred[i]:\n",
    "            correct += 1\n",
    "    return correct / len(y_true)"
   ]
  },
  {
   "cell_type": "code",
   "execution_count": 60,
   "id": "81cb1806-dab4-47f9-aa2d-bf26ee454624",
   "metadata": {},
   "outputs": [],
   "source": [
    "#Реализуем метрику Precision:\n",
    "#истинноположительных классификаций к общему числу положительных классификаций\n",
    "def precision(y_true, y_pred):\n",
    "    true_positives = 0\n",
    "    false_positives = 0\n",
    "    for i in range(len(y_true)):\n",
    "        if y_true[i] == 1 and y_pred[i] == 1:\n",
    "            true_positives += 1\n",
    "        elif y_true[i] == 0 and y_pred[i] == 1:\n",
    "            false_positives += 1\n",
    "\n",
    "    if true_positives + false_positives == 0:\n",
    "        return 0\n",
    "\n",
    "    return true_positives / (true_positives + false_positives)"
   ]
  },
  {
   "cell_type": "code",
   "execution_count": 61,
   "id": "c1ce6c85-5479-4515-8d57-1c781f114be7",
   "metadata": {},
   "outputs": [],
   "source": [
    "#Реализуем метрику Recall:\n",
    "#число истинноположительных классификаций относительно общего числа положительных наблюдений\n",
    "def recall(y_true, y_pred):\n",
    "    true_positives = 0\n",
    "    false_negatives = 0\n",
    "    for i in range(len(y_true)):\n",
    "        if y_true[i] == 1 and y_pred[i] == 1:\n",
    "            true_positives += 1\n",
    "        elif y_true[i] == 1 and y_pred[i] == 0:\n",
    "            false_negatives += 1\n",
    "\n",
    "    if true_positives + false_negatives == 0:\n",
    "        return 0\n",
    "\n",
    "    return true_positives / (true_positives + false_negatives)"
   ]
  },
  {
   "cell_type": "code",
   "execution_count": 62,
   "id": "847d301b-cb5f-41d0-a835-01ebab1df412",
   "metadata": {},
   "outputs": [],
   "source": [
    "#Реализуем метрику F1:\n",
    "# Среднее гормоническое между precision и recall\n",
    "def f1_score(y_true, y_pred):\n",
    "    precision_val = precision(y_true, y_pred)\n",
    "    recall_val = recall(y_true, y_pred)\n",
    "\n",
    "    if precision_val + recall_val == 0:\n",
    "        return 0\n",
    "\n",
    "    return 2 * (precision_val * recall_val) / (precision_val + recall_val)"
   ]
  },
  {
   "cell_type": "code",
   "execution_count": 90,
   "id": "01b9ecac-f1a5-45af-940e-3cf2eec6c7a8",
   "metadata": {},
   "outputs": [],
   "source": [
    "#Теперь реализуем алгоритм kNN:\n",
    "\n",
    "# Расстояние Евклида между двумя точками\n",
    "#вычисляет Евклидово расстояние между двумя точками в n-мерном пространстве.\n",
    "#Она используется для измерения расстояния между новой точкой и обучающими данными.\n",
    "\n",
    "def euclidean_distance(x1, x2):\n",
    "    return np.sqrt(np.sum((x1 - x2) ** 2))\n",
    "\n",
    "class KNN:\n",
    "    # Устанавливаем параметры\n",
    "    def __init__(self, k=3):\n",
    "        self.k = k\n",
    "    # Сохраняем обучающие данные \n",
    "    def fit(self, X, y):\n",
    "        self.X_train = X\n",
    "        self.y_train = y\n",
    "    #Для каждого элемента x в X вызывается метод _predict, чтобы получить предсказание для отдельного элемента.\n",
    "    def predict(self, X):\n",
    "        y_pred = [self._predict(x) for x in X]\n",
    "        return np.array(y_pred)\n",
    "    \n",
    "    def _predict(self, x):\n",
    "        #Вычисляем расстояния от x до всех обучающих данных с помощью функции euclidean_distance.\n",
    "        distances = [euclidean_distance(x, x_train) for x_train in self.X_train]\n",
    "        # Сортируем расстояния и получаем индексы k ближайших соседей.\n",
    "        k_indices = np.argsort(distances)[:self.k]\n",
    "        # Метки классов k ближайших соседей\n",
    "        k_nearest_labels = [self.y_train[i] for i in k_indices]\n",
    "\n",
    "        # Подсчет самого частого класса\n",
    "        counts = np.bincount(k_nearest_labels)\n",
    "        most_common = np.argmax(counts)\n",
    "\n",
    "        # Возвращаем самый частый класс\n",
    "        return most_common"
   ]
  },
  {
   "cell_type": "markdown",
   "id": "e8205bcd-2200-4cfd-abb0-652a841fa970",
   "metadata": {},
   "source": [
    "Проверим работу"
   ]
  },
  {
   "cell_type": "code",
   "execution_count": 97,
   "id": "4be4642f-e0c7-47a4-86ef-e39454ed96d6",
   "metadata": {},
   "outputs": [
    {
     "name": "stdout",
     "output_type": "stream",
     "text": [
      "[0 1 0]\n"
     ]
    }
   ],
   "source": [
    "X_train2 = np.array([[1, 2], [1.5, 1.8], [5, 8], [8, 8], [1, 0], [9, 11]])\n",
    "y_train2 = np.array([0, 0, 1, 1, 0, 1])\n",
    "\n",
    "knn = KNN(k=3)\n",
    "knn.fit(X_train2, y_train2)\n",
    "\n",
    "X_test2 = np.array([[2, 3], [6, 9], [1, 1]])\n",
    "y_test2 = np.array([0, 1, 1])\n",
    "y_pred2 = knn.predict(X_test2)\n",
    "print(y_pred2)"
   ]
  },
  {
   "cell_type": "code",
   "execution_count": 98,
   "id": "8c838887-9abb-42e6-8fb6-ca68b2b67c2d",
   "metadata": {},
   "outputs": [
    {
     "data": {
      "text/plain": [
       "0.6666666666666666"
      ]
     },
     "execution_count": 98,
     "metadata": {},
     "output_type": "execute_result"
    }
   ],
   "source": [
    "accuracy(y_test2, y_pred2)"
   ]
  },
  {
   "cell_type": "code",
   "execution_count": 99,
   "id": "a70e346f-4518-4b11-9dde-12ea14f34c97",
   "metadata": {},
   "outputs": [
    {
     "data": {
      "text/plain": [
       "1.0"
      ]
     },
     "execution_count": 99,
     "metadata": {},
     "output_type": "execute_result"
    }
   ],
   "source": [
    "precision(y_test2, y_pred2)"
   ]
  },
  {
   "cell_type": "code",
   "execution_count": 100,
   "id": "92369f8b-beed-48d2-a14f-ba3eeedc1d2c",
   "metadata": {},
   "outputs": [
    {
     "data": {
      "text/plain": [
       "0.5"
      ]
     },
     "execution_count": 100,
     "metadata": {},
     "output_type": "execute_result"
    }
   ],
   "source": [
    "recall(y_test2, y_pred2)"
   ]
  },
  {
   "cell_type": "code",
   "execution_count": 101,
   "id": "bb0ca75f-017f-4749-bc37-658aff8aba1e",
   "metadata": {},
   "outputs": [
    {
     "data": {
      "text/plain": [
       "0.6666666666666666"
      ]
     },
     "execution_count": 101,
     "metadata": {},
     "output_type": "execute_result"
    }
   ],
   "source": [
    "f1_score(y_test2, y_pred2)"
   ]
  }
 ],
 "metadata": {
  "kernelspec": {
   "display_name": "Python 3 (ipykernel)",
   "language": "python",
   "name": "python3"
  },
  "language_info": {
   "codemirror_mode": {
    "name": "ipython",
    "version": 3
   },
   "file_extension": ".py",
   "mimetype": "text/x-python",
   "name": "python",
   "nbconvert_exporter": "python",
   "pygments_lexer": "ipython3",
   "version": "3.11.2"
  }
 },
 "nbformat": 4,
 "nbformat_minor": 5
}
